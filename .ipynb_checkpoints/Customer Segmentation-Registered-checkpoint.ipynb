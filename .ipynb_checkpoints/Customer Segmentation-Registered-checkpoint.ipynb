{
 "cells": [
  {
   "cell_type": "markdown",
   "metadata": {},
   "source": [
    "## Recency, Frequency, Monetary (RFM) Analysis \n",
    "### Registered User"
   ]
  },
  {
   "cell_type": "code",
   "execution_count": 1,
   "metadata": {},
   "outputs": [],
   "source": [
    "import pandas as pd\n",
    "import datetime as dt\n",
    "import seaborn as sns \n",
    "import numpy as np\n",
    "import matplotlib.pyplot as plt"
   ]
  },
  {
   "cell_type": "code",
   "execution_count": 2,
   "metadata": {},
   "outputs": [],
   "source": [
    "df = pd.read_csv('EVN/clean_df.csv') "
   ]
  },
  {
   "cell_type": "code",
   "execution_count": 3,
   "metadata": {
    "scrolled": false
   },
   "outputs": [
    {
     "name": "stdout",
     "output_type": "stream",
     "text": [
      "<class 'pandas.core.frame.DataFrame'>\n",
      "RangeIndex: 69117 entries, 0 to 69116\n",
      "Data columns (total 17 columns):\n",
      " #   Column             Non-Null Count  Dtype \n",
      "---  ------             --------------  ----- \n",
      " 0   user_id            69117 non-null  object\n",
      " 1   event_id           69117 non-null  object\n",
      " 2   trx_date           69117 non-null  object\n",
      " 3   price              69117 non-null  int64 \n",
      " 4   total_ticket_sold  69117 non-null  int64 \n",
      " 5   user_type          69117 non-null  object\n",
      " 6   location           69117 non-null  object\n",
      " 7   years              69117 non-null  int64 \n",
      " 8   month_year         69117 non-null  object\n",
      " 9   days               69117 non-null  int64 \n",
      " 10  hours              69117 non-null  int64 \n",
      " 11  date               69117 non-null  object\n",
      " 12  dayofmonth         69117 non-null  int64 \n",
      " 13  total_price        69117 non-null  int64 \n",
      " 14  word_event         69117 non-null  object\n",
      " 15  sub_category       69117 non-null  object\n",
      " 16  invoice_number     69117 non-null  int64 \n",
      "dtypes: int64(8), object(9)\n",
      "memory usage: 9.0+ MB\n"
     ]
    }
   ],
   "source": [
    "df.info()"
   ]
  },
  {
   "cell_type": "code",
   "execution_count": 4,
   "metadata": {},
   "outputs": [],
   "source": [
    "df['invoice_number'] = df['invoice_number'].astype('str')"
   ]
  },
  {
   "cell_type": "code",
   "execution_count": 5,
   "metadata": {},
   "outputs": [],
   "source": [
    "df['trx_date'] = pd.to_datetime(df['trx_date'])"
   ]
  },
  {
   "cell_type": "markdown",
   "metadata": {},
   "source": [
    "#### Specified only for Registerd user type"
   ]
  },
  {
   "cell_type": "code",
   "execution_count": 6,
   "metadata": {},
   "outputs": [],
   "source": [
    "df = df[df['user_type']=='Registered']"
   ]
  },
  {
   "cell_type": "markdown",
   "metadata": {},
   "source": [
    "#### Grouping Into RFM Dataframe"
   ]
  },
  {
   "cell_type": "code",
   "execution_count": 7,
   "metadata": {},
   "outputs": [],
   "source": [
    "snapshot_date = max(df.trx_date) + dt.timedelta(days=1)"
   ]
  },
  {
   "cell_type": "code",
   "execution_count": 8,
   "metadata": {},
   "outputs": [
    {
     "data": {
      "text/html": [
       "<div>\n",
       "<style scoped>\n",
       "    .dataframe tbody tr th:only-of-type {\n",
       "        vertical-align: middle;\n",
       "    }\n",
       "\n",
       "    .dataframe tbody tr th {\n",
       "        vertical-align: top;\n",
       "    }\n",
       "\n",
       "    .dataframe thead th {\n",
       "        text-align: right;\n",
       "    }\n",
       "</style>\n",
       "<table border=\"1\" class=\"dataframe\">\n",
       "  <thead>\n",
       "    <tr style=\"text-align: right;\">\n",
       "      <th></th>\n",
       "      <th>Recency</th>\n",
       "      <th>Frequency</th>\n",
       "      <th>MonetaryValue</th>\n",
       "    </tr>\n",
       "    <tr>\n",
       "      <th>user_id</th>\n",
       "      <th></th>\n",
       "      <th></th>\n",
       "      <th></th>\n",
       "    </tr>\n",
       "  </thead>\n",
       "  <tbody>\n",
       "    <tr>\n",
       "      <th>000d596f61a329e66ddc8b83cf4a92eb2278646f26de22b2744d91f087655c48</th>\n",
       "      <td>545</td>\n",
       "      <td>1</td>\n",
       "      <td>200000</td>\n",
       "    </tr>\n",
       "    <tr>\n",
       "      <th>000e9d2d78e491e609fb4e51a50a618f7b7993f9b9fa2689f1710431a9e9466b</th>\n",
       "      <td>453</td>\n",
       "      <td>1</td>\n",
       "      <td>875000</td>\n",
       "    </tr>\n",
       "    <tr>\n",
       "      <th>00146b96f857a3f3f780b7e16ea8d5d2694f0dd373cad33b123e3dd6d5890dbf</th>\n",
       "      <td>163</td>\n",
       "      <td>1</td>\n",
       "      <td>30000</td>\n",
       "    </tr>\n",
       "    <tr>\n",
       "      <th>0018ea7b3a2c90c06b832395fad89f56118044018673ef302de87d69db0f4a56</th>\n",
       "      <td>120</td>\n",
       "      <td>1</td>\n",
       "      <td>1500000</td>\n",
       "    </tr>\n",
       "    <tr>\n",
       "      <th>001c27164a52edca6eddd042aba5368b23d42a154c1b25969775e72c26bba5c8</th>\n",
       "      <td>83</td>\n",
       "      <td>3</td>\n",
       "      <td>259000</td>\n",
       "    </tr>\n",
       "  </tbody>\n",
       "</table>\n",
       "</div>"
      ],
      "text/plain": [
       "                                                    Recency  Frequency  \\\n",
       "user_id                                                                  \n",
       "000d596f61a329e66ddc8b83cf4a92eb2278646f26de22b...      545          1   \n",
       "000e9d2d78e491e609fb4e51a50a618f7b7993f9b9fa268...      453          1   \n",
       "00146b96f857a3f3f780b7e16ea8d5d2694f0dd373cad33...      163          1   \n",
       "0018ea7b3a2c90c06b832395fad89f56118044018673ef3...      120          1   \n",
       "001c27164a52edca6eddd042aba5368b23d42a154c1b259...       83          3   \n",
       "\n",
       "                                                    MonetaryValue  \n",
       "user_id                                                            \n",
       "000d596f61a329e66ddc8b83cf4a92eb2278646f26de22b...         200000  \n",
       "000e9d2d78e491e609fb4e51a50a618f7b7993f9b9fa268...         875000  \n",
       "00146b96f857a3f3f780b7e16ea8d5d2694f0dd373cad33...          30000  \n",
       "0018ea7b3a2c90c06b832395fad89f56118044018673ef3...        1500000  \n",
       "001c27164a52edca6eddd042aba5368b23d42a154c1b259...         259000  "
      ]
     },
     "execution_count": 8,
     "metadata": {},
     "output_type": "execute_result"
    }
   ],
   "source": [
    "# Calculate Recency, Frequency and Monetary value for each customer \n",
    "datamart = df.groupby('user_id').agg({'trx_date': lambda x: (snapshot_date - x.max()).days, \n",
    "                                             'invoice_number': 'count', \n",
    "                                             'total_price': 'sum'})\n",
    "\n",
    "# Rename the columns \n",
    "datamart.rename(columns={'trx_date': 'Recency',\n",
    "                         'invoice_number': 'Frequency',\n",
    "                         'total_price': 'MonetaryValue'}, inplace=True)\n",
    "\n",
    "# Print top 5 rows\n",
    "datamart.head()"
   ]
  },
  {
   "cell_type": "code",
   "execution_count": 9,
   "metadata": {},
   "outputs": [
    {
     "data": {
      "text/html": [
       "<div>\n",
       "<style scoped>\n",
       "    .dataframe tbody tr th:only-of-type {\n",
       "        vertical-align: middle;\n",
       "    }\n",
       "\n",
       "    .dataframe tbody tr th {\n",
       "        vertical-align: top;\n",
       "    }\n",
       "\n",
       "    .dataframe thead th {\n",
       "        text-align: right;\n",
       "    }\n",
       "</style>\n",
       "<table border=\"1\" class=\"dataframe\">\n",
       "  <thead>\n",
       "    <tr style=\"text-align: right;\">\n",
       "      <th></th>\n",
       "      <th>Recency</th>\n",
       "      <th>Frequency</th>\n",
       "      <th>MonetaryValue</th>\n",
       "    </tr>\n",
       "  </thead>\n",
       "  <tbody>\n",
       "    <tr>\n",
       "      <th>count</th>\n",
       "      <td>11581.000000</td>\n",
       "      <td>11581.000000</td>\n",
       "      <td>1.158100e+04</td>\n",
       "    </tr>\n",
       "    <tr>\n",
       "      <th>mean</th>\n",
       "      <td>247.611951</td>\n",
       "      <td>3.059408</td>\n",
       "      <td>4.171389e+05</td>\n",
       "    </tr>\n",
       "    <tr>\n",
       "      <th>std</th>\n",
       "      <td>153.929796</td>\n",
       "      <td>17.602469</td>\n",
       "      <td>4.105994e+06</td>\n",
       "    </tr>\n",
       "    <tr>\n",
       "      <th>min</th>\n",
       "      <td>1.000000</td>\n",
       "      <td>1.000000</td>\n",
       "      <td>0.000000e+00</td>\n",
       "    </tr>\n",
       "    <tr>\n",
       "      <th>25%</th>\n",
       "      <td>117.000000</td>\n",
       "      <td>1.000000</td>\n",
       "      <td>0.000000e+00</td>\n",
       "    </tr>\n",
       "    <tr>\n",
       "      <th>50%</th>\n",
       "      <td>278.000000</td>\n",
       "      <td>1.000000</td>\n",
       "      <td>7.000000e+04</td>\n",
       "    </tr>\n",
       "    <tr>\n",
       "      <th>75%</th>\n",
       "      <td>335.000000</td>\n",
       "      <td>2.000000</td>\n",
       "      <td>1.605000e+05</td>\n",
       "    </tr>\n",
       "    <tr>\n",
       "      <th>max</th>\n",
       "      <td>547.000000</td>\n",
       "      <td>804.000000</td>\n",
       "      <td>2.019000e+08</td>\n",
       "    </tr>\n",
       "  </tbody>\n",
       "</table>\n",
       "</div>"
      ],
      "text/plain": [
       "            Recency     Frequency  MonetaryValue\n",
       "count  11581.000000  11581.000000   1.158100e+04\n",
       "mean     247.611951      3.059408   4.171389e+05\n",
       "std      153.929796     17.602469   4.105994e+06\n",
       "min        1.000000      1.000000   0.000000e+00\n",
       "25%      117.000000      1.000000   0.000000e+00\n",
       "50%      278.000000      1.000000   7.000000e+04\n",
       "75%      335.000000      2.000000   1.605000e+05\n",
       "max      547.000000    804.000000   2.019000e+08"
      ]
     },
     "execution_count": 9,
     "metadata": {},
     "output_type": "execute_result"
    }
   ],
   "source": [
    "datamart.describe()"
   ]
  },
  {
   "cell_type": "code",
   "execution_count": 10,
   "metadata": {},
   "outputs": [
    {
     "data": {
      "text/plain": [
       "<matplotlib.axes._subplots.AxesSubplot at 0x1fe0e3abee0>"
      ]
     },
     "execution_count": 10,
     "metadata": {},
     "output_type": "execute_result"
    },
    {
     "data": {
      "image/png": "[encoded data removed]",
      "text/plain": [
       "<Figure size 1152x288 with 1 Axes>"
      ]
     },
     "metadata": {
      "needs_background": "light"
     },
     "output_type": "display_data"
    }
   ],
   "source": [
    "plt.figure(figsize=(16,4))\n",
    "sns.boxplot(datamart.Frequency)"
   ]
  },
  {
   "cell_type": "markdown",
   "metadata": {},
   "source": [
    "A lot of suspicious transactions, we decide to drop user with transactions frequency more than 200. It's seems imposible for a user to make transactions more than 200 in that range of time (18 months)"
   ]
  },
  {
   "cell_type": "code",
   "execution_count": 11,
   "metadata": {},
   "outputs": [],
   "source": [
    "outliers = datamart[datamart['Frequency']>200]"
   ]
  },
  {
   "cell_type": "code",
   "execution_count": 12,
   "metadata": {},
   "outputs": [
    {
     "data": {
      "text/html": [
       "<div>\n",
       "<style scoped>\n",
       "    .dataframe tbody tr th:only-of-type {\n",
       "        vertical-align: middle;\n",
       "    }\n",
       "\n",
       "    .dataframe tbody tr th {\n",
       "        vertical-align: top;\n",
       "    }\n",
       "\n",
       "    .dataframe thead th {\n",
       "        text-align: right;\n",
       "    }\n",
       "</style>\n",
       "<table border=\"1\" class=\"dataframe\">\n",
       "  <thead>\n",
       "    <tr style=\"text-align: right;\">\n",
       "      <th></th>\n",
       "      <th>Recency</th>\n",
       "      <th>Frequency</th>\n",
       "      <th>MonetaryValue</th>\n",
       "    </tr>\n",
       "    <tr>\n",
       "      <th>user_id</th>\n",
       "      <th></th>\n",
       "      <th></th>\n",
       "      <th></th>\n",
       "    </tr>\n",
       "  </thead>\n",
       "  <tbody>\n",
       "    <tr>\n",
       "      <th>74b15dc9dd3a61432731b8edd5588b6cb35ac12ba720d9a7c8991be576ef9828</th>\n",
       "      <td>270</td>\n",
       "      <td>804</td>\n",
       "      <td>42180000</td>\n",
       "    </tr>\n",
       "    <tr>\n",
       "      <th>23c44b20dafb34672868945ce6428ead219eb8bb5312c5144f3ae94f6ebecf15</th>\n",
       "      <td>502</td>\n",
       "      <td>749</td>\n",
       "      <td>147750000</td>\n",
       "    </tr>\n",
       "    <tr>\n",
       "      <th>fd1d86e37e79a7f3412818a79f22a3fccb52ced852664e499cd22bdcbe2e2246</th>\n",
       "      <td>221</td>\n",
       "      <td>555</td>\n",
       "      <td>34330000</td>\n",
       "    </tr>\n",
       "    <tr>\n",
       "      <th>4ee2ed54587c39f1fa5278a93c0d26986ac759dfcfccc4c9f3362d22ee660bef</th>\n",
       "      <td>290</td>\n",
       "      <td>466</td>\n",
       "      <td>31170000</td>\n",
       "    </tr>\n",
       "    <tr>\n",
       "      <th>df81510a08e121cf5556f1c0c0e9a53729b40c4656849f260939e2e80c02e507</th>\n",
       "      <td>216</td>\n",
       "      <td>446</td>\n",
       "      <td>28550000</td>\n",
       "    </tr>\n",
       "  </tbody>\n",
       "</table>\n",
       "</div>"
      ],
      "text/plain": [
       "                                                    Recency  Frequency  \\\n",
       "user_id                                                                  \n",
       "74b15dc9dd3a61432731b8edd5588b6cb35ac12ba720d9a...      270        804   \n",
       "23c44b20dafb34672868945ce6428ead219eb8bb5312c51...      502        749   \n",
       "fd1d86e37e79a7f3412818a79f22a3fccb52ced852664e4...      221        555   \n",
       "4ee2ed54587c39f1fa5278a93c0d26986ac759dfcfccc4c...      290        466   \n",
       "df81510a08e121cf5556f1c0c0e9a53729b40c4656849f2...      216        446   \n",
       "\n",
       "                                                    MonetaryValue  \n",
       "user_id                                                            \n",
       "74b15dc9dd3a61432731b8edd5588b6cb35ac12ba720d9a...       42180000  \n",
       "23c44b20dafb34672868945ce6428ead219eb8bb5312c51...      147750000  \n",
       "fd1d86e37e79a7f3412818a79f22a3fccb52ced852664e4...       34330000  \n",
       "4ee2ed54587c39f1fa5278a93c0d26986ac759dfcfccc4c...       31170000  \n",
       "df81510a08e121cf5556f1c0c0e9a53729b40c4656849f2...       28550000  "
      ]
     },
     "execution_count": 12,
     "metadata": {},
     "output_type": "execute_result"
    }
   ],
   "source": [
    "outliers.sort_values(by='Frequency', ascending=False).head()"
   ]
  },
  {
   "cell_type": "code",
   "execution_count": 13,
   "metadata": {},
   "outputs": [
    {
     "data": {
      "text/plain": [
       "(18, 3)"
      ]
     },
     "execution_count": 13,
     "metadata": {},
     "output_type": "execute_result"
    }
   ],
   "source": [
    "outliers.shape"
   ]
  },
  {
   "cell_type": "code",
   "execution_count": 14,
   "metadata": {},
   "outputs": [
    {
     "data": {
      "text/plain": [
       "(11581, 3)"
      ]
     },
     "execution_count": 14,
     "metadata": {},
     "output_type": "execute_result"
    }
   ],
   "source": [
    "datamart.shape"
   ]
  },
  {
   "cell_type": "code",
   "execution_count": 15,
   "metadata": {},
   "outputs": [],
   "source": [
    "datamart = datamart[~datamart.isin(outliers)].dropna(how = 'all')"
   ]
  },
  {
   "cell_type": "code",
   "execution_count": 16,
   "metadata": {},
   "outputs": [
    {
     "data": {
      "text/plain": [
       "(11563, 3)"
      ]
     },
     "execution_count": 16,
     "metadata": {},
     "output_type": "execute_result"
    }
   ],
   "source": [
    "datamart.shape"
   ]
  },
  {
   "cell_type": "markdown",
   "metadata": {},
   "source": [
    "**Ranking each category, with value between 1 to 4**"
   ]
  },
  {
   "cell_type": "markdown",
   "metadata": {},
   "source": [
    "Recency"
   ]
  },
  {
   "cell_type": "code",
   "execution_count": 17,
   "metadata": {},
   "outputs": [],
   "source": [
    "rec_labels = range(4, 0, -1) \n",
    "rec_quartiles = pd.qcut(datamart['Recency'], 4, labels = rec_labels)\n",
    "datamart = datamart.assign(R = rec_quartiles.values)"
   ]
  },
  {
   "cell_type": "markdown",
   "metadata": {},
   "source": [
    "Frequency"
   ]
  },
  {
   "cell_type": "code",
   "execution_count": 18,
   "metadata": {},
   "outputs": [],
   "source": [
    "freq_labels = range(1,5) \n",
    "freq_quartiles = pd.qcut(datamart['Frequency'].rank(method='first'), 4, labels = freq_labels, duplicates='drop')\n",
    "datamart = datamart.assign(F = freq_quartiles.values)"
   ]
  },
  {
   "cell_type": "markdown",
   "metadata": {},
   "source": [
    "Monetary Value"
   ]
  },
  {
   "cell_type": "code",
   "execution_count": 19,
   "metadata": {},
   "outputs": [],
   "source": [
    "mon_labels = range(1,5)\n",
    "mon_quartiles = pd.qcut(datamart['MonetaryValue'].rank(method='first'), 4, labels = mon_labels, duplicates='drop')\n",
    "datamart = datamart.assign(M = mon_quartiles.values) "
   ]
  },
  {
   "cell_type": "code",
   "execution_count": 20,
   "metadata": {},
   "outputs": [
    {
     "data": {
      "text/html": [
       "<div>\n",
       "<style scoped>\n",
       "    .dataframe tbody tr th:only-of-type {\n",
       "        vertical-align: middle;\n",
       "    }\n",
       "\n",
       "    .dataframe tbody tr th {\n",
       "        vertical-align: top;\n",
       "    }\n",
       "\n",
       "    .dataframe thead th {\n",
       "        text-align: right;\n",
       "    }\n",
       "</style>\n",
       "<table border=\"1\" class=\"dataframe\">\n",
       "  <thead>\n",
       "    <tr style=\"text-align: right;\">\n",
       "      <th></th>\n",
       "      <th>Recency</th>\n",
       "      <th>Frequency</th>\n",
       "      <th>MonetaryValue</th>\n",
       "      <th>R</th>\n",
       "      <th>F</th>\n",
       "      <th>M</th>\n",
       "    </tr>\n",
       "    <tr>\n",
       "      <th>user_id</th>\n",
       "      <th></th>\n",
       "      <th></th>\n",
       "      <th></th>\n",
       "      <th></th>\n",
       "      <th></th>\n",
       "      <th></th>\n",
       "    </tr>\n",
       "  </thead>\n",
       "  <tbody>\n",
       "    <tr>\n",
       "      <th>000d596f61a329e66ddc8b83cf4a92eb2278646f26de22b2744d91f087655c48</th>\n",
       "      <td>545.0</td>\n",
       "      <td>1.0</td>\n",
       "      <td>200000.0</td>\n",
       "      <td>1</td>\n",
       "      <td>1</td>\n",
       "      <td>4</td>\n",
       "    </tr>\n",
       "    <tr>\n",
       "      <th>000e9d2d78e491e609fb4e51a50a618f7b7993f9b9fa2689f1710431a9e9466b</th>\n",
       "      <td>453.0</td>\n",
       "      <td>1.0</td>\n",
       "      <td>875000.0</td>\n",
       "      <td>1</td>\n",
       "      <td>1</td>\n",
       "      <td>4</td>\n",
       "    </tr>\n",
       "    <tr>\n",
       "      <th>00146b96f857a3f3f780b7e16ea8d5d2694f0dd373cad33b123e3dd6d5890dbf</th>\n",
       "      <td>163.0</td>\n",
       "      <td>1.0</td>\n",
       "      <td>30000.0</td>\n",
       "      <td>3</td>\n",
       "      <td>1</td>\n",
       "      <td>2</td>\n",
       "    </tr>\n",
       "    <tr>\n",
       "      <th>0018ea7b3a2c90c06b832395fad89f56118044018673ef302de87d69db0f4a56</th>\n",
       "      <td>120.0</td>\n",
       "      <td>1.0</td>\n",
       "      <td>1500000.0</td>\n",
       "      <td>3</td>\n",
       "      <td>1</td>\n",
       "      <td>4</td>\n",
       "    </tr>\n",
       "    <tr>\n",
       "      <th>001c27164a52edca6eddd042aba5368b23d42a154c1b25969775e72c26bba5c8</th>\n",
       "      <td>83.0</td>\n",
       "      <td>3.0</td>\n",
       "      <td>259000.0</td>\n",
       "      <td>4</td>\n",
       "      <td>4</td>\n",
       "      <td>4</td>\n",
       "    </tr>\n",
       "  </tbody>\n",
       "</table>\n",
       "</div>"
      ],
      "text/plain": [
       "                                                    Recency  Frequency  \\\n",
       "user_id                                                                  \n",
       "000d596f61a329e66ddc8b83cf4a92eb2278646f26de22b...    545.0        1.0   \n",
       "000e9d2d78e491e609fb4e51a50a618f7b7993f9b9fa268...    453.0        1.0   \n",
       "00146b96f857a3f3f780b7e16ea8d5d2694f0dd373cad33...    163.0        1.0   \n",
       "0018ea7b3a2c90c06b832395fad89f56118044018673ef3...    120.0        1.0   \n",
       "001c27164a52edca6eddd042aba5368b23d42a154c1b259...     83.0        3.0   \n",
       "\n",
       "                                                    MonetaryValue  R  F  M  \n",
       "user_id                                                                     \n",
       "000d596f61a329e66ddc8b83cf4a92eb2278646f26de22b...       200000.0  1  1  4  \n",
       "000e9d2d78e491e609fb4e51a50a618f7b7993f9b9fa268...       875000.0  1  1  4  \n",
       "00146b96f857a3f3f780b7e16ea8d5d2694f0dd373cad33...        30000.0  3  1  2  \n",
       "0018ea7b3a2c90c06b832395fad89f56118044018673ef3...      1500000.0  3  1  4  \n",
       "001c27164a52edca6eddd042aba5368b23d42a154c1b259...       259000.0  4  4  4  "
      ]
     },
     "execution_count": 20,
     "metadata": {},
     "output_type": "execute_result"
    }
   ],
   "source": [
    "datamart.head()"
   ]
  },
  {
   "cell_type": "code",
   "execution_count": 21,
   "metadata": {},
   "outputs": [],
   "source": [
    "def join_rfm(x): return str(x['R']) + str(x['F']) + str(x['M'])\n",
    "datamart['RFM_Segment'] = datamart.apply(join_rfm, axis=1)"
   ]
  },
  {
   "cell_type": "code",
   "execution_count": 22,
   "metadata": {},
   "outputs": [],
   "source": [
    "datamart['RFM_Score'] = datamart[['R','F','M']].sum(axis=1)"
   ]
  },
  {
   "cell_type": "code",
   "execution_count": 23,
   "metadata": {},
   "outputs": [
    {
     "data": {
      "text/html": [
       "<div>\n",
       "<style scoped>\n",
       "    .dataframe tbody tr th:only-of-type {\n",
       "        vertical-align: middle;\n",
       "    }\n",
       "\n",
       "    .dataframe tbody tr th {\n",
       "        vertical-align: top;\n",
       "    }\n",
       "\n",
       "    .dataframe thead th {\n",
       "        text-align: right;\n",
       "    }\n",
       "</style>\n",
       "<table border=\"1\" class=\"dataframe\">\n",
       "  <thead>\n",
       "    <tr style=\"text-align: right;\">\n",
       "      <th></th>\n",
       "      <th>Recency</th>\n",
       "      <th>Frequency</th>\n",
       "      <th>MonetaryValue</th>\n",
       "      <th>R</th>\n",
       "      <th>F</th>\n",
       "      <th>M</th>\n",
       "      <th>RFM_Segment</th>\n",
       "      <th>RFM_Score</th>\n",
       "    </tr>\n",
       "    <tr>\n",
       "      <th>user_id</th>\n",
       "      <th></th>\n",
       "      <th></th>\n",
       "      <th></th>\n",
       "      <th></th>\n",
       "      <th></th>\n",
       "      <th></th>\n",
       "      <th></th>\n",
       "      <th></th>\n",
       "    </tr>\n",
       "  </thead>\n",
       "  <tbody>\n",
       "    <tr>\n",
       "      <th>000d596f61a329e66ddc8b83cf4a92eb2278646f26de22b2744d91f087655c48</th>\n",
       "      <td>545.0</td>\n",
       "      <td>1.0</td>\n",
       "      <td>200000.0</td>\n",
       "      <td>1</td>\n",
       "      <td>1</td>\n",
       "      <td>4</td>\n",
       "      <td>114</td>\n",
       "      <td>6.0</td>\n",
       "    </tr>\n",
       "    <tr>\n",
       "      <th>000e9d2d78e491e609fb4e51a50a618f7b7993f9b9fa2689f1710431a9e9466b</th>\n",
       "      <td>453.0</td>\n",
       "      <td>1.0</td>\n",
       "      <td>875000.0</td>\n",
       "      <td>1</td>\n",
       "      <td>1</td>\n",
       "      <td>4</td>\n",
       "      <td>114</td>\n",
       "      <td>6.0</td>\n",
       "    </tr>\n",
       "    <tr>\n",
       "      <th>00146b96f857a3f3f780b7e16ea8d5d2694f0dd373cad33b123e3dd6d5890dbf</th>\n",
       "      <td>163.0</td>\n",
       "      <td>1.0</td>\n",
       "      <td>30000.0</td>\n",
       "      <td>3</td>\n",
       "      <td>1</td>\n",
       "      <td>2</td>\n",
       "      <td>312</td>\n",
       "      <td>6.0</td>\n",
       "    </tr>\n",
       "    <tr>\n",
       "      <th>0018ea7b3a2c90c06b832395fad89f56118044018673ef302de87d69db0f4a56</th>\n",
       "      <td>120.0</td>\n",
       "      <td>1.0</td>\n",
       "      <td>1500000.0</td>\n",
       "      <td>3</td>\n",
       "      <td>1</td>\n",
       "      <td>4</td>\n",
       "      <td>314</td>\n",
       "      <td>8.0</td>\n",
       "    </tr>\n",
       "    <tr>\n",
       "      <th>001c27164a52edca6eddd042aba5368b23d42a154c1b25969775e72c26bba5c8</th>\n",
       "      <td>83.0</td>\n",
       "      <td>3.0</td>\n",
       "      <td>259000.0</td>\n",
       "      <td>4</td>\n",
       "      <td>4</td>\n",
       "      <td>4</td>\n",
       "      <td>444</td>\n",
       "      <td>12.0</td>\n",
       "    </tr>\n",
       "  </tbody>\n",
       "</table>\n",
       "</div>"
      ],
      "text/plain": [
       "                                                    Recency  Frequency  \\\n",
       "user_id                                                                  \n",
       "000d596f61a329e66ddc8b83cf4a92eb2278646f26de22b...    545.0        1.0   \n",
       "000e9d2d78e491e609fb4e51a50a618f7b7993f9b9fa268...    453.0        1.0   \n",
       "00146b96f857a3f3f780b7e16ea8d5d2694f0dd373cad33...    163.0        1.0   \n",
       "0018ea7b3a2c90c06b832395fad89f56118044018673ef3...    120.0        1.0   \n",
       "001c27164a52edca6eddd042aba5368b23d42a154c1b259...     83.0        3.0   \n",
       "\n",
       "                                                    MonetaryValue  R  F  M  \\\n",
       "user_id                                                                      \n",
       "000d596f61a329e66ddc8b83cf4a92eb2278646f26de22b...       200000.0  1  1  4   \n",
       "000e9d2d78e491e609fb4e51a50a618f7b7993f9b9fa268...       875000.0  1  1  4   \n",
       "00146b96f857a3f3f780b7e16ea8d5d2694f0dd373cad33...        30000.0  3  1  2   \n",
       "0018ea7b3a2c90c06b832395fad89f56118044018673ef3...      1500000.0  3  1  4   \n",
       "001c27164a52edca6eddd042aba5368b23d42a154c1b259...       259000.0  4  4  4   \n",
       "\n",
       "                                                   RFM_Segment  RFM_Score  \n",
       "user_id                                                                    \n",
       "000d596f61a329e66ddc8b83cf4a92eb2278646f26de22b...         114        6.0  \n",
       "000e9d2d78e491e609fb4e51a50a618f7b7993f9b9fa268...         114        6.0  \n",
       "00146b96f857a3f3f780b7e16ea8d5d2694f0dd373cad33...         312        6.0  \n",
       "0018ea7b3a2c90c06b832395fad89f56118044018673ef3...         314        8.0  \n",
       "001c27164a52edca6eddd042aba5368b23d42a154c1b259...         444       12.0  "
      ]
     },
     "execution_count": 23,
     "metadata": {},
     "output_type": "execute_result"
    }
   ],
   "source": [
    "datamart.head()"
   ]
  },
  {
   "cell_type": "code",
   "execution_count": 24,
   "metadata": {},
   "outputs": [
    {
     "data": {
      "text/html": [
       "<div>\n",
       "<style scoped>\n",
       "    .dataframe tbody tr th:only-of-type {\n",
       "        vertical-align: middle;\n",
       "    }\n",
       "\n",
       "    .dataframe tbody tr th {\n",
       "        vertical-align: top;\n",
       "    }\n",
       "\n",
       "    .dataframe thead th {\n",
       "        text-align: right;\n",
       "    }\n",
       "</style>\n",
       "<table border=\"1\" class=\"dataframe\">\n",
       "  <thead>\n",
       "    <tr style=\"text-align: right;\">\n",
       "      <th></th>\n",
       "      <th>user_id</th>\n",
       "      <th>Recency</th>\n",
       "      <th>Frequency</th>\n",
       "      <th>MonetaryValue</th>\n",
       "      <th>R</th>\n",
       "      <th>F</th>\n",
       "      <th>M</th>\n",
       "      <th>RFM_Segment</th>\n",
       "      <th>RFM_Score</th>\n",
       "    </tr>\n",
       "  </thead>\n",
       "  <tbody>\n",
       "    <tr>\n",
       "      <th>0</th>\n",
       "      <td>000d596f61a329e66ddc8b83cf4a92eb2278646f26de22...</td>\n",
       "      <td>545.0</td>\n",
       "      <td>1.0</td>\n",
       "      <td>200000.0</td>\n",
       "      <td>1</td>\n",
       "      <td>1</td>\n",
       "      <td>4</td>\n",
       "      <td>114</td>\n",
       "      <td>6.0</td>\n",
       "    </tr>\n",
       "    <tr>\n",
       "      <th>1</th>\n",
       "      <td>000e9d2d78e491e609fb4e51a50a618f7b7993f9b9fa26...</td>\n",
       "      <td>453.0</td>\n",
       "      <td>1.0</td>\n",
       "      <td>875000.0</td>\n",
       "      <td>1</td>\n",
       "      <td>1</td>\n",
       "      <td>4</td>\n",
       "      <td>114</td>\n",
       "      <td>6.0</td>\n",
       "    </tr>\n",
       "    <tr>\n",
       "      <th>2</th>\n",
       "      <td>00146b96f857a3f3f780b7e16ea8d5d2694f0dd373cad3...</td>\n",
       "      <td>163.0</td>\n",
       "      <td>1.0</td>\n",
       "      <td>30000.0</td>\n",
       "      <td>3</td>\n",
       "      <td>1</td>\n",
       "      <td>2</td>\n",
       "      <td>312</td>\n",
       "      <td>6.0</td>\n",
       "    </tr>\n",
       "    <tr>\n",
       "      <th>3</th>\n",
       "      <td>0018ea7b3a2c90c06b832395fad89f56118044018673ef...</td>\n",
       "      <td>120.0</td>\n",
       "      <td>1.0</td>\n",
       "      <td>1500000.0</td>\n",
       "      <td>3</td>\n",
       "      <td>1</td>\n",
       "      <td>4</td>\n",
       "      <td>314</td>\n",
       "      <td>8.0</td>\n",
       "    </tr>\n",
       "    <tr>\n",
       "      <th>4</th>\n",
       "      <td>001c27164a52edca6eddd042aba5368b23d42a154c1b25...</td>\n",
       "      <td>83.0</td>\n",
       "      <td>3.0</td>\n",
       "      <td>259000.0</td>\n",
       "      <td>4</td>\n",
       "      <td>4</td>\n",
       "      <td>4</td>\n",
       "      <td>444</td>\n",
       "      <td>12.0</td>\n",
       "    </tr>\n",
       "    <tr>\n",
       "      <th>...</th>\n",
       "      <td>...</td>\n",
       "      <td>...</td>\n",
       "      <td>...</td>\n",
       "      <td>...</td>\n",
       "      <td>...</td>\n",
       "      <td>...</td>\n",
       "      <td>...</td>\n",
       "      <td>...</td>\n",
       "      <td>...</td>\n",
       "    </tr>\n",
       "    <tr>\n",
       "      <th>11558</th>\n",
       "      <td>ffd652692ee5942d75ff88d0e68d0b86577316c7ed81e8...</td>\n",
       "      <td>308.0</td>\n",
       "      <td>1.0</td>\n",
       "      <td>120000.0</td>\n",
       "      <td>2</td>\n",
       "      <td>3</td>\n",
       "      <td>3</td>\n",
       "      <td>233</td>\n",
       "      <td>8.0</td>\n",
       "    </tr>\n",
       "    <tr>\n",
       "      <th>11559</th>\n",
       "      <td>ffeeff860130b91022849d171b39a3bdbe7941d0cb04b6...</td>\n",
       "      <td>418.0</td>\n",
       "      <td>1.0</td>\n",
       "      <td>100000.0</td>\n",
       "      <td>1</td>\n",
       "      <td>3</td>\n",
       "      <td>3</td>\n",
       "      <td>133</td>\n",
       "      <td>7.0</td>\n",
       "    </tr>\n",
       "    <tr>\n",
       "      <th>11560</th>\n",
       "      <td>fff4593a2194b2048293fead6c88c2b45e4dabf2068d73...</td>\n",
       "      <td>128.0</td>\n",
       "      <td>1.0</td>\n",
       "      <td>0.0</td>\n",
       "      <td>3</td>\n",
       "      <td>3</td>\n",
       "      <td>2</td>\n",
       "      <td>332</td>\n",
       "      <td>8.0</td>\n",
       "    </tr>\n",
       "    <tr>\n",
       "      <th>11561</th>\n",
       "      <td>fff4a656709ff925e1ccfaf1d097b2d4dda221c3f9d5e5...</td>\n",
       "      <td>293.0</td>\n",
       "      <td>2.0</td>\n",
       "      <td>210000.0</td>\n",
       "      <td>2</td>\n",
       "      <td>4</td>\n",
       "      <td>4</td>\n",
       "      <td>244</td>\n",
       "      <td>10.0</td>\n",
       "    </tr>\n",
       "    <tr>\n",
       "      <th>11562</th>\n",
       "      <td>ffff629e79bb64f251971c6587630c452baa83410d943b...</td>\n",
       "      <td>17.0</td>\n",
       "      <td>5.0</td>\n",
       "      <td>0.0</td>\n",
       "      <td>4</td>\n",
       "      <td>4</td>\n",
       "      <td>2</td>\n",
       "      <td>442</td>\n",
       "      <td>10.0</td>\n",
       "    </tr>\n",
       "  </tbody>\n",
       "</table>\n",
       "<p>11563 rows × 9 columns</p>\n",
       "</div>"
      ],
      "text/plain": [
       "                                                 user_id  Recency  Frequency  \\\n",
       "0      000d596f61a329e66ddc8b83cf4a92eb2278646f26de22...    545.0        1.0   \n",
       "1      000e9d2d78e491e609fb4e51a50a618f7b7993f9b9fa26...    453.0        1.0   \n",
       "2      00146b96f857a3f3f780b7e16ea8d5d2694f0dd373cad3...    163.0        1.0   \n",
       "3      0018ea7b3a2c90c06b832395fad89f56118044018673ef...    120.0        1.0   \n",
       "4      001c27164a52edca6eddd042aba5368b23d42a154c1b25...     83.0        3.0   \n",
       "...                                                  ...      ...        ...   \n",
       "11558  ffd652692ee5942d75ff88d0e68d0b86577316c7ed81e8...    308.0        1.0   \n",
       "11559  ffeeff860130b91022849d171b39a3bdbe7941d0cb04b6...    418.0        1.0   \n",
       "11560  fff4593a2194b2048293fead6c88c2b45e4dabf2068d73...    128.0        1.0   \n",
       "11561  fff4a656709ff925e1ccfaf1d097b2d4dda221c3f9d5e5...    293.0        2.0   \n",
       "11562  ffff629e79bb64f251971c6587630c452baa83410d943b...     17.0        5.0   \n",
       "\n",
       "       MonetaryValue  R  F  M RFM_Segment  RFM_Score  \n",
       "0           200000.0  1  1  4         114        6.0  \n",
       "1           875000.0  1  1  4         114        6.0  \n",
       "2            30000.0  3  1  2         312        6.0  \n",
       "3          1500000.0  3  1  4         314        8.0  \n",
       "4           259000.0  4  4  4         444       12.0  \n",
       "...              ... .. .. ..         ...        ...  \n",
       "11558       120000.0  2  3  3         233        8.0  \n",
       "11559       100000.0  1  3  3         133        7.0  \n",
       "11560            0.0  3  3  2         332        8.0  \n",
       "11561       210000.0  2  4  4         244       10.0  \n",
       "11562            0.0  4  4  2         442       10.0  \n",
       "\n",
       "[11563 rows x 9 columns]"
      ]
     },
     "execution_count": 24,
     "metadata": {},
     "output_type": "execute_result"
    }
   ],
   "source": [
    "datamart.reset_index()"
   ]
  },
  {
   "cell_type": "code",
   "execution_count": 25,
   "metadata": {},
   "outputs": [
    {
     "data": {
      "text/plain": [
       "Recency          0\n",
       "Frequency        0\n",
       "MonetaryValue    0\n",
       "R                0\n",
       "F                0\n",
       "M                0\n",
       "RFM_Segment      0\n",
       "RFM_Score        0\n",
       "dtype: int64"
      ]
     },
     "execution_count": 25,
     "metadata": {},
     "output_type": "execute_result"
    }
   ],
   "source": [
    "datamart.isna().sum()"
   ]
  },
  {
   "cell_type": "code",
   "execution_count": 26,
   "metadata": {},
   "outputs": [
    {
     "data": {
      "text/plain": [
       "RFM_Segment\n",
       "441    718\n",
       "344    666\n",
       "421    550\n",
       "411    522\n",
       "133    397\n",
       "233    389\n",
       "432    339\n",
       "212    328\n",
       "244    324\n",
       "222    320\n",
       "dtype: int64"
      ]
     },
     "execution_count": 26,
     "metadata": {},
     "output_type": "execute_result"
    }
   ],
   "source": [
    "datamart.groupby('RFM_Segment').size().sort_values(ascending=False)[:10]"
   ]
  },
  {
   "cell_type": "code",
   "execution_count": 27,
   "metadata": {},
   "outputs": [
    {
     "data": {
      "text/plain": [
       "<matplotlib.axes._subplots.AxesSubplot at 0x1fe0d7f8df0>"
      ]
     },
     "execution_count": 27,
     "metadata": {},
     "output_type": "execute_result"
    },
    {
     "data": {
      "image/png": "[encoded data removed]",
      "text/plain": [
       "<Figure size 432x288 with 1 Axes>"
      ]
     },
     "metadata": {
      "needs_background": "light"
     },
     "output_type": "display_data"
    }
   ],
   "source": [
    "datamart.groupby('RFM_Segment').size().sort_values(ascending=False)[:15].plot(kind='barh')"
   ]
  },
  {
   "cell_type": "code",
   "execution_count": 28,
   "metadata": {
    "scrolled": true
   },
   "outputs": [
    {
     "data": {
      "text/html": [
       "<div>\n",
       "<style scoped>\n",
       "    .dataframe tbody tr th:only-of-type {\n",
       "        vertical-align: middle;\n",
       "    }\n",
       "\n",
       "    .dataframe tbody tr th {\n",
       "        vertical-align: top;\n",
       "    }\n",
       "\n",
       "    .dataframe thead th {\n",
       "        text-align: right;\n",
       "    }\n",
       "</style>\n",
       "<table border=\"1\" class=\"dataframe\">\n",
       "  <thead>\n",
       "    <tr style=\"text-align: right;\">\n",
       "      <th></th>\n",
       "      <th>Recency</th>\n",
       "      <th>Frequency</th>\n",
       "      <th>MonetaryValue</th>\n",
       "      <th>R</th>\n",
       "      <th>F</th>\n",
       "      <th>M</th>\n",
       "      <th>RFM_Segment</th>\n",
       "      <th>RFM_Score</th>\n",
       "    </tr>\n",
       "    <tr>\n",
       "      <th>user_id</th>\n",
       "      <th></th>\n",
       "      <th></th>\n",
       "      <th></th>\n",
       "      <th></th>\n",
       "      <th></th>\n",
       "      <th></th>\n",
       "      <th></th>\n",
       "      <th></th>\n",
       "    </tr>\n",
       "  </thead>\n",
       "  <tbody>\n",
       "    <tr>\n",
       "      <th>001c27164a52edca6eddd042aba5368b23d42a154c1b25969775e72c26bba5c8</th>\n",
       "      <td>83.0</td>\n",
       "      <td>3.0</td>\n",
       "      <td>259000.0</td>\n",
       "      <td>4</td>\n",
       "      <td>4</td>\n",
       "      <td>4</td>\n",
       "      <td>444</td>\n",
       "      <td>12.0</td>\n",
       "    </tr>\n",
       "    <tr>\n",
       "      <th>00e6f6d6017e00e3f99f2455b933e2bed0bbfb7d028299351c0f027d099b7add</th>\n",
       "      <td>41.0</td>\n",
       "      <td>3.0</td>\n",
       "      <td>170000.0</td>\n",
       "      <td>4</td>\n",
       "      <td>4</td>\n",
       "      <td>4</td>\n",
       "      <td>444</td>\n",
       "      <td>12.0</td>\n",
       "    </tr>\n",
       "    <tr>\n",
       "      <th>028ef417f54212a6396be81fe8f8613db657fbef209bd349ede4f5f80c989d31</th>\n",
       "      <td>2.0</td>\n",
       "      <td>6.0</td>\n",
       "      <td>300000.0</td>\n",
       "      <td>4</td>\n",
       "      <td>4</td>\n",
       "      <td>4</td>\n",
       "      <td>444</td>\n",
       "      <td>12.0</td>\n",
       "    </tr>\n",
       "    <tr>\n",
       "      <th>0495591a4c63dfdf3b86cf1116e511f3b9ae6175c9e54ca1764dc22a308f7a2d</th>\n",
       "      <td>78.0</td>\n",
       "      <td>5.0</td>\n",
       "      <td>200000.0</td>\n",
       "      <td>4</td>\n",
       "      <td>4</td>\n",
       "      <td>4</td>\n",
       "      <td>444</td>\n",
       "      <td>12.0</td>\n",
       "    </tr>\n",
       "    <tr>\n",
       "      <th>06edb86f6e28be5ebcf7a16ff7269355b97fb591215f14b0bd06ca4c2233c95a</th>\n",
       "      <td>114.0</td>\n",
       "      <td>27.0</td>\n",
       "      <td>950000.0</td>\n",
       "      <td>4</td>\n",
       "      <td>4</td>\n",
       "      <td>4</td>\n",
       "      <td>444</td>\n",
       "      <td>12.0</td>\n",
       "    </tr>\n",
       "  </tbody>\n",
       "</table>\n",
       "</div>"
      ],
      "text/plain": [
       "                                                    Recency  Frequency  \\\n",
       "user_id                                                                  \n",
       "001c27164a52edca6eddd042aba5368b23d42a154c1b259...     83.0        3.0   \n",
       "00e6f6d6017e00e3f99f2455b933e2bed0bbfb7d0282993...     41.0        3.0   \n",
       "028ef417f54212a6396be81fe8f8613db657fbef209bd34...      2.0        6.0   \n",
       "0495591a4c63dfdf3b86cf1116e511f3b9ae6175c9e54ca...     78.0        5.0   \n",
       "06edb86f6e28be5ebcf7a16ff7269355b97fb591215f14b...    114.0       27.0   \n",
       "\n",
       "                                                    MonetaryValue  R  F  M  \\\n",
       "user_id                                                                      \n",
       "001c27164a52edca6eddd042aba5368b23d42a154c1b259...       259000.0  4  4  4   \n",
       "00e6f6d6017e00e3f99f2455b933e2bed0bbfb7d0282993...       170000.0  4  4  4   \n",
       "028ef417f54212a6396be81fe8f8613db657fbef209bd34...       300000.0  4  4  4   \n",
       "0495591a4c63dfdf3b86cf1116e511f3b9ae6175c9e54ca...       200000.0  4  4  4   \n",
       "06edb86f6e28be5ebcf7a16ff7269355b97fb591215f14b...       950000.0  4  4  4   \n",
       "\n",
       "                                                   RFM_Segment  RFM_Score  \n",
       "user_id                                                                    \n",
       "001c27164a52edca6eddd042aba5368b23d42a154c1b259...         444       12.0  \n",
       "00e6f6d6017e00e3f99f2455b933e2bed0bbfb7d0282993...         444       12.0  \n",
       "028ef417f54212a6396be81fe8f8613db657fbef209bd34...         444       12.0  \n",
       "0495591a4c63dfdf3b86cf1116e511f3b9ae6175c9e54ca...         444       12.0  \n",
       "06edb86f6e28be5ebcf7a16ff7269355b97fb591215f14b...         444       12.0  "
      ]
     },
     "execution_count": 28,
     "metadata": {},
     "output_type": "execute_result"
    }
   ],
   "source": [
    "datamart[datamart['RFM_Segment']=='444'][:5]"
   ]
  },
  {
   "cell_type": "code",
   "execution_count": 29,
   "metadata": {},
   "outputs": [
    {
     "data": {
      "text/html": [
       "<div>\n",
       "<style scoped>\n",
       "    .dataframe tbody tr th:only-of-type {\n",
       "        vertical-align: middle;\n",
       "    }\n",
       "\n",
       "    .dataframe tbody tr th {\n",
       "        vertical-align: top;\n",
       "    }\n",
       "\n",
       "    .dataframe thead th {\n",
       "        text-align: right;\n",
       "    }\n",
       "</style>\n",
       "<table border=\"1\" class=\"dataframe\">\n",
       "  <thead>\n",
       "    <tr style=\"text-align: right;\">\n",
       "      <th></th>\n",
       "      <th>Recency</th>\n",
       "      <th>Frequency</th>\n",
       "      <th>MonetaryValue</th>\n",
       "    </tr>\n",
       "    <tr>\n",
       "      <th>RFM_Score</th>\n",
       "      <th></th>\n",
       "      <th></th>\n",
       "      <th></th>\n",
       "    </tr>\n",
       "  </thead>\n",
       "  <tbody>\n",
       "    <tr>\n",
       "      <th>3.0</th>\n",
       "      <td>419.0</td>\n",
       "      <td>1.0</td>\n",
       "      <td>0.0</td>\n",
       "    </tr>\n",
       "    <tr>\n",
       "      <th>4.0</th>\n",
       "      <td>439.6</td>\n",
       "      <td>1.0</td>\n",
       "      <td>37317.9</td>\n",
       "    </tr>\n",
       "    <tr>\n",
       "      <th>5.0</th>\n",
       "      <td>368.7</td>\n",
       "      <td>1.0</td>\n",
       "      <td>58855.7</td>\n",
       "    </tr>\n",
       "    <tr>\n",
       "      <th>6.0</th>\n",
       "      <td>271.6</td>\n",
       "      <td>1.0</td>\n",
       "      <td>90277.4</td>\n",
       "    </tr>\n",
       "    <tr>\n",
       "      <th>7.0</th>\n",
       "      <td>258.0</td>\n",
       "      <td>1.0</td>\n",
       "      <td>105389.7</td>\n",
       "    </tr>\n",
       "    <tr>\n",
       "      <th>8.0</th>\n",
       "      <td>239.4</td>\n",
       "      <td>1.3</td>\n",
       "      <td>234367.1</td>\n",
       "    </tr>\n",
       "    <tr>\n",
       "      <th>9.0</th>\n",
       "      <td>158.3</td>\n",
       "      <td>2.3</td>\n",
       "      <td>202300.6</td>\n",
       "    </tr>\n",
       "    <tr>\n",
       "      <th>10.0</th>\n",
       "      <td>186.7</td>\n",
       "      <td>6.9</td>\n",
       "      <td>1397368.8</td>\n",
       "    </tr>\n",
       "    <tr>\n",
       "      <th>11.0</th>\n",
       "      <td>199.3</td>\n",
       "      <td>12.3</td>\n",
       "      <td>1741920.2</td>\n",
       "    </tr>\n",
       "    <tr>\n",
       "      <th>12.0</th>\n",
       "      <td>56.9</td>\n",
       "      <td>7.8</td>\n",
       "      <td>810361.3</td>\n",
       "    </tr>\n",
       "  </tbody>\n",
       "</table>\n",
       "</div>"
      ],
      "text/plain": [
       "           Recency  Frequency  MonetaryValue\n",
       "RFM_Score                                   \n",
       "3.0          419.0        1.0            0.0\n",
       "4.0          439.6        1.0        37317.9\n",
       "5.0          368.7        1.0        58855.7\n",
       "6.0          271.6        1.0        90277.4\n",
       "7.0          258.0        1.0       105389.7\n",
       "8.0          239.4        1.3       234367.1\n",
       "9.0          158.3        2.3       202300.6\n",
       "10.0         186.7        6.9      1397368.8\n",
       "11.0         199.3       12.3      1741920.2\n",
       "12.0          56.9        7.8       810361.3"
      ]
     },
     "execution_count": 29,
     "metadata": {},
     "output_type": "execute_result"
    }
   ],
   "source": [
    "datamart.groupby('RFM_Score').mean().round(1)"
   ]
  },
  {
   "cell_type": "code",
   "execution_count": 30,
   "metadata": {},
   "outputs": [
    {
     "data": {
      "text/html": [
       "<div>\n",
       "<style scoped>\n",
       "    .dataframe tbody tr th:only-of-type {\n",
       "        vertical-align: middle;\n",
       "    }\n",
       "\n",
       "    .dataframe tbody tr th {\n",
       "        vertical-align: top;\n",
       "    }\n",
       "\n",
       "    .dataframe thead tr th {\n",
       "        text-align: left;\n",
       "    }\n",
       "\n",
       "    .dataframe thead tr:last-of-type th {\n",
       "        text-align: right;\n",
       "    }\n",
       "</style>\n",
       "<table border=\"1\" class=\"dataframe\">\n",
       "  <thead>\n",
       "    <tr>\n",
       "      <th></th>\n",
       "      <th>Recency</th>\n",
       "      <th>Frequency</th>\n",
       "      <th colspan=\"2\" halign=\"left\">MonetaryValue</th>\n",
       "    </tr>\n",
       "    <tr>\n",
       "      <th></th>\n",
       "      <th>mean</th>\n",
       "      <th>mean</th>\n",
       "      <th>mean</th>\n",
       "      <th>count</th>\n",
       "    </tr>\n",
       "    <tr>\n",
       "      <th>RFM_Score</th>\n",
       "      <th></th>\n",
       "      <th></th>\n",
       "      <th></th>\n",
       "      <th></th>\n",
       "    </tr>\n",
       "  </thead>\n",
       "  <tbody>\n",
       "    <tr>\n",
       "      <th>3.0</th>\n",
       "      <td>418.97</td>\n",
       "      <td>1.00</td>\n",
       "      <td>0.00</td>\n",
       "      <td>76</td>\n",
       "    </tr>\n",
       "    <tr>\n",
       "      <th>4.0</th>\n",
       "      <td>439.56</td>\n",
       "      <td>1.00</td>\n",
       "      <td>37317.95</td>\n",
       "      <td>390</td>\n",
       "    </tr>\n",
       "    <tr>\n",
       "      <th>5.0</th>\n",
       "      <td>368.65</td>\n",
       "      <td>1.00</td>\n",
       "      <td>58855.69</td>\n",
       "      <td>1133</td>\n",
       "    </tr>\n",
       "    <tr>\n",
       "      <th>6.0</th>\n",
       "      <td>271.59</td>\n",
       "      <td>1.03</td>\n",
       "      <td>90277.40</td>\n",
       "      <td>2181</td>\n",
       "    </tr>\n",
       "    <tr>\n",
       "      <th>7.0</th>\n",
       "      <td>258.05</td>\n",
       "      <td>1.05</td>\n",
       "      <td>105389.70</td>\n",
       "      <td>2253</td>\n",
       "    </tr>\n",
       "    <tr>\n",
       "      <th>8.0</th>\n",
       "      <td>239.37</td>\n",
       "      <td>1.27</td>\n",
       "      <td>234367.07</td>\n",
       "      <td>1810</td>\n",
       "    </tr>\n",
       "    <tr>\n",
       "      <th>9.0</th>\n",
       "      <td>158.33</td>\n",
       "      <td>2.29</td>\n",
       "      <td>202300.64</td>\n",
       "      <td>2055</td>\n",
       "    </tr>\n",
       "    <tr>\n",
       "      <th>10.0</th>\n",
       "      <td>186.71</td>\n",
       "      <td>6.91</td>\n",
       "      <td>1397368.77</td>\n",
       "      <td>858</td>\n",
       "    </tr>\n",
       "    <tr>\n",
       "      <th>11.0</th>\n",
       "      <td>199.34</td>\n",
       "      <td>12.26</td>\n",
       "      <td>1741920.17</td>\n",
       "      <td>727</td>\n",
       "    </tr>\n",
       "    <tr>\n",
       "      <th>12.0</th>\n",
       "      <td>56.91</td>\n",
       "      <td>7.80</td>\n",
       "      <td>810361.29</td>\n",
       "      <td>80</td>\n",
       "    </tr>\n",
       "  </tbody>\n",
       "</table>\n",
       "</div>"
      ],
      "text/plain": [
       "          Recency Frequency MonetaryValue      \n",
       "             mean      mean          mean count\n",
       "RFM_Score                                      \n",
       "3.0        418.97      1.00          0.00    76\n",
       "4.0        439.56      1.00      37317.95   390\n",
       "5.0        368.65      1.00      58855.69  1133\n",
       "6.0        271.59      1.03      90277.40  2181\n",
       "7.0        258.05      1.05     105389.70  2253\n",
       "8.0        239.37      1.27     234367.07  1810\n",
       "9.0        158.33      2.29     202300.64  2055\n",
       "10.0       186.71      6.91    1397368.77   858\n",
       "11.0       199.34     12.26    1741920.17   727\n",
       "12.0        56.91      7.80     810361.29    80"
      ]
     },
     "execution_count": 30,
     "metadata": {},
     "output_type": "execute_result"
    }
   ],
   "source": [
    "datamart.groupby('RFM_Score').agg({ \n",
    "    'Recency': 'mean',\n",
    "    'Frequency': 'mean',\n",
    "    'MonetaryValue': ['mean', 'count'] }).round(2)"
   ]
  },
  {
   "cell_type": "code",
   "execution_count": 31,
   "metadata": {},
   "outputs": [
    {
     "data": {
      "text/plain": [
       "<matplotlib.axes._subplots.AxesSubplot at 0x1fe0d75cc40>"
      ]
     },
     "execution_count": 31,
     "metadata": {},
     "output_type": "execute_result"
    },
    {
     "data": {
      "image/png": "[encoded data removed]",
      "text/plain": [
       "<Figure size 432x288 with 1 Axes>"
      ]
     },
     "metadata": {
      "needs_background": "light"
     },
     "output_type": "display_data"
    }
   ],
   "source": [
    "datamart.groupby('RFM_Score').size().plot(kind='barh')"
   ]
  },
  {
   "cell_type": "markdown",
   "metadata": {},
   "source": [
    "## RFM Segementation"
   ]
  },
  {
   "cell_type": "code",
   "execution_count": 32,
   "metadata": {},
   "outputs": [],
   "source": [
    "def segment(x):\n",
    "    if (x['RFM_Segment']=='444') | (((x['R'] == 4)|(x['R'] == 3) )& ((x['F'] == 4)|(x['F'] == 3))):\n",
    "        return 'Best Customers'\n",
    "    elif x['RFM_Segment']=='244':\n",
    "        return \"Loyal Customers, Big Spenders, Almost Lost\"\n",
    "    elif x['RFM_Segment']=='144':\n",
    "        return \"Loyal Customers, Big Spenders, Lost Customers\"\n",
    "    elif x['RFM_Segment']=='344':\n",
    "        return \"Loyal Customers, Big Spenders\"\n",
    "    elif x['RFM_Segment']=='111':\n",
    "        return 'Lost Cheap Customers'\n",
    "    elif (x['R'] == 4) & ((x['F'] == 1)|(x['F'] == 2)):\n",
    "        return 'New Customer'\n",
    "    elif (x['R'] == 3) & ((x['F'] == 1)| (x['F'] == 2)):\n",
    "        return 'Promising'\n",
    "    elif (x['R'] == 1) & (x['F'] == 4):\n",
    "        return 'Should not lose'\n",
    "    elif (x['R'] == 2) & ((x['F'] == 3)| (x['F'] == 4)):\n",
    "        return 'At Risk'\n",
    "    elif ((x['R'] == 1)|(x['R'] == 2)) & ((x['F'] == 1)| (x['F'] == 2)):\n",
    "        return 'Hibernating'\n",
    "    elif x['F']==3:\n",
    "        return 'Loyal Customers'\n",
    "    elif x['M']==4:\n",
    "        return 'Big Spenders'\n",
    "    else:\n",
    "        return 'Others'"
   ]
  },
  {
   "cell_type": "code",
   "execution_count": 33,
   "metadata": {},
   "outputs": [],
   "source": [
    "datamart['General_Segment'] = datamart.apply(segment, axis=1)"
   ]
  },
  {
   "cell_type": "code",
   "execution_count": 34,
   "metadata": {
    "scrolled": true
   },
   "outputs": [
    {
     "data": {
      "text/html": [
       "<div>\n",
       "<style scoped>\n",
       "    .dataframe tbody tr th:only-of-type {\n",
       "        vertical-align: middle;\n",
       "    }\n",
       "\n",
       "    .dataframe tbody tr th {\n",
       "        vertical-align: top;\n",
       "    }\n",
       "\n",
       "    .dataframe thead tr th {\n",
       "        text-align: left;\n",
       "    }\n",
       "\n",
       "    .dataframe thead tr:last-of-type th {\n",
       "        text-align: right;\n",
       "    }\n",
       "</style>\n",
       "<table border=\"1\" class=\"dataframe\">\n",
       "  <thead>\n",
       "    <tr>\n",
       "      <th></th>\n",
       "      <th>Recency</th>\n",
       "      <th>Frequency</th>\n",
       "      <th colspan=\"2\" halign=\"left\">MonetaryValue</th>\n",
       "    </tr>\n",
       "    <tr>\n",
       "      <th></th>\n",
       "      <th>mean</th>\n",
       "      <th>mean</th>\n",
       "      <th>mean</th>\n",
       "      <th>count</th>\n",
       "    </tr>\n",
       "    <tr>\n",
       "      <th>General_Segment</th>\n",
       "      <th></th>\n",
       "      <th></th>\n",
       "      <th></th>\n",
       "      <th></th>\n",
       "    </tr>\n",
       "  </thead>\n",
       "  <tbody>\n",
       "    <tr>\n",
       "      <th>At Risk</th>\n",
       "      <td>301.2</td>\n",
       "      <td>1.3</td>\n",
       "      <td>105361.5</td>\n",
       "      <td>971</td>\n",
       "    </tr>\n",
       "    <tr>\n",
       "      <th>Best Customers</th>\n",
       "      <td>118.3</td>\n",
       "      <td>4.7</td>\n",
       "      <td>477341.4</td>\n",
       "      <td>3258</td>\n",
       "    </tr>\n",
       "    <tr>\n",
       "      <th>Hibernating</th>\n",
       "      <td>377.3</td>\n",
       "      <td>1.0</td>\n",
       "      <td>147303.5</td>\n",
       "      <td>3135</td>\n",
       "    </tr>\n",
       "    <tr>\n",
       "      <th>Lost Cheap Customers</th>\n",
       "      <td>419.0</td>\n",
       "      <td>1.0</td>\n",
       "      <td>0.0</td>\n",
       "      <td>76</td>\n",
       "    </tr>\n",
       "    <tr>\n",
       "      <th>Loyal Customers</th>\n",
       "      <td>451.6</td>\n",
       "      <td>1.0</td>\n",
       "      <td>164540.4</td>\n",
       "      <td>855</td>\n",
       "    </tr>\n",
       "    <tr>\n",
       "      <th>Loyal Customers, Big Spenders, Almost Lost</th>\n",
       "      <td>307.8</td>\n",
       "      <td>14.1</td>\n",
       "      <td>3086484.6</td>\n",
       "      <td>324</td>\n",
       "    </tr>\n",
       "    <tr>\n",
       "      <th>Loyal Customers, Big Spenders, Lost Customers</th>\n",
       "      <td>407.0</td>\n",
       "      <td>3.1</td>\n",
       "      <td>493268.6</td>\n",
       "      <td>255</td>\n",
       "    </tr>\n",
       "    <tr>\n",
       "      <th>New Customer</th>\n",
       "      <td>42.5</td>\n",
       "      <td>1.0</td>\n",
       "      <td>12222.3</td>\n",
       "      <td>1190</td>\n",
       "    </tr>\n",
       "    <tr>\n",
       "      <th>Promising</th>\n",
       "      <td>202.1</td>\n",
       "      <td>1.0</td>\n",
       "      <td>345091.0</td>\n",
       "      <td>1381</td>\n",
       "    </tr>\n",
       "    <tr>\n",
       "      <th>Should not lose</th>\n",
       "      <td>434.4</td>\n",
       "      <td>2.3</td>\n",
       "      <td>74343.2</td>\n",
       "      <td>118</td>\n",
       "    </tr>\n",
       "  </tbody>\n",
       "</table>\n",
       "</div>"
      ],
      "text/plain": [
       "                                              Recency Frequency MonetaryValue  \\\n",
       "                                                 mean      mean          mean   \n",
       "General_Segment                                                                 \n",
       "At Risk                                         301.2       1.3      105361.5   \n",
       "Best Customers                                  118.3       4.7      477341.4   \n",
       "Hibernating                                     377.3       1.0      147303.5   \n",
       "Lost Cheap Customers                            419.0       1.0           0.0   \n",
       "Loyal Customers                                 451.6       1.0      164540.4   \n",
       "Loyal Customers, Big Spenders, Almost Lost      307.8      14.1     3086484.6   \n",
       "Loyal Customers, Big Spenders, Lost Customers   407.0       3.1      493268.6   \n",
       "New Customer                                     42.5       1.0       12222.3   \n",
       "Promising                                       202.1       1.0      345091.0   \n",
       "Should not lose                                 434.4       2.3       74343.2   \n",
       "\n",
       "                                                     \n",
       "                                              count  \n",
       "General_Segment                                      \n",
       "At Risk                                         971  \n",
       "Best Customers                                 3258  \n",
       "Hibernating                                    3135  \n",
       "Lost Cheap Customers                             76  \n",
       "Loyal Customers                                 855  \n",
       "Loyal Customers, Big Spenders, Almost Lost      324  \n",
       "Loyal Customers, Big Spenders, Lost Customers   255  \n",
       "New Customer                                   1190  \n",
       "Promising                                      1381  \n",
       "Should not lose                                 118  "
      ]
     },
     "execution_count": 34,
     "metadata": {},
     "output_type": "execute_result"
    }
   ],
   "source": [
    "datamart.groupby('General_Segment').agg({\n",
    "    'Recency': 'mean',\n",
    "    'Frequency': 'mean',\n",
    "    'MonetaryValue': ['mean', 'count']\n",
    "}).round(1)"
   ]
  },
  {
   "cell_type": "code",
   "execution_count": 35,
   "metadata": {},
   "outputs": [
    {
     "data": {
      "text/plain": [
       "<matplotlib.axes._subplots.AxesSubplot at 0x1fe0d7bd6d0>"
      ]
     },
     "execution_count": 35,
     "metadata": {},
     "output_type": "execute_result"
    },
    {
     "data": {
      "image/png": "[encoded data removed]",
      "text/plain": [
       "<Figure size 432x288 with 1 Axes>"
      ]
     },
     "metadata": {
      "needs_background": "light"
     },
     "output_type": "display_data"
    }
   ],
   "source": [
    "datamart.groupby('General_Segment').size().plot(kind='barh')"
   ]
  },
  {
   "cell_type": "markdown",
   "metadata": {},
   "source": [
    "# Cluster dengan nilai ranking"
   ]
  },
  {
   "cell_type": "markdown",
   "metadata": {},
   "source": [
    "## Data pre-processing for Kmeans clustering"
   ]
  },
  {
   "cell_type": "code",
   "execution_count": 36,
   "metadata": {},
   "outputs": [],
   "source": [
    "rfm_clus = datamart[['R', 'F', 'M']]"
   ]
  },
  {
   "cell_type": "code",
   "execution_count": 37,
   "metadata": {},
   "outputs": [],
   "source": [
    "rfm_clus.head().reset_index(inplace=True)"
   ]
  },
  {
   "cell_type": "code",
   "execution_count": 38,
   "metadata": {},
   "outputs": [
    {
     "data": {
      "text/html": [
       "<div>\n",
       "<style scoped>\n",
       "    .dataframe tbody tr th:only-of-type {\n",
       "        vertical-align: middle;\n",
       "    }\n",
       "\n",
       "    .dataframe tbody tr th {\n",
       "        vertical-align: top;\n",
       "    }\n",
       "\n",
       "    .dataframe thead th {\n",
       "        text-align: right;\n",
       "    }\n",
       "</style>\n",
       "<table border=\"1\" class=\"dataframe\">\n",
       "  <thead>\n",
       "    <tr style=\"text-align: right;\">\n",
       "      <th></th>\n",
       "      <th>R</th>\n",
       "      <th>F</th>\n",
       "      <th>M</th>\n",
       "    </tr>\n",
       "    <tr>\n",
       "      <th>user_id</th>\n",
       "      <th></th>\n",
       "      <th></th>\n",
       "      <th></th>\n",
       "    </tr>\n",
       "  </thead>\n",
       "  <tbody>\n",
       "    <tr>\n",
       "      <th>000d596f61a329e66ddc8b83cf4a92eb2278646f26de22b2744d91f087655c48</th>\n",
       "      <td>1</td>\n",
       "      <td>1</td>\n",
       "      <td>4</td>\n",
       "    </tr>\n",
       "    <tr>\n",
       "      <th>000e9d2d78e491e609fb4e51a50a618f7b7993f9b9fa2689f1710431a9e9466b</th>\n",
       "      <td>1</td>\n",
       "      <td>1</td>\n",
       "      <td>4</td>\n",
       "    </tr>\n",
       "    <tr>\n",
       "      <th>00146b96f857a3f3f780b7e16ea8d5d2694f0dd373cad33b123e3dd6d5890dbf</th>\n",
       "      <td>3</td>\n",
       "      <td>1</td>\n",
       "      <td>2</td>\n",
       "    </tr>\n",
       "    <tr>\n",
       "      <th>0018ea7b3a2c90c06b832395fad89f56118044018673ef302de87d69db0f4a56</th>\n",
       "      <td>3</td>\n",
       "      <td>1</td>\n",
       "      <td>4</td>\n",
       "    </tr>\n",
       "    <tr>\n",
       "      <th>001c27164a52edca6eddd042aba5368b23d42a154c1b25969775e72c26bba5c8</th>\n",
       "      <td>4</td>\n",
       "      <td>4</td>\n",
       "      <td>4</td>\n",
       "    </tr>\n",
       "  </tbody>\n",
       "</table>\n",
       "</div>"
      ],
      "text/plain": [
       "                                                    R  F  M\n",
       "user_id                                                    \n",
       "000d596f61a329e66ddc8b83cf4a92eb2278646f26de22b...  1  1  4\n",
       "000e9d2d78e491e609fb4e51a50a618f7b7993f9b9fa268...  1  1  4\n",
       "00146b96f857a3f3f780b7e16ea8d5d2694f0dd373cad33...  3  1  2\n",
       "0018ea7b3a2c90c06b832395fad89f56118044018673ef3...  3  1  4\n",
       "001c27164a52edca6eddd042aba5368b23d42a154c1b259...  4  4  4"
      ]
     },
     "execution_count": 38,
     "metadata": {},
     "output_type": "execute_result"
    }
   ],
   "source": [
    "rfm_clus.head()"
   ]
  },
  {
   "cell_type": "code",
   "execution_count": 39,
   "metadata": {},
   "outputs": [
    {
     "data": {
      "text/plain": [
       "R    category\n",
       "F    category\n",
       "M    category\n",
       "dtype: object"
      ]
     },
     "execution_count": 39,
     "metadata": {},
     "output_type": "execute_result"
    }
   ],
   "source": [
    "rfm_clus.dtypes"
   ]
  },
  {
   "cell_type": "code",
   "execution_count": 40,
   "metadata": {},
   "outputs": [],
   "source": [
    "rfm_clus = rfm_clus.astype('int64')"
   ]
  },
  {
   "cell_type": "code",
   "execution_count": 41,
   "metadata": {},
   "outputs": [
    {
     "data": {
      "text/plain": [
       "R    int64\n",
       "F    int64\n",
       "M    int64\n",
       "dtype: object"
      ]
     },
     "execution_count": 41,
     "metadata": {},
     "output_type": "execute_result"
    }
   ],
   "source": [
    "rfm_clus.dtypes"
   ]
  },
  {
   "cell_type": "markdown",
   "metadata": {},
   "source": [
    "## Practical implementation of k-means clustering"
   ]
  },
  {
   "cell_type": "code",
   "execution_count": 42,
   "metadata": {},
   "outputs": [],
   "source": [
    "rfm_fit = np.asarray(rfm_clus)"
   ]
  },
  {
   "cell_type": "markdown",
   "metadata": {},
   "source": [
    "n_cluster berdasarkan elbow methond"
   ]
  },
  {
   "cell_type": "code",
   "execution_count": 43,
   "metadata": {},
   "outputs": [],
   "source": [
    "# Import KMeans \n",
    "from sklearn.cluster import KMeans"
   ]
  },
  {
   "cell_type": "code",
   "execution_count": 44,
   "metadata": {},
   "outputs": [
    {
     "name": "stdout",
     "output_type": "stream",
     "text": [
      "range(1, 18)\n",
      "[43273.37645939693, 27154.573148310457, 19047.9688558604, 15058.674949156673, 11914.515456901074, 9828.7972998065, 8752.263284813698, 7413.395549104546, 7004.697093621146, 6520.491591207018, 6170.13099340385, 5831.396767347714, 5572.486587308658, 5099.521054055143, 4944.619185586574, 4424.829994695945, 4210.065852915419]\n"
     ]
    }
   ],
   "source": [
    "k = range(1, 18)\n",
    "sse = []\n",
    "\n",
    "for i in k:\n",
    "    model = KMeans(n_clusters = i)\n",
    "    model.fit(rfm_fit)\n",
    "    sse.append(model.inertia_)\n",
    "\n",
    "print(k)\n",
    "print(sse)"
   ]
  },
  {
   "cell_type": "code",
   "execution_count": 45,
   "metadata": {},
   "outputs": [
    {
     "data": {
      "text/plain": [
       "Text(5, 4424.829994695945, 'Best k value = 6\\n(Elbow)')"
      ]
     },
     "execution_count": 45,
     "metadata": {},
     "output_type": "execute_result"
    },
    {
     "data": {
      "image/png": "[encoded data removed]",
      "text/plain": [
       "<Figure size 864x576 with 1 Axes>"
      ]
     },
     "metadata": {
      "needs_background": "light"
     },
     "output_type": "display_data"
    }
   ],
   "source": [
    "plt.figure(figsize=(12,8))\n",
    "plt.plot(k, sse, color='blue', linestyle='--', marker='o')\n",
    "plt.xlabel('k value')\n",
    "plt.ylabel('inertia sum squared error')\n",
    "plt.plot(k[5], sse[5], color='red', marker='s')\n",
    "plt.annotate(\n",
    "    'Best k value = 6\\n(Elbow)', xy=(k[5], sse[5]),\n",
    "    xytext = (k[4], sse[15]), arrowprops = dict(facecolor='black', shrink=0.1)\n",
    ")"
   ]
  },
  {
   "cell_type": "code",
   "execution_count": 61,
   "metadata": {},
   "outputs": [],
   "source": [
    "# Initialize KMeans\n",
    "kmeans = KMeans(n_clusters = 6, random_state = 1) \n",
    "\n",
    "# Fit k-means clustering on the normalized data set\n",
    "kmeans.fit(rfm_fit)\n",
    "\n",
    "# Extract cluster labels\n",
    "cluster_labels = kmeans.labels_"
   ]
  },
  {
   "cell_type": "code",
   "execution_count": 62,
   "metadata": {},
   "outputs": [
    {
     "data": {
      "text/html": [
       "<div>\n",
       "<style scoped>\n",
       "    .dataframe tbody tr th:only-of-type {\n",
       "        vertical-align: middle;\n",
       "    }\n",
       "\n",
       "    .dataframe tbody tr th {\n",
       "        vertical-align: top;\n",
       "    }\n",
       "\n",
       "    .dataframe thead tr th {\n",
       "        text-align: left;\n",
       "    }\n",
       "\n",
       "    .dataframe thead tr:last-of-type th {\n",
       "        text-align: right;\n",
       "    }\n",
       "</style>\n",
       "<table border=\"1\" class=\"dataframe\">\n",
       "  <thead>\n",
       "    <tr>\n",
       "      <th></th>\n",
       "      <th>R</th>\n",
       "      <th>F</th>\n",
       "      <th colspan=\"2\" halign=\"left\">M</th>\n",
       "    </tr>\n",
       "    <tr>\n",
       "      <th></th>\n",
       "      <th>mean</th>\n",
       "      <th>mean</th>\n",
       "      <th>mean</th>\n",
       "      <th>count</th>\n",
       "    </tr>\n",
       "    <tr>\n",
       "      <th>Cluster</th>\n",
       "      <th></th>\n",
       "      <th></th>\n",
       "      <th></th>\n",
       "      <th></th>\n",
       "    </tr>\n",
       "  </thead>\n",
       "  <tbody>\n",
       "    <tr>\n",
       "      <th>0</th>\n",
       "      <td>2.8</td>\n",
       "      <td>3.7</td>\n",
       "      <td>3.7</td>\n",
       "      <td>1890</td>\n",
       "    </tr>\n",
       "    <tr>\n",
       "      <th>1</th>\n",
       "      <td>3.7</td>\n",
       "      <td>1.5</td>\n",
       "      <td>1.2</td>\n",
       "      <td>1721</td>\n",
       "    </tr>\n",
       "    <tr>\n",
       "      <th>2</th>\n",
       "      <td>2.4</td>\n",
       "      <td>1.4</td>\n",
       "      <td>3.5</td>\n",
       "      <td>1893</td>\n",
       "    </tr>\n",
       "    <tr>\n",
       "      <th>3</th>\n",
       "      <td>1.3</td>\n",
       "      <td>3.0</td>\n",
       "      <td>3.0</td>\n",
       "      <td>2287</td>\n",
       "    </tr>\n",
       "    <tr>\n",
       "      <th>4</th>\n",
       "      <td>3.8</td>\n",
       "      <td>3.6</td>\n",
       "      <td>1.4</td>\n",
       "      <td>2007</td>\n",
       "    </tr>\n",
       "    <tr>\n",
       "      <th>5</th>\n",
       "      <td>1.4</td>\n",
       "      <td>1.5</td>\n",
       "      <td>2.0</td>\n",
       "      <td>1765</td>\n",
       "    </tr>\n",
       "  </tbody>\n",
       "</table>\n",
       "</div>"
      ],
      "text/plain": [
       "           R    F    M      \n",
       "        mean mean mean count\n",
       "Cluster                     \n",
       "0        2.8  3.7  3.7  1890\n",
       "1        3.7  1.5  1.2  1721\n",
       "2        2.4  1.4  3.5  1893\n",
       "3        1.3  3.0  3.0  2287\n",
       "4        3.8  3.6  1.4  2007\n",
       "5        1.4  1.5  2.0  1765"
      ]
     },
     "execution_count": 62,
     "metadata": {},
     "output_type": "execute_result"
    }
   ],
   "source": [
    "# Create a DataFrame by adding a new cluster label column\n",
    "rfm_k6 = rfm_clus.assign(Cluster=cluster_labels)\n",
    "\n",
    "# Group the data by cluster\n",
    "grouped = rfm_k6.groupby(['Cluster'])\n",
    "\n",
    "# Calculate average RFM values and segment sizes per cluster value\n",
    "grouped.agg({\n",
    "    'R': 'mean',\n",
    "    'F': 'mean',\n",
    "    'M': ['mean', 'count']\n",
    "  }).round(1)"
   ]
  },
  {
   "cell_type": "markdown",
   "metadata": {},
   "source": [
    "#### Melihat snake plot berdasarkan jumlah cluster"
   ]
  },
  {
   "cell_type": "code",
   "execution_count": 63,
   "metadata": {},
   "outputs": [],
   "source": [
    "rfm_clus['Cluster'] = rfm_k6['Cluster'] "
   ]
  },
  {
   "cell_type": "code",
   "execution_count": 64,
   "metadata": {},
   "outputs": [],
   "source": [
    "# Melt the normalized dataset and reset the index\n",
    "datamart_melt = pd.melt(\n",
    "                    rfm_k6.reset_index(), \n",
    "                        \n",
    "# Assign CustomerID and Cluster as ID variables\n",
    "                    id_vars=['user_id', 'Cluster'],\n",
    "\n",
    "# Assign RFM values as value variables\n",
    "                    value_vars=['R', 'F', 'M'], \n",
    "                        \n",
    "# Name the variable and value\n",
    "                    var_name='Metric', value_name='Value'\n",
    "                    )"
   ]
  },
  {
   "cell_type": "code",
   "execution_count": 65,
   "metadata": {},
   "outputs": [
    {
     "data": {
      "text/html": [
       "<div>\n",
       "<style scoped>\n",
       "    .dataframe tbody tr th:only-of-type {\n",
       "        vertical-align: middle;\n",
       "    }\n",
       "\n",
       "    .dataframe tbody tr th {\n",
       "        vertical-align: top;\n",
       "    }\n",
       "\n",
       "    .dataframe thead th {\n",
       "        text-align: right;\n",
       "    }\n",
       "</style>\n",
       "<table border=\"1\" class=\"dataframe\">\n",
       "  <thead>\n",
       "    <tr style=\"text-align: right;\">\n",
       "      <th></th>\n",
       "      <th>user_id</th>\n",
       "      <th>Cluster</th>\n",
       "      <th>Metric</th>\n",
       "      <th>Value</th>\n",
       "    </tr>\n",
       "  </thead>\n",
       "  <tbody>\n",
       "    <tr>\n",
       "      <th>0</th>\n",
       "      <td>000d596f61a329e66ddc8b83cf4a92eb2278646f26de22...</td>\n",
       "      <td>2</td>\n",
       "      <td>R</td>\n",
       "      <td>1</td>\n",
       "    </tr>\n",
       "    <tr>\n",
       "      <th>1</th>\n",
       "      <td>000e9d2d78e491e609fb4e51a50a618f7b7993f9b9fa26...</td>\n",
       "      <td>2</td>\n",
       "      <td>R</td>\n",
       "      <td>1</td>\n",
       "    </tr>\n",
       "    <tr>\n",
       "      <th>2</th>\n",
       "      <td>00146b96f857a3f3f780b7e16ea8d5d2694f0dd373cad3...</td>\n",
       "      <td>1</td>\n",
       "      <td>R</td>\n",
       "      <td>3</td>\n",
       "    </tr>\n",
       "    <tr>\n",
       "      <th>3</th>\n",
       "      <td>0018ea7b3a2c90c06b832395fad89f56118044018673ef...</td>\n",
       "      <td>2</td>\n",
       "      <td>R</td>\n",
       "      <td>3</td>\n",
       "    </tr>\n",
       "    <tr>\n",
       "      <th>4</th>\n",
       "      <td>001c27164a52edca6eddd042aba5368b23d42a154c1b25...</td>\n",
       "      <td>0</td>\n",
       "      <td>R</td>\n",
       "      <td>4</td>\n",
       "    </tr>\n",
       "  </tbody>\n",
       "</table>\n",
       "</div>"
      ],
      "text/plain": [
       "                                             user_id  Cluster Metric  Value\n",
       "0  000d596f61a329e66ddc8b83cf4a92eb2278646f26de22...        2      R      1\n",
       "1  000e9d2d78e491e609fb4e51a50a618f7b7993f9b9fa26...        2      R      1\n",
       "2  00146b96f857a3f3f780b7e16ea8d5d2694f0dd373cad3...        1      R      3\n",
       "3  0018ea7b3a2c90c06b832395fad89f56118044018673ef...        2      R      3\n",
       "4  001c27164a52edca6eddd042aba5368b23d42a154c1b25...        0      R      4"
      ]
     },
     "execution_count": 65,
     "metadata": {},
     "output_type": "execute_result"
    }
   ],
   "source": [
    "datamart_melt.head()"
   ]
  },
  {
   "cell_type": "code",
   "execution_count": 66,
   "metadata": {},
   "outputs": [
    {
     "data": {
      "text/plain": [
       "<matplotlib.axes._subplots.AxesSubplot at 0x1fe0dea6790>"
      ]
     },
     "execution_count": 66,
     "metadata": {},
     "output_type": "execute_result"
    },
    {
     "data": {
      "image/png": "[encoded data removed]",
      "text/plain": [
       "<Figure size 1080x576 with 1 Axes>"
      ]
     },
     "metadata": {
      "needs_background": "light"
     },
     "output_type": "display_data"
    }
   ],
   "source": [
    "plt.figure(figsize=(15,8))\n",
    "plt.title('Snake plot of standardized variables') \n",
    "sns.lineplot(x=\"Metric\", y=\"Value\", hue='Cluster', data=datamart_melt, palette=\"deep\")"
   ]
  },
  {
   "cell_type": "markdown",
   "metadata": {},
   "source": [
    "#### Melihat relative importance masing-masing cluster terhadap nilai pada RFM"
   ]
  },
  {
   "cell_type": "code",
   "execution_count": 67,
   "metadata": {},
   "outputs": [],
   "source": [
    "cluster_avg = rfm_k6.groupby(['Cluster']).mean()"
   ]
  },
  {
   "cell_type": "code",
   "execution_count": 68,
   "metadata": {},
   "outputs": [],
   "source": [
    "cluster_heat = grouped.agg({\n",
    "                'R': 'mean',\n",
    "                'F': 'mean',\n",
    "                'M': ['mean']\n",
    "                }).round(1)"
   ]
  },
  {
   "cell_type": "code",
   "execution_count": 69,
   "metadata": {},
   "outputs": [
    {
     "data": {
      "text/html": [
       "<div>\n",
       "<style scoped>\n",
       "    .dataframe tbody tr th:only-of-type {\n",
       "        vertical-align: middle;\n",
       "    }\n",
       "\n",
       "    .dataframe tbody tr th {\n",
       "        vertical-align: top;\n",
       "    }\n",
       "\n",
       "    .dataframe thead tr th {\n",
       "        text-align: left;\n",
       "    }\n",
       "\n",
       "    .dataframe thead tr:last-of-type th {\n",
       "        text-align: right;\n",
       "    }\n",
       "</style>\n",
       "<table border=\"1\" class=\"dataframe\">\n",
       "  <thead>\n",
       "    <tr>\n",
       "      <th></th>\n",
       "      <th>R</th>\n",
       "      <th>F</th>\n",
       "      <th>M</th>\n",
       "    </tr>\n",
       "    <tr>\n",
       "      <th></th>\n",
       "      <th>mean</th>\n",
       "      <th>mean</th>\n",
       "      <th>mean</th>\n",
       "    </tr>\n",
       "    <tr>\n",
       "      <th>Cluster</th>\n",
       "      <th></th>\n",
       "      <th></th>\n",
       "      <th></th>\n",
       "    </tr>\n",
       "  </thead>\n",
       "  <tbody>\n",
       "    <tr>\n",
       "      <th>0</th>\n",
       "      <td>2.8</td>\n",
       "      <td>3.7</td>\n",
       "      <td>3.7</td>\n",
       "    </tr>\n",
       "    <tr>\n",
       "      <th>1</th>\n",
       "      <td>3.7</td>\n",
       "      <td>1.5</td>\n",
       "      <td>1.2</td>\n",
       "    </tr>\n",
       "    <tr>\n",
       "      <th>2</th>\n",
       "      <td>2.4</td>\n",
       "      <td>1.4</td>\n",
       "      <td>3.5</td>\n",
       "    </tr>\n",
       "    <tr>\n",
       "      <th>3</th>\n",
       "      <td>1.3</td>\n",
       "      <td>3.0</td>\n",
       "      <td>3.0</td>\n",
       "    </tr>\n",
       "    <tr>\n",
       "      <th>4</th>\n",
       "      <td>3.8</td>\n",
       "      <td>3.6</td>\n",
       "      <td>1.4</td>\n",
       "    </tr>\n",
       "    <tr>\n",
       "      <th>5</th>\n",
       "      <td>1.4</td>\n",
       "      <td>1.5</td>\n",
       "      <td>2.0</td>\n",
       "    </tr>\n",
       "  </tbody>\n",
       "</table>\n",
       "</div>"
      ],
      "text/plain": [
       "           R    F    M\n",
       "        mean mean mean\n",
       "Cluster               \n",
       "0        2.8  3.7  3.7\n",
       "1        3.7  1.5  1.2\n",
       "2        2.4  1.4  3.5\n",
       "3        1.3  3.0  3.0\n",
       "4        3.8  3.6  1.4\n",
       "5        1.4  1.5  2.0"
      ]
     },
     "execution_count": 69,
     "metadata": {},
     "output_type": "execute_result"
    }
   ],
   "source": [
    "cluster_heat"
   ]
  },
  {
   "cell_type": "code",
   "execution_count": 70,
   "metadata": {},
   "outputs": [
    {
     "data": {
      "image/png": "[encoded data removed]",
      "text/plain": [
       "<Figure size 864x360 with 2 Axes>"
      ]
     },
     "metadata": {
      "needs_background": "light"
     },
     "output_type": "display_data"
    }
   ],
   "source": [
    "# Initialize a plot with a figure size of 8 by 2 inches \n",
    "plt.figure(figsize=(12, 5))\n",
    "\n",
    "# Add the plot title\n",
    "plt.title('Relative importance of RFM Ranking - REGISTERED')\n",
    "\n",
    "# Plot the heatmap\n",
    "sns.heatmap(data=cluster_heat, annot=True, fmt='.2f', cmap='RdYlGn')\n",
    "plt.show()"
   ]
  },
  {
   "cell_type": "code",
   "execution_count": 71,
   "metadata": {},
   "outputs": [
    {
     "name": "stdout",
     "output_type": "stream",
     "text": [
      "0.9380944848606582\n"
     ]
    }
   ],
   "source": [
    "from sklearn.metrics import davies_bouldin_score\n",
    "labels_2 = kmeans.labels_ \n",
    "\n",
    "print(davies_bouldin_score(rfm_fit, labels_2)) "
   ]
  },
  {
   "cell_type": "code",
   "execution_count": 72,
   "metadata": {},
   "outputs": [
    {
     "name": "stdout",
     "output_type": "stream",
     "text": [
      "0.9380944848606582\n"
     ]
    }
   ],
   "source": [
    "from sklearn.metrics import davies_bouldin_score\n",
    "labels_2 = kmeans.labels_ \n",
    "\n",
    "print(davies_bouldin_score(rfm_fit, labels_2)) "
   ]
  },
  {
   "cell_type": "markdown",
   "metadata": {},
   "source": [
    "### Clustering Visualization"
   ]
  },
  {
   "cell_type": "code",
   "execution_count": 80,
   "metadata": {
    "scrolled": true
   },
   "outputs": [
    {
     "data": {
      "text/html": [
       "<div>\n",
       "<style scoped>\n",
       "    .dataframe tbody tr th:only-of-type {\n",
       "        vertical-align: middle;\n",
       "    }\n",
       "\n",
       "    .dataframe tbody tr th {\n",
       "        vertical-align: top;\n",
       "    }\n",
       "\n",
       "    .dataframe thead th {\n",
       "        text-align: right;\n",
       "    }\n",
       "</style>\n",
       "<table border=\"1\" class=\"dataframe\">\n",
       "  <thead>\n",
       "    <tr style=\"text-align: right;\">\n",
       "      <th></th>\n",
       "      <th>R</th>\n",
       "      <th>F</th>\n",
       "      <th>M</th>\n",
       "      <th>Cluster</th>\n",
       "    </tr>\n",
       "    <tr>\n",
       "      <th>user_id</th>\n",
       "      <th></th>\n",
       "      <th></th>\n",
       "      <th></th>\n",
       "      <th></th>\n",
       "    </tr>\n",
       "  </thead>\n",
       "  <tbody>\n",
       "    <tr>\n",
       "      <th>000d596f61a329e66ddc8b83cf4a92eb2278646f26de22b2744d91f087655c48</th>\n",
       "      <td>1</td>\n",
       "      <td>1</td>\n",
       "      <td>4</td>\n",
       "      <td>2</td>\n",
       "    </tr>\n",
       "    <tr>\n",
       "      <th>000e9d2d78e491e609fb4e51a50a618f7b7993f9b9fa2689f1710431a9e9466b</th>\n",
       "      <td>1</td>\n",
       "      <td>1</td>\n",
       "      <td>4</td>\n",
       "      <td>2</td>\n",
       "    </tr>\n",
       "    <tr>\n",
       "      <th>00146b96f857a3f3f780b7e16ea8d5d2694f0dd373cad33b123e3dd6d5890dbf</th>\n",
       "      <td>3</td>\n",
       "      <td>1</td>\n",
       "      <td>2</td>\n",
       "      <td>1</td>\n",
       "    </tr>\n",
       "    <tr>\n",
       "      <th>0018ea7b3a2c90c06b832395fad89f56118044018673ef302de87d69db0f4a56</th>\n",
       "      <td>3</td>\n",
       "      <td>1</td>\n",
       "      <td>4</td>\n",
       "      <td>2</td>\n",
       "    </tr>\n",
       "    <tr>\n",
       "      <th>001c27164a52edca6eddd042aba5368b23d42a154c1b25969775e72c26bba5c8</th>\n",
       "      <td>4</td>\n",
       "      <td>4</td>\n",
       "      <td>4</td>\n",
       "      <td>0</td>\n",
       "    </tr>\n",
       "  </tbody>\n",
       "</table>\n",
       "</div>"
      ],
      "text/plain": [
       "                                                    R  F  M  Cluster\n",
       "user_id                                                             \n",
       "000d596f61a329e66ddc8b83cf4a92eb2278646f26de22b...  1  1  4        2\n",
       "000e9d2d78e491e609fb4e51a50a618f7b7993f9b9fa268...  1  1  4        2\n",
       "00146b96f857a3f3f780b7e16ea8d5d2694f0dd373cad33...  3  1  2        1\n",
       "0018ea7b3a2c90c06b832395fad89f56118044018673ef3...  3  1  4        2\n",
       "001c27164a52edca6eddd042aba5368b23d42a154c1b259...  4  4  4        0"
      ]
     },
     "execution_count": 80,
     "metadata": {},
     "output_type": "execute_result"
    }
   ],
   "source": [
    "rfm_clus.head()"
   ]
  },
  {
   "cell_type": "code",
   "execution_count": 74,
   "metadata": {},
   "outputs": [],
   "source": [
    "datamart['K-Means_Cluster']=rfm_clus['Cluster']"
   ]
  },
  {
   "cell_type": "code",
   "execution_count": 81,
   "metadata": {},
   "outputs": [
    {
     "data": {
      "text/html": [
       "<div>\n",
       "<style scoped>\n",
       "    .dataframe tbody tr th:only-of-type {\n",
       "        vertical-align: middle;\n",
       "    }\n",
       "\n",
       "    .dataframe tbody tr th {\n",
       "        vertical-align: top;\n",
       "    }\n",
       "\n",
       "    .dataframe thead th {\n",
       "        text-align: right;\n",
       "    }\n",
       "</style>\n",
       "<table border=\"1\" class=\"dataframe\">\n",
       "  <thead>\n",
       "    <tr style=\"text-align: right;\">\n",
       "      <th></th>\n",
       "      <th>Recency</th>\n",
       "      <th>Frequency</th>\n",
       "      <th>MonetaryValue</th>\n",
       "      <th>R</th>\n",
       "      <th>F</th>\n",
       "      <th>M</th>\n",
       "      <th>RFM_Segment</th>\n",
       "      <th>RFM_Score</th>\n",
       "      <th>General_Segment</th>\n",
       "      <th>K-Means_Cluster</th>\n",
       "    </tr>\n",
       "    <tr>\n",
       "      <th>user_id</th>\n",
       "      <th></th>\n",
       "      <th></th>\n",
       "      <th></th>\n",
       "      <th></th>\n",
       "      <th></th>\n",
       "      <th></th>\n",
       "      <th></th>\n",
       "      <th></th>\n",
       "      <th></th>\n",
       "      <th></th>\n",
       "    </tr>\n",
       "  </thead>\n",
       "  <tbody>\n",
       "    <tr>\n",
       "      <th>000d596f61a329e66ddc8b83cf4a92eb2278646f26de22b2744d91f087655c48</th>\n",
       "      <td>545.0</td>\n",
       "      <td>1.0</td>\n",
       "      <td>200000.0</td>\n",
       "      <td>1</td>\n",
       "      <td>1</td>\n",
       "      <td>4</td>\n",
       "      <td>114</td>\n",
       "      <td>6.0</td>\n",
       "      <td>Hibernating</td>\n",
       "      <td>2</td>\n",
       "    </tr>\n",
       "    <tr>\n",
       "      <th>000e9d2d78e491e609fb4e51a50a618f7b7993f9b9fa2689f1710431a9e9466b</th>\n",
       "      <td>453.0</td>\n",
       "      <td>1.0</td>\n",
       "      <td>875000.0</td>\n",
       "      <td>1</td>\n",
       "      <td>1</td>\n",
       "      <td>4</td>\n",
       "      <td>114</td>\n",
       "      <td>6.0</td>\n",
       "      <td>Hibernating</td>\n",
       "      <td>2</td>\n",
       "    </tr>\n",
       "    <tr>\n",
       "      <th>00146b96f857a3f3f780b7e16ea8d5d2694f0dd373cad33b123e3dd6d5890dbf</th>\n",
       "      <td>163.0</td>\n",
       "      <td>1.0</td>\n",
       "      <td>30000.0</td>\n",
       "      <td>3</td>\n",
       "      <td>1</td>\n",
       "      <td>2</td>\n",
       "      <td>312</td>\n",
       "      <td>6.0</td>\n",
       "      <td>Promising</td>\n",
       "      <td>1</td>\n",
       "    </tr>\n",
       "    <tr>\n",
       "      <th>0018ea7b3a2c90c06b832395fad89f56118044018673ef302de87d69db0f4a56</th>\n",
       "      <td>120.0</td>\n",
       "      <td>1.0</td>\n",
       "      <td>1500000.0</td>\n",
       "      <td>3</td>\n",
       "      <td>1</td>\n",
       "      <td>4</td>\n",
       "      <td>314</td>\n",
       "      <td>8.0</td>\n",
       "      <td>Promising</td>\n",
       "      <td>2</td>\n",
       "    </tr>\n",
       "    <tr>\n",
       "      <th>001c27164a52edca6eddd042aba5368b23d42a154c1b25969775e72c26bba5c8</th>\n",
       "      <td>83.0</td>\n",
       "      <td>3.0</td>\n",
       "      <td>259000.0</td>\n",
       "      <td>4</td>\n",
       "      <td>4</td>\n",
       "      <td>4</td>\n",
       "      <td>444</td>\n",
       "      <td>12.0</td>\n",
       "      <td>Best Customers</td>\n",
       "      <td>0</td>\n",
       "    </tr>\n",
       "  </tbody>\n",
       "</table>\n",
       "</div>"
      ],
      "text/plain": [
       "                                                    Recency  Frequency  \\\n",
       "user_id                                                                  \n",
       "000d596f61a329e66ddc8b83cf4a92eb2278646f26de22b...    545.0        1.0   \n",
       "000e9d2d78e491e609fb4e51a50a618f7b7993f9b9fa268...    453.0        1.0   \n",
       "00146b96f857a3f3f780b7e16ea8d5d2694f0dd373cad33...    163.0        1.0   \n",
       "0018ea7b3a2c90c06b832395fad89f56118044018673ef3...    120.0        1.0   \n",
       "001c27164a52edca6eddd042aba5368b23d42a154c1b259...     83.0        3.0   \n",
       "\n",
       "                                                    MonetaryValue  R  F  M  \\\n",
       "user_id                                                                      \n",
       "000d596f61a329e66ddc8b83cf4a92eb2278646f26de22b...       200000.0  1  1  4   \n",
       "000e9d2d78e491e609fb4e51a50a618f7b7993f9b9fa268...       875000.0  1  1  4   \n",
       "00146b96f857a3f3f780b7e16ea8d5d2694f0dd373cad33...        30000.0  3  1  2   \n",
       "0018ea7b3a2c90c06b832395fad89f56118044018673ef3...      1500000.0  3  1  4   \n",
       "001c27164a52edca6eddd042aba5368b23d42a154c1b259...       259000.0  4  4  4   \n",
       "\n",
       "                                                   RFM_Segment  RFM_Score  \\\n",
       "user_id                                                                     \n",
       "000d596f61a329e66ddc8b83cf4a92eb2278646f26de22b...         114        6.0   \n",
       "000e9d2d78e491e609fb4e51a50a618f7b7993f9b9fa268...         114        6.0   \n",
       "00146b96f857a3f3f780b7e16ea8d5d2694f0dd373cad33...         312        6.0   \n",
       "0018ea7b3a2c90c06b832395fad89f56118044018673ef3...         314        8.0   \n",
       "001c27164a52edca6eddd042aba5368b23d42a154c1b259...         444       12.0   \n",
       "\n",
       "                                                   General_Segment  \\\n",
       "user_id                                                              \n",
       "000d596f61a329e66ddc8b83cf4a92eb2278646f26de22b...     Hibernating   \n",
       "000e9d2d78e491e609fb4e51a50a618f7b7993f9b9fa268...     Hibernating   \n",
       "00146b96f857a3f3f780b7e16ea8d5d2694f0dd373cad33...       Promising   \n",
       "0018ea7b3a2c90c06b832395fad89f56118044018673ef3...       Promising   \n",
       "001c27164a52edca6eddd042aba5368b23d42a154c1b259...  Best Customers   \n",
       "\n",
       "                                                    K-Means_Cluster  \n",
       "user_id                                                              \n",
       "000d596f61a329e66ddc8b83cf4a92eb2278646f26de22b...                2  \n",
       "000e9d2d78e491e609fb4e51a50a618f7b7993f9b9fa268...                2  \n",
       "00146b96f857a3f3f780b7e16ea8d5d2694f0dd373cad33...                1  \n",
       "0018ea7b3a2c90c06b832395fad89f56118044018673ef3...                2  \n",
       "001c27164a52edca6eddd042aba5368b23d42a154c1b259...                0  "
      ]
     },
     "execution_count": 81,
     "metadata": {},
     "output_type": "execute_result"
    }
   ],
   "source": [
    "datamart.head()"
   ]
  },
  {
   "cell_type": "code",
   "execution_count": 82,
   "metadata": {},
   "outputs": [],
   "source": [
    "data = datamart.reset_index()"
   ]
  },
  {
   "cell_type": "markdown",
   "metadata": {},
   "source": [
    "Merge initial data with cluster data"
   ]
  },
  {
   "cell_type": "code",
   "execution_count": 83,
   "metadata": {},
   "outputs": [],
   "source": [
    "df_cluster = pd.merge(df, data, how='left')"
   ]
  },
  {
   "cell_type": "code",
   "execution_count": 86,
   "metadata": {},
   "outputs": [
    {
     "data": {
      "text/plain": [
       "user_id                 0\n",
       "event_id                0\n",
       "trx_date                0\n",
       "price                   0\n",
       "total_ticket_sold       0\n",
       "user_type               0\n",
       "location                0\n",
       "years                   0\n",
       "month_year              0\n",
       "days                    0\n",
       "hours                   0\n",
       "date                    0\n",
       "dayofmonth              0\n",
       "total_price             0\n",
       "word_event              0\n",
       "sub_category            0\n",
       "invoice_number          0\n",
       "Recency              6750\n",
       "Frequency            6750\n",
       "MonetaryValue        6750\n",
       "R                    6750\n",
       "F                    6750\n",
       "M                    6750\n",
       "RFM_Segment          6750\n",
       "RFM_Score            6750\n",
       "General_Segment      6750\n",
       "K-Means_Cluster      6750\n",
       "dtype: int64"
      ]
     },
     "execution_count": 86,
     "metadata": {},
     "output_type": "execute_result"
    }
   ],
   "source": [
    "df_cluster.isna().sum()"
   ]
  },
  {
   "cell_type": "code",
   "execution_count": 88,
   "metadata": {},
   "outputs": [],
   "source": [
    "df_cluster.dropna(inplace=True)"
   ]
  },
  {
   "cell_type": "code",
   "execution_count": null,
   "metadata": {},
   "outputs": [],
   "source": []
  }
 ],
 "metadata": {
  "kernelspec": {
   "display_name": "Python 3",
   "language": "python",
   "name": "python3"
  },
  "language_info": {
   "codemirror_mode": {
    "name": "ipython",
    "version": 3
   },
   "file_extension": ".py",
   "mimetype": "text/x-python",
   "name": "python",
   "nbconvert_exporter": "python",
   "pygments_lexer": "ipython3",
   "version": "3.8.3"
  }
 },
 "nbformat": 4,
 "nbformat_minor": 4
}
