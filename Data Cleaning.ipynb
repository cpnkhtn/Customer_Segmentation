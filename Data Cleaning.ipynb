{
 "cells": [
  {
   "cell_type": "markdown",
   "metadata": {},
   "source": [
    "## Import Library & Dataset"
   ]
  },
  {
   "cell_type": "markdown",
   "metadata": {},
   "source": [
    "**Import Library**"
   ]
  },
  {
   "cell_type": "code",
   "execution_count": 1,
   "metadata": {},
   "outputs": [],
   "source": [
    "import pandas as pd\n",
    "import datetime as dt\n",
    "import seaborn as sns \n",
    "import numpy as np\n",
    "import matplotlib.pyplot as plt\n",
    "\n",
    "import warnings\n",
    "warnings.filterwarnings('ignore')"
   ]
  },
  {
   "cell_type": "markdown",
   "metadata": {},
   "source": [
    "**Import Dataset**"
   ]
  },
  {
   "cell_type": "code",
   "execution_count": 2,
   "metadata": {},
   "outputs": [],
   "source": [
    "transactions = pd.read_csv('EVN/trx_2019_2020.csv')\n",
    "user = pd.read_csv('EVN/user_2019_2020.csv')\n",
    "event = pd.read_csv('EVN/event_2019_2020.csv')"
   ]
  },
  {
   "cell_type": "markdown",
   "metadata": {},
   "source": [
    "1. Sneak peek at **Dataframe transactions**"
   ]
  },
  {
   "cell_type": "code",
   "execution_count": 3,
   "metadata": {},
   "outputs": [
    {
     "data": {
      "text/html": [
       "<div>\n",
       "<style scoped>\n",
       "    .dataframe tbody tr th:only-of-type {\n",
       "        vertical-align: middle;\n",
       "    }\n",
       "\n",
       "    .dataframe tbody tr th {\n",
       "        vertical-align: top;\n",
       "    }\n",
       "\n",
       "    .dataframe thead th {\n",
       "        text-align: right;\n",
       "    }\n",
       "</style>\n",
       "<table border=\"1\" class=\"dataframe\">\n",
       "  <thead>\n",
       "    <tr style=\"text-align: right;\">\n",
       "      <th></th>\n",
       "      <th>user_id</th>\n",
       "      <th>event_id</th>\n",
       "      <th>trx_date</th>\n",
       "      <th>price</th>\n",
       "      <th>total_ticket_sold</th>\n",
       "      <th>event_type</th>\n",
       "      <th>event_category</th>\n",
       "      <th>organization_type</th>\n",
       "    </tr>\n",
       "  </thead>\n",
       "  <tbody>\n",
       "    <tr>\n",
       "      <th>0</th>\n",
       "      <td>d3bf14fe0bffbb499ef0d341f4b7c12aad9fbd3b9e0fd6...</td>\n",
       "      <td>6629d5a73302852ef915dbda22fa1994213eb36e41c893...</td>\n",
       "      <td>2019-01-01 02:15:30</td>\n",
       "      <td>75000</td>\n",
       "      <td>3</td>\n",
       "      <td>Event</td>\n",
       "      <td>Art Exhibition, Family, Art, Exhibition, Group...</td>\n",
       "      <td>Event Organizer</td>\n",
       "    </tr>\n",
       "    <tr>\n",
       "      <th>1</th>\n",
       "      <td>4f3e46a6e94452b566553485b619d2f305bd9d875d4f6d...</td>\n",
       "      <td>6629d5a73302852ef915dbda22fa1994213eb36e41c893...</td>\n",
       "      <td>2019-01-01 03:04:32</td>\n",
       "      <td>75000</td>\n",
       "      <td>2</td>\n",
       "      <td>Event</td>\n",
       "      <td>Art Exhibition, Family, Art, Exhibition, Group...</td>\n",
       "      <td>Event Organizer</td>\n",
       "    </tr>\n",
       "    <tr>\n",
       "      <th>2</th>\n",
       "      <td>23c44b20dafb34672868945ce6428ead219eb8bb5312c5...</td>\n",
       "      <td>6629d5a73302852ef915dbda22fa1994213eb36e41c893...</td>\n",
       "      <td>2019-01-01 03:11:44</td>\n",
       "      <td>100000</td>\n",
       "      <td>1</td>\n",
       "      <td>Event</td>\n",
       "      <td>Art Exhibition, Family, Art, Exhibition, Group...</td>\n",
       "      <td>Event Organizer</td>\n",
       "    </tr>\n",
       "    <tr>\n",
       "      <th>3</th>\n",
       "      <td>23c44b20dafb34672868945ce6428ead219eb8bb5312c5...</td>\n",
       "      <td>6629d5a73302852ef915dbda22fa1994213eb36e41c893...</td>\n",
       "      <td>2019-01-01 03:11:50</td>\n",
       "      <td>100000</td>\n",
       "      <td>1</td>\n",
       "      <td>Event</td>\n",
       "      <td>Art Exhibition, Family, Art, Exhibition, Group...</td>\n",
       "      <td>Event Organizer</td>\n",
       "    </tr>\n",
       "    <tr>\n",
       "      <th>4</th>\n",
       "      <td>38b796a79de6f453bb1ccc704e8aa86dd21f186398614e...</td>\n",
       "      <td>6629d5a73302852ef915dbda22fa1994213eb36e41c893...</td>\n",
       "      <td>2019-01-01 03:15:19</td>\n",
       "      <td>75000</td>\n",
       "      <td>1</td>\n",
       "      <td>Event</td>\n",
       "      <td>Art Exhibition, Family, Art, Exhibition, Group...</td>\n",
       "      <td>Event Organizer</td>\n",
       "    </tr>\n",
       "  </tbody>\n",
       "</table>\n",
       "</div>"
      ],
      "text/plain": [
       "                                             user_id  \\\n",
       "0  d3bf14fe0bffbb499ef0d341f4b7c12aad9fbd3b9e0fd6...   \n",
       "1  4f3e46a6e94452b566553485b619d2f305bd9d875d4f6d...   \n",
       "2  23c44b20dafb34672868945ce6428ead219eb8bb5312c5...   \n",
       "3  23c44b20dafb34672868945ce6428ead219eb8bb5312c5...   \n",
       "4  38b796a79de6f453bb1ccc704e8aa86dd21f186398614e...   \n",
       "\n",
       "                                            event_id             trx_date  \\\n",
       "0  6629d5a73302852ef915dbda22fa1994213eb36e41c893...  2019-01-01 02:15:30   \n",
       "1  6629d5a73302852ef915dbda22fa1994213eb36e41c893...  2019-01-01 03:04:32   \n",
       "2  6629d5a73302852ef915dbda22fa1994213eb36e41c893...  2019-01-01 03:11:44   \n",
       "3  6629d5a73302852ef915dbda22fa1994213eb36e41c893...  2019-01-01 03:11:50   \n",
       "4  6629d5a73302852ef915dbda22fa1994213eb36e41c893...  2019-01-01 03:15:19   \n",
       "\n",
       "    price  total_ticket_sold event_type  \\\n",
       "0   75000                  3      Event   \n",
       "1   75000                  2      Event   \n",
       "2  100000                  1      Event   \n",
       "3  100000                  1      Event   \n",
       "4   75000                  1      Event   \n",
       "\n",
       "                                      event_category organization_type  \n",
       "0  Art Exhibition, Family, Art, Exhibition, Group...   Event Organizer  \n",
       "1  Art Exhibition, Family, Art, Exhibition, Group...   Event Organizer  \n",
       "2  Art Exhibition, Family, Art, Exhibition, Group...   Event Organizer  \n",
       "3  Art Exhibition, Family, Art, Exhibition, Group...   Event Organizer  \n",
       "4  Art Exhibition, Family, Art, Exhibition, Group...   Event Organizer  "
      ]
     },
     "execution_count": 3,
     "metadata": {},
     "output_type": "execute_result"
    }
   ],
   "source": [
    "transactions.head()"
   ]
  },
  {
   "cell_type": "code",
   "execution_count": 4,
   "metadata": {
    "scrolled": true
   },
   "outputs": [
    {
     "name": "stdout",
     "output_type": "stream",
     "text": [
      "<class 'pandas.core.frame.DataFrame'>\n",
      "RangeIndex: 69170 entries, 0 to 69169\n",
      "Data columns (total 8 columns):\n",
      " #   Column             Non-Null Count  Dtype \n",
      "---  ------             --------------  ----- \n",
      " 0   user_id            69170 non-null  object\n",
      " 1   event_id           69170 non-null  object\n",
      " 2   trx_date           69170 non-null  object\n",
      " 3   price              69170 non-null  int64 \n",
      " 4   total_ticket_sold  69170 non-null  int64 \n",
      " 5   event_type         69170 non-null  object\n",
      " 6   event_category     69170 non-null  object\n",
      " 7   organization_type  69170 non-null  object\n",
      "dtypes: int64(2), object(6)\n",
      "memory usage: 4.2+ MB\n"
     ]
    }
   ],
   "source": [
    "transactions.info()"
   ]
  },
  {
   "cell_type": "markdown",
   "metadata": {},
   "source": [
    "2. Sneak peek at **Dataframe user**"
   ]
  },
  {
   "cell_type": "code",
   "execution_count": 5,
   "metadata": {},
   "outputs": [
    {
     "data": {
      "text/html": [
       "<div>\n",
       "<style scoped>\n",
       "    .dataframe tbody tr th:only-of-type {\n",
       "        vertical-align: middle;\n",
       "    }\n",
       "\n",
       "    .dataframe tbody tr th {\n",
       "        vertical-align: top;\n",
       "    }\n",
       "\n",
       "    .dataframe thead th {\n",
       "        text-align: right;\n",
       "    }\n",
       "</style>\n",
       "<table border=\"1\" class=\"dataframe\">\n",
       "  <thead>\n",
       "    <tr style=\"text-align: right;\">\n",
       "      <th></th>\n",
       "      <th>user_id</th>\n",
       "      <th>gender</th>\n",
       "      <th>age_when_register</th>\n",
       "      <th>join_date</th>\n",
       "      <th>location</th>\n",
       "      <th>device_name</th>\n",
       "      <th>user_type</th>\n",
       "      <th>interests</th>\n",
       "    </tr>\n",
       "  </thead>\n",
       "  <tbody>\n",
       "    <tr>\n",
       "      <th>0</th>\n",
       "      <td>000140bd498ce1c9eeae046aa37b205cc65d2595ed526a...</td>\n",
       "      <td>none</td>\n",
       "      <td>NaN</td>\n",
       "      <td>2019-07-26</td>\n",
       "      <td>NaN</td>\n",
       "      <td>NaN</td>\n",
       "      <td>Guest</td>\n",
       "      <td>NaN</td>\n",
       "    </tr>\n",
       "    <tr>\n",
       "      <th>1</th>\n",
       "      <td>0003b84440334ffdddcf8b3ffa9d7696a5675f451b69b8...</td>\n",
       "      <td>NaN</td>\n",
       "      <td>NaN</td>\n",
       "      <td>2020-05-20</td>\n",
       "      <td>NaN</td>\n",
       "      <td>NaN</td>\n",
       "      <td>Guest</td>\n",
       "      <td>NaN</td>\n",
       "    </tr>\n",
       "    <tr>\n",
       "      <th>2</th>\n",
       "      <td>00092ca94bb736eb3e89a9dd815d3f68d27a3aca6faece...</td>\n",
       "      <td>none</td>\n",
       "      <td>NaN</td>\n",
       "      <td>2020-06-08</td>\n",
       "      <td>NaN</td>\n",
       "      <td>NaN</td>\n",
       "      <td>Guest</td>\n",
       "      <td>NaN</td>\n",
       "    </tr>\n",
       "    <tr>\n",
       "      <th>3</th>\n",
       "      <td>0009bb2348a3a05d6b7dcc54394ff580c10440319f3878...</td>\n",
       "      <td>none</td>\n",
       "      <td>NaN</td>\n",
       "      <td>2019-08-30</td>\n",
       "      <td>NaN</td>\n",
       "      <td>NaN</td>\n",
       "      <td>Guest</td>\n",
       "      <td>NaN</td>\n",
       "    </tr>\n",
       "    <tr>\n",
       "      <th>4</th>\n",
       "      <td>000b0d458a510a0cb1f6124f88fe45ef4f2a97ad8716ba...</td>\n",
       "      <td>none</td>\n",
       "      <td>NaN</td>\n",
       "      <td>2020-02-17</td>\n",
       "      <td>NaN</td>\n",
       "      <td>NaN</td>\n",
       "      <td>Guest</td>\n",
       "      <td>NaN</td>\n",
       "    </tr>\n",
       "  </tbody>\n",
       "</table>\n",
       "</div>"
      ],
      "text/plain": [
       "                                             user_id gender  \\\n",
       "0  000140bd498ce1c9eeae046aa37b205cc65d2595ed526a...   none   \n",
       "1  0003b84440334ffdddcf8b3ffa9d7696a5675f451b69b8...    NaN   \n",
       "2  00092ca94bb736eb3e89a9dd815d3f68d27a3aca6faece...   none   \n",
       "3  0009bb2348a3a05d6b7dcc54394ff580c10440319f3878...   none   \n",
       "4  000b0d458a510a0cb1f6124f88fe45ef4f2a97ad8716ba...   none   \n",
       "\n",
       "   age_when_register   join_date location device_name user_type interests  \n",
       "0                NaN  2019-07-26      NaN         NaN     Guest       NaN  \n",
       "1                NaN  2020-05-20      NaN         NaN     Guest       NaN  \n",
       "2                NaN  2020-06-08      NaN         NaN     Guest       NaN  \n",
       "3                NaN  2019-08-30      NaN         NaN     Guest       NaN  \n",
       "4                NaN  2020-02-17      NaN         NaN     Guest       NaN  "
      ]
     },
     "execution_count": 5,
     "metadata": {},
     "output_type": "execute_result"
    }
   ],
   "source": [
    "user.head()"
   ]
  },
  {
   "cell_type": "code",
   "execution_count": 6,
   "metadata": {},
   "outputs": [
    {
     "name": "stdout",
     "output_type": "stream",
     "text": [
      "<class 'pandas.core.frame.DataFrame'>\n",
      "RangeIndex: 36763 entries, 0 to 36762\n",
      "Data columns (total 8 columns):\n",
      " #   Column             Non-Null Count  Dtype  \n",
      "---  ------             --------------  -----  \n",
      " 0   user_id            36763 non-null  object \n",
      " 1   gender             35664 non-null  object \n",
      " 2   age_when_register  11124 non-null  float64\n",
      " 3   join_date          36763 non-null  object \n",
      " 4   location           8127 non-null   object \n",
      " 5   device_name        8543 non-null   object \n",
      " 6   user_type          36763 non-null  object \n",
      " 7   interests          7912 non-null   object \n",
      "dtypes: float64(1), object(7)\n",
      "memory usage: 2.2+ MB\n"
     ]
    }
   ],
   "source": [
    "user.info()"
   ]
  },
  {
   "cell_type": "markdown",
   "metadata": {},
   "source": [
    "2. Sneak peek at **Dataframe transactions**"
   ]
  },
  {
   "cell_type": "code",
   "execution_count": 7,
   "metadata": {},
   "outputs": [
    {
     "data": {
      "text/html": [
       "<div>\n",
       "<style scoped>\n",
       "    .dataframe tbody tr th:only-of-type {\n",
       "        vertical-align: middle;\n",
       "    }\n",
       "\n",
       "    .dataframe tbody tr th {\n",
       "        vertical-align: top;\n",
       "    }\n",
       "\n",
       "    .dataframe thead th {\n",
       "        text-align: right;\n",
       "    }\n",
       "</style>\n",
       "<table border=\"1\" class=\"dataframe\">\n",
       "  <thead>\n",
       "    <tr style=\"text-align: right;\">\n",
       "      <th></th>\n",
       "      <th>user_id</th>\n",
       "      <th>event_id</th>\n",
       "      <th>trx_date</th>\n",
       "      <th>price</th>\n",
       "      <th>total_ticket_sold</th>\n",
       "      <th>event_type</th>\n",
       "      <th>event_category</th>\n",
       "      <th>organization_type</th>\n",
       "    </tr>\n",
       "  </thead>\n",
       "  <tbody>\n",
       "    <tr>\n",
       "      <th>0</th>\n",
       "      <td>d3bf14fe0bffbb499ef0d341f4b7c12aad9fbd3b9e0fd6...</td>\n",
       "      <td>6629d5a73302852ef915dbda22fa1994213eb36e41c893...</td>\n",
       "      <td>2019-01-01 02:15:30</td>\n",
       "      <td>75000</td>\n",
       "      <td>3</td>\n",
       "      <td>Event</td>\n",
       "      <td>Art Exhibition, Family, Art, Exhibition, Group...</td>\n",
       "      <td>Event Organizer</td>\n",
       "    </tr>\n",
       "    <tr>\n",
       "      <th>1</th>\n",
       "      <td>4f3e46a6e94452b566553485b619d2f305bd9d875d4f6d...</td>\n",
       "      <td>6629d5a73302852ef915dbda22fa1994213eb36e41c893...</td>\n",
       "      <td>2019-01-01 03:04:32</td>\n",
       "      <td>75000</td>\n",
       "      <td>2</td>\n",
       "      <td>Event</td>\n",
       "      <td>Art Exhibition, Family, Art, Exhibition, Group...</td>\n",
       "      <td>Event Organizer</td>\n",
       "    </tr>\n",
       "    <tr>\n",
       "      <th>2</th>\n",
       "      <td>23c44b20dafb34672868945ce6428ead219eb8bb5312c5...</td>\n",
       "      <td>6629d5a73302852ef915dbda22fa1994213eb36e41c893...</td>\n",
       "      <td>2019-01-01 03:11:44</td>\n",
       "      <td>100000</td>\n",
       "      <td>1</td>\n",
       "      <td>Event</td>\n",
       "      <td>Art Exhibition, Family, Art, Exhibition, Group...</td>\n",
       "      <td>Event Organizer</td>\n",
       "    </tr>\n",
       "    <tr>\n",
       "      <th>3</th>\n",
       "      <td>23c44b20dafb34672868945ce6428ead219eb8bb5312c5...</td>\n",
       "      <td>6629d5a73302852ef915dbda22fa1994213eb36e41c893...</td>\n",
       "      <td>2019-01-01 03:11:50</td>\n",
       "      <td>100000</td>\n",
       "      <td>1</td>\n",
       "      <td>Event</td>\n",
       "      <td>Art Exhibition, Family, Art, Exhibition, Group...</td>\n",
       "      <td>Event Organizer</td>\n",
       "    </tr>\n",
       "    <tr>\n",
       "      <th>4</th>\n",
       "      <td>38b796a79de6f453bb1ccc704e8aa86dd21f186398614e...</td>\n",
       "      <td>6629d5a73302852ef915dbda22fa1994213eb36e41c893...</td>\n",
       "      <td>2019-01-01 03:15:19</td>\n",
       "      <td>75000</td>\n",
       "      <td>1</td>\n",
       "      <td>Event</td>\n",
       "      <td>Art Exhibition, Family, Art, Exhibition, Group...</td>\n",
       "      <td>Event Organizer</td>\n",
       "    </tr>\n",
       "  </tbody>\n",
       "</table>\n",
       "</div>"
      ],
      "text/plain": [
       "                                             user_id  \\\n",
       "0  d3bf14fe0bffbb499ef0d341f4b7c12aad9fbd3b9e0fd6...   \n",
       "1  4f3e46a6e94452b566553485b619d2f305bd9d875d4f6d...   \n",
       "2  23c44b20dafb34672868945ce6428ead219eb8bb5312c5...   \n",
       "3  23c44b20dafb34672868945ce6428ead219eb8bb5312c5...   \n",
       "4  38b796a79de6f453bb1ccc704e8aa86dd21f186398614e...   \n",
       "\n",
       "                                            event_id             trx_date  \\\n",
       "0  6629d5a73302852ef915dbda22fa1994213eb36e41c893...  2019-01-01 02:15:30   \n",
       "1  6629d5a73302852ef915dbda22fa1994213eb36e41c893...  2019-01-01 03:04:32   \n",
       "2  6629d5a73302852ef915dbda22fa1994213eb36e41c893...  2019-01-01 03:11:44   \n",
       "3  6629d5a73302852ef915dbda22fa1994213eb36e41c893...  2019-01-01 03:11:50   \n",
       "4  6629d5a73302852ef915dbda22fa1994213eb36e41c893...  2019-01-01 03:15:19   \n",
       "\n",
       "    price  total_ticket_sold event_type  \\\n",
       "0   75000                  3      Event   \n",
       "1   75000                  2      Event   \n",
       "2  100000                  1      Event   \n",
       "3  100000                  1      Event   \n",
       "4   75000                  1      Event   \n",
       "\n",
       "                                      event_category organization_type  \n",
       "0  Art Exhibition, Family, Art, Exhibition, Group...   Event Organizer  \n",
       "1  Art Exhibition, Family, Art, Exhibition, Group...   Event Organizer  \n",
       "2  Art Exhibition, Family, Art, Exhibition, Group...   Event Organizer  \n",
       "3  Art Exhibition, Family, Art, Exhibition, Group...   Event Organizer  \n",
       "4  Art Exhibition, Family, Art, Exhibition, Group...   Event Organizer  "
      ]
     },
     "execution_count": 7,
     "metadata": {},
     "output_type": "execute_result"
    }
   ],
   "source": [
    "transactions.head()"
   ]
  },
  {
   "cell_type": "code",
   "execution_count": 8,
   "metadata": {},
   "outputs": [
    {
     "name": "stdout",
     "output_type": "stream",
     "text": [
      "<class 'pandas.core.frame.DataFrame'>\n",
      "RangeIndex: 69170 entries, 0 to 69169\n",
      "Data columns (total 8 columns):\n",
      " #   Column             Non-Null Count  Dtype \n",
      "---  ------             --------------  ----- \n",
      " 0   user_id            69170 non-null  object\n",
      " 1   event_id           69170 non-null  object\n",
      " 2   trx_date           69170 non-null  object\n",
      " 3   price              69170 non-null  int64 \n",
      " 4   total_ticket_sold  69170 non-null  int64 \n",
      " 5   event_type         69170 non-null  object\n",
      " 6   event_category     69170 non-null  object\n",
      " 7   organization_type  69170 non-null  object\n",
      "dtypes: int64(2), object(6)\n",
      "memory usage: 4.2+ MB\n"
     ]
    }
   ],
   "source": [
    "transactions.info()"
   ]
  },
  {
   "cell_type": "markdown",
   "metadata": {},
   "source": [
    "3. Sneak peek at **Dataframe Event**"
   ]
  },
  {
   "cell_type": "code",
   "execution_count": 9,
   "metadata": {},
   "outputs": [
    {
     "name": "stdout",
     "output_type": "stream",
     "text": [
      "<class 'pandas.core.frame.DataFrame'>\n",
      "RangeIndex: 2940 entries, 0 to 2939\n",
      "Data columns (total 3 columns):\n",
      " #   Column          Non-Null Count  Dtype \n",
      "---  ------          --------------  ----- \n",
      " 0   event_id        2940 non-null   object\n",
      " 1   event_category  2912 non-null   object\n",
      " 2   location        2940 non-null   object\n",
      "dtypes: object(3)\n",
      "memory usage: 69.0+ KB\n"
     ]
    }
   ],
   "source": [
    "event.info()"
   ]
  },
  {
   "cell_type": "markdown",
   "metadata": {},
   "source": [
    "## Data Cleaning"
   ]
  },
  {
   "cell_type": "markdown",
   "metadata": {},
   "source": [
    "### 1. Handling Missing Values"
   ]
  },
  {
   "cell_type": "markdown",
   "metadata": {},
   "source": [
    "**1. Dataframe `transactions`**"
   ]
  },
  {
   "cell_type": "markdown",
   "metadata": {},
   "source": [
    "Because RFM analysis relies on transactions behavior, so our transactions data become the most imprtant data in this analysis."
   ]
  },
  {
   "cell_type": "code",
   "execution_count": 10,
   "metadata": {
    "scrolled": true
   },
   "outputs": [
    {
     "data": {
      "text/html": [
       "<div>\n",
       "<style scoped>\n",
       "    .dataframe tbody tr th:only-of-type {\n",
       "        vertical-align: middle;\n",
       "    }\n",
       "\n",
       "    .dataframe tbody tr th {\n",
       "        vertical-align: top;\n",
       "    }\n",
       "\n",
       "    .dataframe thead th {\n",
       "        text-align: right;\n",
       "    }\n",
       "</style>\n",
       "<table border=\"1\" class=\"dataframe\">\n",
       "  <thead>\n",
       "    <tr style=\"text-align: right;\">\n",
       "      <th></th>\n",
       "      <th>variable</th>\n",
       "      <th>missing values</th>\n",
       "      <th>missing values (%)</th>\n",
       "    </tr>\n",
       "  </thead>\n",
       "  <tbody>\n",
       "    <tr>\n",
       "      <th>0</th>\n",
       "      <td>user_id</td>\n",
       "      <td>0</td>\n",
       "      <td>0.0</td>\n",
       "    </tr>\n",
       "    <tr>\n",
       "      <th>1</th>\n",
       "      <td>event_id</td>\n",
       "      <td>0</td>\n",
       "      <td>0.0</td>\n",
       "    </tr>\n",
       "    <tr>\n",
       "      <th>2</th>\n",
       "      <td>trx_date</td>\n",
       "      <td>0</td>\n",
       "      <td>0.0</td>\n",
       "    </tr>\n",
       "    <tr>\n",
       "      <th>3</th>\n",
       "      <td>price</td>\n",
       "      <td>0</td>\n",
       "      <td>0.0</td>\n",
       "    </tr>\n",
       "    <tr>\n",
       "      <th>4</th>\n",
       "      <td>total_ticket_sold</td>\n",
       "      <td>0</td>\n",
       "      <td>0.0</td>\n",
       "    </tr>\n",
       "    <tr>\n",
       "      <th>5</th>\n",
       "      <td>event_type</td>\n",
       "      <td>0</td>\n",
       "      <td>0.0</td>\n",
       "    </tr>\n",
       "    <tr>\n",
       "      <th>6</th>\n",
       "      <td>event_category</td>\n",
       "      <td>0</td>\n",
       "      <td>0.0</td>\n",
       "    </tr>\n",
       "    <tr>\n",
       "      <th>7</th>\n",
       "      <td>organization_type</td>\n",
       "      <td>0</td>\n",
       "      <td>0.0</td>\n",
       "    </tr>\n",
       "  </tbody>\n",
       "</table>\n",
       "</div>"
      ],
      "text/plain": [
       "            variable  missing values  missing values (%)\n",
       "0            user_id               0                 0.0\n",
       "1           event_id               0                 0.0\n",
       "2           trx_date               0                 0.0\n",
       "3              price               0                 0.0\n",
       "4  total_ticket_sold               0                 0.0\n",
       "5         event_type               0                 0.0\n",
       "6     event_category               0                 0.0\n",
       "7  organization_type               0                 0.0"
      ]
     },
     "execution_count": 10,
     "metadata": {},
     "output_type": "execute_result"
    }
   ],
   "source": [
    "missing_data_transactions = transactions.isnull().sum(axis=0).reset_index()\n",
    "\n",
    "# mengubah nama kolom\n",
    "missing_data_transactions.columns = ['variable','missing values']\n",
    "\n",
    "# menambah kolom percantege missing (fillong factor)\n",
    "missing_data_transactions['missing values (%)'] = (missing_data_transactions['missing values']) / (transactions.shape[0]) *100\n",
    "\n",
    "# sortir filling factor dari terkecil yang terendah\n",
    "missing_data_transactions.sort_values('missing values (%)').reset_index(drop = True)"
   ]
  },
  {
   "cell_type": "markdown",
   "metadata": {},
   "source": [
    "Good, there is no missing column in this dataframe"
   ]
  },
  {
   "cell_type": "markdown",
   "metadata": {},
   "source": [
    "**2. Dataframe `user`**"
   ]
  },
  {
   "cell_type": "code",
   "execution_count": 11,
   "metadata": {},
   "outputs": [
    {
     "data": {
      "text/html": [
       "<div>\n",
       "<style scoped>\n",
       "    .dataframe tbody tr th:only-of-type {\n",
       "        vertical-align: middle;\n",
       "    }\n",
       "\n",
       "    .dataframe tbody tr th {\n",
       "        vertical-align: top;\n",
       "    }\n",
       "\n",
       "    .dataframe thead th {\n",
       "        text-align: right;\n",
       "    }\n",
       "</style>\n",
       "<table border=\"1\" class=\"dataframe\">\n",
       "  <thead>\n",
       "    <tr style=\"text-align: right;\">\n",
       "      <th></th>\n",
       "      <th>variable</th>\n",
       "      <th>missing values</th>\n",
       "      <th>missing values (%)</th>\n",
       "    </tr>\n",
       "  </thead>\n",
       "  <tbody>\n",
       "    <tr>\n",
       "      <th>0</th>\n",
       "      <td>user_id</td>\n",
       "      <td>0</td>\n",
       "      <td>0.000000</td>\n",
       "    </tr>\n",
       "    <tr>\n",
       "      <th>1</th>\n",
       "      <td>join_date</td>\n",
       "      <td>0</td>\n",
       "      <td>0.000000</td>\n",
       "    </tr>\n",
       "    <tr>\n",
       "      <th>2</th>\n",
       "      <td>user_type</td>\n",
       "      <td>0</td>\n",
       "      <td>0.000000</td>\n",
       "    </tr>\n",
       "    <tr>\n",
       "      <th>3</th>\n",
       "      <td>gender</td>\n",
       "      <td>1099</td>\n",
       "      <td>2.989419</td>\n",
       "    </tr>\n",
       "    <tr>\n",
       "      <th>4</th>\n",
       "      <td>age_when_register</td>\n",
       "      <td>25639</td>\n",
       "      <td>69.741316</td>\n",
       "    </tr>\n",
       "    <tr>\n",
       "      <th>5</th>\n",
       "      <td>device_name</td>\n",
       "      <td>28220</td>\n",
       "      <td>76.761962</td>\n",
       "    </tr>\n",
       "    <tr>\n",
       "      <th>6</th>\n",
       "      <td>location</td>\n",
       "      <td>28636</td>\n",
       "      <td>77.893534</td>\n",
       "    </tr>\n",
       "    <tr>\n",
       "      <th>7</th>\n",
       "      <td>interests</td>\n",
       "      <td>28851</td>\n",
       "      <td>78.478361</td>\n",
       "    </tr>\n",
       "  </tbody>\n",
       "</table>\n",
       "</div>"
      ],
      "text/plain": [
       "            variable  missing values  missing values (%)\n",
       "0            user_id               0            0.000000\n",
       "1          join_date               0            0.000000\n",
       "2          user_type               0            0.000000\n",
       "3             gender            1099            2.989419\n",
       "4  age_when_register           25639           69.741316\n",
       "5        device_name           28220           76.761962\n",
       "6           location           28636           77.893534\n",
       "7          interests           28851           78.478361"
      ]
     },
     "execution_count": 11,
     "metadata": {},
     "output_type": "execute_result"
    }
   ],
   "source": [
    "missing_data_user = user.isnull().sum(axis=0).reset_index()\n",
    "\n",
    "# mengubah nama kolom\n",
    "missing_data_user.columns = ['variable','missing values']\n",
    "\n",
    "# menambah kolom percantege missing (fillong factor)\n",
    "missing_data_user['missing values (%)'] = (missing_data_user['missing values']) / (user.shape[0]) *100\n",
    "\n",
    "# sortir filling factor dari terkecil yang terendah\n",
    "missing_data_user.sort_values('missing values (%)').reset_index(drop = True)"
   ]
  },
  {
   "cell_type": "markdown",
   "metadata": {},
   "source": [
    "For missing value more than 50%, we will drop it, since we will not use it for RFM analysis. But for missing value gender,since the percentage of missing values is around 2,9%, we will not drop it. We can use it as feature to enriches our analysis later on data exploration section. We will use mode to fill the missing value"
   ]
  },
  {
   "cell_type": "code",
   "execution_count": 12,
   "metadata": {},
   "outputs": [],
   "source": [
    "# drop missing value\n",
    "user.drop(['age_when_register', 'device_name', 'location', 'interests'], axis=1, inplace=True)"
   ]
  },
  {
   "cell_type": "code",
   "execution_count": 13,
   "metadata": {},
   "outputs": [
    {
     "data": {
      "text/plain": [
       "0    none\n",
       "dtype: object"
      ]
     },
     "execution_count": 13,
     "metadata": {},
     "output_type": "execute_result"
    }
   ],
   "source": [
    "# checking gender mode\n",
    "user['gender'].mode()"
   ]
  },
  {
   "cell_type": "markdown",
   "metadata": {},
   "source": [
    "So why we get none as mode value from gender? The answer is should between male and female. So we should re check the value in the gender column"
   ]
  },
  {
   "cell_type": "code",
   "execution_count": 14,
   "metadata": {},
   "outputs": [
    {
     "data": {
      "text/plain": [
       "array(['none', nan, 'female', 'male'], dtype=object)"
      ]
     },
     "execution_count": 14,
     "metadata": {},
     "output_type": "execute_result"
    }
   ],
   "source": [
    "user['gender'].unique()"
   ]
  },
  {
   "cell_type": "markdown",
   "metadata": {},
   "source": [
    "It turns out we found that gender column contain none as value, so first we should replace this with nan"
   ]
  },
  {
   "cell_type": "code",
   "execution_count": 15,
   "metadata": {},
   "outputs": [],
   "source": [
    "user['gender'].replace('none', np.nan, inplace=True)"
   ]
  },
  {
   "cell_type": "code",
   "execution_count": 16,
   "metadata": {},
   "outputs": [
    {
     "data": {
      "text/html": [
       "<div>\n",
       "<style scoped>\n",
       "    .dataframe tbody tr th:only-of-type {\n",
       "        vertical-align: middle;\n",
       "    }\n",
       "\n",
       "    .dataframe tbody tr th {\n",
       "        vertical-align: top;\n",
       "    }\n",
       "\n",
       "    .dataframe thead th {\n",
       "        text-align: right;\n",
       "    }\n",
       "</style>\n",
       "<table border=\"1\" class=\"dataframe\">\n",
       "  <thead>\n",
       "    <tr style=\"text-align: right;\">\n",
       "      <th></th>\n",
       "      <th>variable</th>\n",
       "      <th>missing values</th>\n",
       "      <th>missing values (%)</th>\n",
       "    </tr>\n",
       "  </thead>\n",
       "  <tbody>\n",
       "    <tr>\n",
       "      <th>0</th>\n",
       "      <td>user_id</td>\n",
       "      <td>0</td>\n",
       "      <td>0.000000</td>\n",
       "    </tr>\n",
       "    <tr>\n",
       "      <th>1</th>\n",
       "      <td>join_date</td>\n",
       "      <td>0</td>\n",
       "      <td>0.000000</td>\n",
       "    </tr>\n",
       "    <tr>\n",
       "      <th>2</th>\n",
       "      <td>user_type</td>\n",
       "      <td>0</td>\n",
       "      <td>0.000000</td>\n",
       "    </tr>\n",
       "    <tr>\n",
       "      <th>3</th>\n",
       "      <td>gender</td>\n",
       "      <td>22671</td>\n",
       "      <td>61.667981</td>\n",
       "    </tr>\n",
       "  </tbody>\n",
       "</table>\n",
       "</div>"
      ],
      "text/plain": [
       "    variable  missing values  missing values (%)\n",
       "0    user_id               0            0.000000\n",
       "1  join_date               0            0.000000\n",
       "2  user_type               0            0.000000\n",
       "3     gender           22671           61.667981"
      ]
     },
     "execution_count": 16,
     "metadata": {},
     "output_type": "execute_result"
    }
   ],
   "source": [
    "missing_data_user = user.isnull().sum(axis=0).reset_index()\n",
    "\n",
    "# mengubah nama kolom\n",
    "missing_data_user.columns = ['variable','missing values']\n",
    "\n",
    "# menambah kolom percantege missing (fillong factor)\n",
    "missing_data_user['missing values (%)'] = (missing_data_user['missing values']) / (user.shape[0]) *100\n",
    "\n",
    "# sortir filling factor dari terkecil yang terendah\n",
    "missing_data_user.sort_values('missing values (%)').reset_index(drop = True)"
   ]
  },
  {
   "cell_type": "markdown",
   "metadata": {},
   "source": [
    "So, because gender column also have missing column more than 50%, we decide to also drop it. It will not affecr our analysis, but only make our data exploration less rich"
   ]
  },
  {
   "cell_type": "code",
   "execution_count": 17,
   "metadata": {},
   "outputs": [],
   "source": [
    "# drop missing value\n",
    "user.drop('gender', axis=1, inplace=True)"
   ]
  },
  {
   "cell_type": "code",
   "execution_count": 18,
   "metadata": {},
   "outputs": [
    {
     "data": {
      "text/html": [
       "<div>\n",
       "<style scoped>\n",
       "    .dataframe tbody tr th:only-of-type {\n",
       "        vertical-align: middle;\n",
       "    }\n",
       "\n",
       "    .dataframe tbody tr th {\n",
       "        vertical-align: top;\n",
       "    }\n",
       "\n",
       "    .dataframe thead th {\n",
       "        text-align: right;\n",
       "    }\n",
       "</style>\n",
       "<table border=\"1\" class=\"dataframe\">\n",
       "  <thead>\n",
       "    <tr style=\"text-align: right;\">\n",
       "      <th></th>\n",
       "      <th>user_id</th>\n",
       "      <th>join_date</th>\n",
       "      <th>user_type</th>\n",
       "    </tr>\n",
       "  </thead>\n",
       "  <tbody>\n",
       "    <tr>\n",
       "      <th>0</th>\n",
       "      <td>000140bd498ce1c9eeae046aa37b205cc65d2595ed526a...</td>\n",
       "      <td>2019-07-26</td>\n",
       "      <td>Guest</td>\n",
       "    </tr>\n",
       "    <tr>\n",
       "      <th>1</th>\n",
       "      <td>0003b84440334ffdddcf8b3ffa9d7696a5675f451b69b8...</td>\n",
       "      <td>2020-05-20</td>\n",
       "      <td>Guest</td>\n",
       "    </tr>\n",
       "    <tr>\n",
       "      <th>2</th>\n",
       "      <td>00092ca94bb736eb3e89a9dd815d3f68d27a3aca6faece...</td>\n",
       "      <td>2020-06-08</td>\n",
       "      <td>Guest</td>\n",
       "    </tr>\n",
       "    <tr>\n",
       "      <th>3</th>\n",
       "      <td>0009bb2348a3a05d6b7dcc54394ff580c10440319f3878...</td>\n",
       "      <td>2019-08-30</td>\n",
       "      <td>Guest</td>\n",
       "    </tr>\n",
       "    <tr>\n",
       "      <th>4</th>\n",
       "      <td>000b0d458a510a0cb1f6124f88fe45ef4f2a97ad8716ba...</td>\n",
       "      <td>2020-02-17</td>\n",
       "      <td>Guest</td>\n",
       "    </tr>\n",
       "  </tbody>\n",
       "</table>\n",
       "</div>"
      ],
      "text/plain": [
       "                                             user_id   join_date user_type\n",
       "0  000140bd498ce1c9eeae046aa37b205cc65d2595ed526a...  2019-07-26     Guest\n",
       "1  0003b84440334ffdddcf8b3ffa9d7696a5675f451b69b8...  2020-05-20     Guest\n",
       "2  00092ca94bb736eb3e89a9dd815d3f68d27a3aca6faece...  2020-06-08     Guest\n",
       "3  0009bb2348a3a05d6b7dcc54394ff580c10440319f3878...  2019-08-30     Guest\n",
       "4  000b0d458a510a0cb1f6124f88fe45ef4f2a97ad8716ba...  2020-02-17     Guest"
      ]
     },
     "execution_count": 18,
     "metadata": {},
     "output_type": "execute_result"
    }
   ],
   "source": [
    "user.head()"
   ]
  },
  {
   "cell_type": "markdown",
   "metadata": {},
   "source": [
    "We'll only get complete information in `join_date` and `user_type`. But that's okay"
   ]
  },
  {
   "cell_type": "markdown",
   "metadata": {},
   "source": [
    "**Dataframe `event`**"
   ]
  },
  {
   "cell_type": "code",
   "execution_count": 19,
   "metadata": {},
   "outputs": [
    {
     "data": {
      "text/html": [
       "<div>\n",
       "<style scoped>\n",
       "    .dataframe tbody tr th:only-of-type {\n",
       "        vertical-align: middle;\n",
       "    }\n",
       "\n",
       "    .dataframe tbody tr th {\n",
       "        vertical-align: top;\n",
       "    }\n",
       "\n",
       "    .dataframe thead th {\n",
       "        text-align: right;\n",
       "    }\n",
       "</style>\n",
       "<table border=\"1\" class=\"dataframe\">\n",
       "  <thead>\n",
       "    <tr style=\"text-align: right;\">\n",
       "      <th></th>\n",
       "      <th>variable</th>\n",
       "      <th>missing values</th>\n",
       "      <th>missing values (%)</th>\n",
       "    </tr>\n",
       "  </thead>\n",
       "  <tbody>\n",
       "    <tr>\n",
       "      <th>0</th>\n",
       "      <td>event_id</td>\n",
       "      <td>0</td>\n",
       "      <td>0.000000</td>\n",
       "    </tr>\n",
       "    <tr>\n",
       "      <th>1</th>\n",
       "      <td>location</td>\n",
       "      <td>0</td>\n",
       "      <td>0.000000</td>\n",
       "    </tr>\n",
       "    <tr>\n",
       "      <th>2</th>\n",
       "      <td>event_category</td>\n",
       "      <td>28</td>\n",
       "      <td>0.952381</td>\n",
       "    </tr>\n",
       "  </tbody>\n",
       "</table>\n",
       "</div>"
      ],
      "text/plain": [
       "         variable  missing values  missing values (%)\n",
       "0        event_id               0            0.000000\n",
       "1        location               0            0.000000\n",
       "2  event_category              28            0.952381"
      ]
     },
     "execution_count": 19,
     "metadata": {},
     "output_type": "execute_result"
    }
   ],
   "source": [
    "missing_data_event = event.isnull().sum(axis=0).reset_index()\n",
    "\n",
    "# mengubah nama kolom\n",
    "missing_data_event.columns = ['variable','missing values']\n",
    "\n",
    "# menambah kolom percantege missing (fillong factor)\n",
    "missing_data_event['missing values (%)'] = (missing_data_event['missing values']) / (event.shape[0]) *100\n",
    "\n",
    "# sortir filling factor dari terkecil yang terendah\n",
    "missing_data_event.sort_values('missing values (%)').reset_index(drop = True)"
   ]
  },
  {
   "cell_type": "markdown",
   "metadata": {},
   "source": [
    "Since we already have non missing **event_category** column in `transactions` dataframe, so we drop this column"
   ]
  },
  {
   "cell_type": "code",
   "execution_count": 20,
   "metadata": {},
   "outputs": [],
   "source": [
    "event.drop('event_category', axis=1, inplace=True)"
   ]
  },
  {
   "cell_type": "code",
   "execution_count": 21,
   "metadata": {},
   "outputs": [
    {
     "data": {
      "text/html": [
       "<div>\n",
       "<style scoped>\n",
       "    .dataframe tbody tr th:only-of-type {\n",
       "        vertical-align: middle;\n",
       "    }\n",
       "\n",
       "    .dataframe tbody tr th {\n",
       "        vertical-align: top;\n",
       "    }\n",
       "\n",
       "    .dataframe thead th {\n",
       "        text-align: right;\n",
       "    }\n",
       "</style>\n",
       "<table border=\"1\" class=\"dataframe\">\n",
       "  <thead>\n",
       "    <tr style=\"text-align: right;\">\n",
       "      <th></th>\n",
       "      <th>event_id</th>\n",
       "      <th>location</th>\n",
       "    </tr>\n",
       "  </thead>\n",
       "  <tbody>\n",
       "    <tr>\n",
       "      <th>0</th>\n",
       "      <td>93eca343c3bc2f6e85fc1a812ee527dcc39bec3db46142...</td>\n",
       "      <td>Jakarta</td>\n",
       "    </tr>\n",
       "    <tr>\n",
       "      <th>1</th>\n",
       "      <td>86c3939a538a3bdbd31d7fdf540b911a74b5c236188f3f...</td>\n",
       "      <td>Jakarta</td>\n",
       "    </tr>\n",
       "    <tr>\n",
       "      <th>2</th>\n",
       "      <td>4825dfcb9ed3d8e9cb936ed1e74d773224dd84e0a09e61...</td>\n",
       "      <td>Indonesia</td>\n",
       "    </tr>\n",
       "    <tr>\n",
       "      <th>3</th>\n",
       "      <td>b71e0d94eab24ab4a3bfcd766aa0dd2cdac6be0fd4db06...</td>\n",
       "      <td>Jakarta</td>\n",
       "    </tr>\n",
       "    <tr>\n",
       "      <th>4</th>\n",
       "      <td>f1b24c2cc82dc13d1817ae36db8e25ac40bc581bf6ef3b...</td>\n",
       "      <td>Bali</td>\n",
       "    </tr>\n",
       "  </tbody>\n",
       "</table>\n",
       "</div>"
      ],
      "text/plain": [
       "                                            event_id   location\n",
       "0  93eca343c3bc2f6e85fc1a812ee527dcc39bec3db46142...    Jakarta\n",
       "1  86c3939a538a3bdbd31d7fdf540b911a74b5c236188f3f...    Jakarta\n",
       "2  4825dfcb9ed3d8e9cb936ed1e74d773224dd84e0a09e61...  Indonesia\n",
       "3  b71e0d94eab24ab4a3bfcd766aa0dd2cdac6be0fd4db06...    Jakarta\n",
       "4  f1b24c2cc82dc13d1817ae36db8e25ac40bc581bf6ef3b...       Bali"
      ]
     },
     "execution_count": 21,
     "metadata": {},
     "output_type": "execute_result"
    }
   ],
   "source": [
    "event.head()"
   ]
  },
  {
   "cell_type": "markdown",
   "metadata": {},
   "source": [
    "### Merge Dataframe"
   ]
  },
  {
   "cell_type": "markdown",
   "metadata": {},
   "source": [
    "Firs, we merge transactions with user"
   ]
  },
  {
   "cell_type": "code",
   "execution_count": 22,
   "metadata": {},
   "outputs": [],
   "source": [
    "trx_user = pd.merge(transactions, user, on='user_id', how='left')"
   ]
  },
  {
   "cell_type": "code",
   "execution_count": 23,
   "metadata": {},
   "outputs": [
    {
     "data": {
      "text/html": [
       "<div>\n",
       "<style scoped>\n",
       "    .dataframe tbody tr th:only-of-type {\n",
       "        vertical-align: middle;\n",
       "    }\n",
       "\n",
       "    .dataframe tbody tr th {\n",
       "        vertical-align: top;\n",
       "    }\n",
       "\n",
       "    .dataframe thead th {\n",
       "        text-align: right;\n",
       "    }\n",
       "</style>\n",
       "<table border=\"1\" class=\"dataframe\">\n",
       "  <thead>\n",
       "    <tr style=\"text-align: right;\">\n",
       "      <th></th>\n",
       "      <th>user_id</th>\n",
       "      <th>event_id</th>\n",
       "      <th>trx_date</th>\n",
       "      <th>price</th>\n",
       "      <th>total_ticket_sold</th>\n",
       "      <th>event_type</th>\n",
       "      <th>event_category</th>\n",
       "      <th>organization_type</th>\n",
       "      <th>join_date</th>\n",
       "      <th>user_type</th>\n",
       "    </tr>\n",
       "  </thead>\n",
       "  <tbody>\n",
       "    <tr>\n",
       "      <th>0</th>\n",
       "      <td>d3bf14fe0bffbb499ef0d341f4b7c12aad9fbd3b9e0fd6...</td>\n",
       "      <td>6629d5a73302852ef915dbda22fa1994213eb36e41c893...</td>\n",
       "      <td>2019-01-01 02:15:30</td>\n",
       "      <td>75000</td>\n",
       "      <td>3</td>\n",
       "      <td>Event</td>\n",
       "      <td>Art Exhibition, Family, Art, Exhibition, Group...</td>\n",
       "      <td>Event Organizer</td>\n",
       "      <td>2019-01-01</td>\n",
       "      <td>Registered</td>\n",
       "    </tr>\n",
       "    <tr>\n",
       "      <th>1</th>\n",
       "      <td>4f3e46a6e94452b566553485b619d2f305bd9d875d4f6d...</td>\n",
       "      <td>6629d5a73302852ef915dbda22fa1994213eb36e41c893...</td>\n",
       "      <td>2019-01-01 03:04:32</td>\n",
       "      <td>75000</td>\n",
       "      <td>2</td>\n",
       "      <td>Event</td>\n",
       "      <td>Art Exhibition, Family, Art, Exhibition, Group...</td>\n",
       "      <td>Event Organizer</td>\n",
       "      <td>2019-01-01</td>\n",
       "      <td>Guest</td>\n",
       "    </tr>\n",
       "    <tr>\n",
       "      <th>2</th>\n",
       "      <td>23c44b20dafb34672868945ce6428ead219eb8bb5312c5...</td>\n",
       "      <td>6629d5a73302852ef915dbda22fa1994213eb36e41c893...</td>\n",
       "      <td>2019-01-01 03:11:44</td>\n",
       "      <td>100000</td>\n",
       "      <td>1</td>\n",
       "      <td>Event</td>\n",
       "      <td>Art Exhibition, Family, Art, Exhibition, Group...</td>\n",
       "      <td>Event Organizer</td>\n",
       "      <td>2018-12-08</td>\n",
       "      <td>Registered</td>\n",
       "    </tr>\n",
       "    <tr>\n",
       "      <th>3</th>\n",
       "      <td>23c44b20dafb34672868945ce6428ead219eb8bb5312c5...</td>\n",
       "      <td>6629d5a73302852ef915dbda22fa1994213eb36e41c893...</td>\n",
       "      <td>2019-01-01 03:11:50</td>\n",
       "      <td>100000</td>\n",
       "      <td>1</td>\n",
       "      <td>Event</td>\n",
       "      <td>Art Exhibition, Family, Art, Exhibition, Group...</td>\n",
       "      <td>Event Organizer</td>\n",
       "      <td>2018-12-08</td>\n",
       "      <td>Registered</td>\n",
       "    </tr>\n",
       "    <tr>\n",
       "      <th>4</th>\n",
       "      <td>38b796a79de6f453bb1ccc704e8aa86dd21f186398614e...</td>\n",
       "      <td>6629d5a73302852ef915dbda22fa1994213eb36e41c893...</td>\n",
       "      <td>2019-01-01 03:15:19</td>\n",
       "      <td>75000</td>\n",
       "      <td>1</td>\n",
       "      <td>Event</td>\n",
       "      <td>Art Exhibition, Family, Art, Exhibition, Group...</td>\n",
       "      <td>Event Organizer</td>\n",
       "      <td>2018-12-31</td>\n",
       "      <td>Guest</td>\n",
       "    </tr>\n",
       "  </tbody>\n",
       "</table>\n",
       "</div>"
      ],
      "text/plain": [
       "                                             user_id  \\\n",
       "0  d3bf14fe0bffbb499ef0d341f4b7c12aad9fbd3b9e0fd6...   \n",
       "1  4f3e46a6e94452b566553485b619d2f305bd9d875d4f6d...   \n",
       "2  23c44b20dafb34672868945ce6428ead219eb8bb5312c5...   \n",
       "3  23c44b20dafb34672868945ce6428ead219eb8bb5312c5...   \n",
       "4  38b796a79de6f453bb1ccc704e8aa86dd21f186398614e...   \n",
       "\n",
       "                                            event_id             trx_date  \\\n",
       "0  6629d5a73302852ef915dbda22fa1994213eb36e41c893...  2019-01-01 02:15:30   \n",
       "1  6629d5a73302852ef915dbda22fa1994213eb36e41c893...  2019-01-01 03:04:32   \n",
       "2  6629d5a73302852ef915dbda22fa1994213eb36e41c893...  2019-01-01 03:11:44   \n",
       "3  6629d5a73302852ef915dbda22fa1994213eb36e41c893...  2019-01-01 03:11:50   \n",
       "4  6629d5a73302852ef915dbda22fa1994213eb36e41c893...  2019-01-01 03:15:19   \n",
       "\n",
       "    price  total_ticket_sold event_type  \\\n",
       "0   75000                  3      Event   \n",
       "1   75000                  2      Event   \n",
       "2  100000                  1      Event   \n",
       "3  100000                  1      Event   \n",
       "4   75000                  1      Event   \n",
       "\n",
       "                                      event_category organization_type  \\\n",
       "0  Art Exhibition, Family, Art, Exhibition, Group...   Event Organizer   \n",
       "1  Art Exhibition, Family, Art, Exhibition, Group...   Event Organizer   \n",
       "2  Art Exhibition, Family, Art, Exhibition, Group...   Event Organizer   \n",
       "3  Art Exhibition, Family, Art, Exhibition, Group...   Event Organizer   \n",
       "4  Art Exhibition, Family, Art, Exhibition, Group...   Event Organizer   \n",
       "\n",
       "    join_date   user_type  \n",
       "0  2019-01-01  Registered  \n",
       "1  2019-01-01       Guest  \n",
       "2  2018-12-08  Registered  \n",
       "3  2018-12-08  Registered  \n",
       "4  2018-12-31       Guest  "
      ]
     },
     "execution_count": 23,
     "metadata": {},
     "output_type": "execute_result"
    }
   ],
   "source": [
    "trx_user.head()"
   ]
  },
  {
   "cell_type": "markdown",
   "metadata": {},
   "source": [
    "And then, merge the trx_user with event"
   ]
  },
  {
   "cell_type": "code",
   "execution_count": 24,
   "metadata": {},
   "outputs": [],
   "source": [
    "trx_user_event = pd.merge(trx_user, event, on='event_id', how='left')"
   ]
  },
  {
   "cell_type": "code",
   "execution_count": 25,
   "metadata": {},
   "outputs": [
    {
     "data": {
      "text/html": [
       "<div>\n",
       "<style scoped>\n",
       "    .dataframe tbody tr th:only-of-type {\n",
       "        vertical-align: middle;\n",
       "    }\n",
       "\n",
       "    .dataframe tbody tr th {\n",
       "        vertical-align: top;\n",
       "    }\n",
       "\n",
       "    .dataframe thead th {\n",
       "        text-align: right;\n",
       "    }\n",
       "</style>\n",
       "<table border=\"1\" class=\"dataframe\">\n",
       "  <thead>\n",
       "    <tr style=\"text-align: right;\">\n",
       "      <th></th>\n",
       "      <th>user_id</th>\n",
       "      <th>event_id</th>\n",
       "      <th>trx_date</th>\n",
       "      <th>price</th>\n",
       "      <th>total_ticket_sold</th>\n",
       "      <th>event_type</th>\n",
       "      <th>event_category</th>\n",
       "      <th>organization_type</th>\n",
       "      <th>join_date</th>\n",
       "      <th>user_type</th>\n",
       "      <th>location</th>\n",
       "    </tr>\n",
       "  </thead>\n",
       "  <tbody>\n",
       "    <tr>\n",
       "      <th>0</th>\n",
       "      <td>d3bf14fe0bffbb499ef0d341f4b7c12aad9fbd3b9e0fd6...</td>\n",
       "      <td>6629d5a73302852ef915dbda22fa1994213eb36e41c893...</td>\n",
       "      <td>2019-01-01 02:15:30</td>\n",
       "      <td>75000</td>\n",
       "      <td>3</td>\n",
       "      <td>Event</td>\n",
       "      <td>Art Exhibition, Family, Art, Exhibition, Group...</td>\n",
       "      <td>Event Organizer</td>\n",
       "      <td>2019-01-01</td>\n",
       "      <td>Registered</td>\n",
       "      <td>Jakarta</td>\n",
       "    </tr>\n",
       "    <tr>\n",
       "      <th>1</th>\n",
       "      <td>4f3e46a6e94452b566553485b619d2f305bd9d875d4f6d...</td>\n",
       "      <td>6629d5a73302852ef915dbda22fa1994213eb36e41c893...</td>\n",
       "      <td>2019-01-01 03:04:32</td>\n",
       "      <td>75000</td>\n",
       "      <td>2</td>\n",
       "      <td>Event</td>\n",
       "      <td>Art Exhibition, Family, Art, Exhibition, Group...</td>\n",
       "      <td>Event Organizer</td>\n",
       "      <td>2019-01-01</td>\n",
       "      <td>Guest</td>\n",
       "      <td>Jakarta</td>\n",
       "    </tr>\n",
       "    <tr>\n",
       "      <th>2</th>\n",
       "      <td>23c44b20dafb34672868945ce6428ead219eb8bb5312c5...</td>\n",
       "      <td>6629d5a73302852ef915dbda22fa1994213eb36e41c893...</td>\n",
       "      <td>2019-01-01 03:11:44</td>\n",
       "      <td>100000</td>\n",
       "      <td>1</td>\n",
       "      <td>Event</td>\n",
       "      <td>Art Exhibition, Family, Art, Exhibition, Group...</td>\n",
       "      <td>Event Organizer</td>\n",
       "      <td>2018-12-08</td>\n",
       "      <td>Registered</td>\n",
       "      <td>Jakarta</td>\n",
       "    </tr>\n",
       "    <tr>\n",
       "      <th>3</th>\n",
       "      <td>23c44b20dafb34672868945ce6428ead219eb8bb5312c5...</td>\n",
       "      <td>6629d5a73302852ef915dbda22fa1994213eb36e41c893...</td>\n",
       "      <td>2019-01-01 03:11:50</td>\n",
       "      <td>100000</td>\n",
       "      <td>1</td>\n",
       "      <td>Event</td>\n",
       "      <td>Art Exhibition, Family, Art, Exhibition, Group...</td>\n",
       "      <td>Event Organizer</td>\n",
       "      <td>2018-12-08</td>\n",
       "      <td>Registered</td>\n",
       "      <td>Jakarta</td>\n",
       "    </tr>\n",
       "    <tr>\n",
       "      <th>4</th>\n",
       "      <td>38b796a79de6f453bb1ccc704e8aa86dd21f186398614e...</td>\n",
       "      <td>6629d5a73302852ef915dbda22fa1994213eb36e41c893...</td>\n",
       "      <td>2019-01-01 03:15:19</td>\n",
       "      <td>75000</td>\n",
       "      <td>1</td>\n",
       "      <td>Event</td>\n",
       "      <td>Art Exhibition, Family, Art, Exhibition, Group...</td>\n",
       "      <td>Event Organizer</td>\n",
       "      <td>2018-12-31</td>\n",
       "      <td>Guest</td>\n",
       "      <td>Jakarta</td>\n",
       "    </tr>\n",
       "  </tbody>\n",
       "</table>\n",
       "</div>"
      ],
      "text/plain": [
       "                                             user_id  \\\n",
       "0  d3bf14fe0bffbb499ef0d341f4b7c12aad9fbd3b9e0fd6...   \n",
       "1  4f3e46a6e94452b566553485b619d2f305bd9d875d4f6d...   \n",
       "2  23c44b20dafb34672868945ce6428ead219eb8bb5312c5...   \n",
       "3  23c44b20dafb34672868945ce6428ead219eb8bb5312c5...   \n",
       "4  38b796a79de6f453bb1ccc704e8aa86dd21f186398614e...   \n",
       "\n",
       "                                            event_id             trx_date  \\\n",
       "0  6629d5a73302852ef915dbda22fa1994213eb36e41c893...  2019-01-01 02:15:30   \n",
       "1  6629d5a73302852ef915dbda22fa1994213eb36e41c893...  2019-01-01 03:04:32   \n",
       "2  6629d5a73302852ef915dbda22fa1994213eb36e41c893...  2019-01-01 03:11:44   \n",
       "3  6629d5a73302852ef915dbda22fa1994213eb36e41c893...  2019-01-01 03:11:50   \n",
       "4  6629d5a73302852ef915dbda22fa1994213eb36e41c893...  2019-01-01 03:15:19   \n",
       "\n",
       "    price  total_ticket_sold event_type  \\\n",
       "0   75000                  3      Event   \n",
       "1   75000                  2      Event   \n",
       "2  100000                  1      Event   \n",
       "3  100000                  1      Event   \n",
       "4   75000                  1      Event   \n",
       "\n",
       "                                      event_category organization_type  \\\n",
       "0  Art Exhibition, Family, Art, Exhibition, Group...   Event Organizer   \n",
       "1  Art Exhibition, Family, Art, Exhibition, Group...   Event Organizer   \n",
       "2  Art Exhibition, Family, Art, Exhibition, Group...   Event Organizer   \n",
       "3  Art Exhibition, Family, Art, Exhibition, Group...   Event Organizer   \n",
       "4  Art Exhibition, Family, Art, Exhibition, Group...   Event Organizer   \n",
       "\n",
       "    join_date   user_type location  \n",
       "0  2019-01-01  Registered  Jakarta  \n",
       "1  2019-01-01       Guest  Jakarta  \n",
       "2  2018-12-08  Registered  Jakarta  \n",
       "3  2018-12-08  Registered  Jakarta  \n",
       "4  2018-12-31       Guest  Jakarta  "
      ]
     },
     "execution_count": 25,
     "metadata": {},
     "output_type": "execute_result"
    }
   ],
   "source": [
    "trx_user_event.head()"
   ]
  },
  {
   "cell_type": "markdown",
   "metadata": {},
   "source": [
    "### Detecting missing values in trx_user_event"
   ]
  },
  {
   "cell_type": "code",
   "execution_count": 26,
   "metadata": {},
   "outputs": [
    {
     "data": {
      "text/html": [
       "<div>\n",
       "<style scoped>\n",
       "    .dataframe tbody tr th:only-of-type {\n",
       "        vertical-align: middle;\n",
       "    }\n",
       "\n",
       "    .dataframe tbody tr th {\n",
       "        vertical-align: top;\n",
       "    }\n",
       "\n",
       "    .dataframe thead th {\n",
       "        text-align: right;\n",
       "    }\n",
       "</style>\n",
       "<table border=\"1\" class=\"dataframe\">\n",
       "  <thead>\n",
       "    <tr style=\"text-align: right;\">\n",
       "      <th></th>\n",
       "      <th>variable</th>\n",
       "      <th>missing values</th>\n",
       "      <th>missing values (%)</th>\n",
       "    </tr>\n",
       "  </thead>\n",
       "  <tbody>\n",
       "    <tr>\n",
       "      <th>0</th>\n",
       "      <td>user_id</td>\n",
       "      <td>0</td>\n",
       "      <td>0.000000</td>\n",
       "    </tr>\n",
       "    <tr>\n",
       "      <th>1</th>\n",
       "      <td>event_id</td>\n",
       "      <td>0</td>\n",
       "      <td>0.000000</td>\n",
       "    </tr>\n",
       "    <tr>\n",
       "      <th>2</th>\n",
       "      <td>trx_date</td>\n",
       "      <td>0</td>\n",
       "      <td>0.000000</td>\n",
       "    </tr>\n",
       "    <tr>\n",
       "      <th>3</th>\n",
       "      <td>price</td>\n",
       "      <td>0</td>\n",
       "      <td>0.000000</td>\n",
       "    </tr>\n",
       "    <tr>\n",
       "      <th>4</th>\n",
       "      <td>total_ticket_sold</td>\n",
       "      <td>0</td>\n",
       "      <td>0.000000</td>\n",
       "    </tr>\n",
       "    <tr>\n",
       "      <th>5</th>\n",
       "      <td>event_type</td>\n",
       "      <td>0</td>\n",
       "      <td>0.000000</td>\n",
       "    </tr>\n",
       "    <tr>\n",
       "      <th>6</th>\n",
       "      <td>event_category</td>\n",
       "      <td>0</td>\n",
       "      <td>0.000000</td>\n",
       "    </tr>\n",
       "    <tr>\n",
       "      <th>7</th>\n",
       "      <td>organization_type</td>\n",
       "      <td>0</td>\n",
       "      <td>0.000000</td>\n",
       "    </tr>\n",
       "    <tr>\n",
       "      <th>8</th>\n",
       "      <td>join_date</td>\n",
       "      <td>53</td>\n",
       "      <td>0.076623</td>\n",
       "    </tr>\n",
       "    <tr>\n",
       "      <th>9</th>\n",
       "      <td>user_type</td>\n",
       "      <td>53</td>\n",
       "      <td>0.076623</td>\n",
       "    </tr>\n",
       "    <tr>\n",
       "      <th>10</th>\n",
       "      <td>location</td>\n",
       "      <td>15144</td>\n",
       "      <td>21.893885</td>\n",
       "    </tr>\n",
       "  </tbody>\n",
       "</table>\n",
       "</div>"
      ],
      "text/plain": [
       "             variable  missing values  missing values (%)\n",
       "0             user_id               0            0.000000\n",
       "1            event_id               0            0.000000\n",
       "2            trx_date               0            0.000000\n",
       "3               price               0            0.000000\n",
       "4   total_ticket_sold               0            0.000000\n",
       "5          event_type               0            0.000000\n",
       "6      event_category               0            0.000000\n",
       "7   organization_type               0            0.000000\n",
       "8           join_date              53            0.076623\n",
       "9           user_type              53            0.076623\n",
       "10           location           15144           21.893885"
      ]
     },
     "execution_count": 26,
     "metadata": {},
     "output_type": "execute_result"
    }
   ],
   "source": [
    "missing_data = trx_user_event.isnull().sum(axis=0).reset_index()\n",
    "\n",
    "# mengubah nama kolom\n",
    "missing_data.columns = ['variable','missing values']\n",
    "\n",
    "# menambah kolom percantege missing (fillong factor)\n",
    "missing_data['missing values (%)'] = (missing_data['missing values']) / (trx_user_event.shape[0]) *100\n",
    "\n",
    "# sortir filling factor dari terkecil yang terendah\n",
    "missing_data.sort_values('missing values (%)').reset_index(drop = True)"
   ]
  },
  {
   "cell_type": "markdown",
   "metadata": {},
   "source": [
    "Since join_date and user_type has no significant missing value, so we'll delete the row that contain this missing value"
   ]
  },
  {
   "cell_type": "code",
   "execution_count": 27,
   "metadata": {},
   "outputs": [],
   "source": [
    "trx_user_event.dropna(subset=['join_date', 'user_type'], inplace=True)"
   ]
  },
  {
   "cell_type": "code",
   "execution_count": 28,
   "metadata": {},
   "outputs": [
    {
     "data": {
      "text/html": [
       "<div>\n",
       "<style scoped>\n",
       "    .dataframe tbody tr th:only-of-type {\n",
       "        vertical-align: middle;\n",
       "    }\n",
       "\n",
       "    .dataframe tbody tr th {\n",
       "        vertical-align: top;\n",
       "    }\n",
       "\n",
       "    .dataframe thead th {\n",
       "        text-align: right;\n",
       "    }\n",
       "</style>\n",
       "<table border=\"1\" class=\"dataframe\">\n",
       "  <thead>\n",
       "    <tr style=\"text-align: right;\">\n",
       "      <th></th>\n",
       "      <th>variable</th>\n",
       "      <th>missing values</th>\n",
       "      <th>missing values (%)</th>\n",
       "    </tr>\n",
       "  </thead>\n",
       "  <tbody>\n",
       "    <tr>\n",
       "      <th>0</th>\n",
       "      <td>user_id</td>\n",
       "      <td>0</td>\n",
       "      <td>0.000000</td>\n",
       "    </tr>\n",
       "    <tr>\n",
       "      <th>1</th>\n",
       "      <td>event_id</td>\n",
       "      <td>0</td>\n",
       "      <td>0.000000</td>\n",
       "    </tr>\n",
       "    <tr>\n",
       "      <th>2</th>\n",
       "      <td>trx_date</td>\n",
       "      <td>0</td>\n",
       "      <td>0.000000</td>\n",
       "    </tr>\n",
       "    <tr>\n",
       "      <th>3</th>\n",
       "      <td>price</td>\n",
       "      <td>0</td>\n",
       "      <td>0.000000</td>\n",
       "    </tr>\n",
       "    <tr>\n",
       "      <th>4</th>\n",
       "      <td>total_ticket_sold</td>\n",
       "      <td>0</td>\n",
       "      <td>0.000000</td>\n",
       "    </tr>\n",
       "    <tr>\n",
       "      <th>5</th>\n",
       "      <td>event_type</td>\n",
       "      <td>0</td>\n",
       "      <td>0.000000</td>\n",
       "    </tr>\n",
       "    <tr>\n",
       "      <th>6</th>\n",
       "      <td>event_category</td>\n",
       "      <td>0</td>\n",
       "      <td>0.000000</td>\n",
       "    </tr>\n",
       "    <tr>\n",
       "      <th>7</th>\n",
       "      <td>organization_type</td>\n",
       "      <td>0</td>\n",
       "      <td>0.000000</td>\n",
       "    </tr>\n",
       "    <tr>\n",
       "      <th>8</th>\n",
       "      <td>join_date</td>\n",
       "      <td>0</td>\n",
       "      <td>0.000000</td>\n",
       "    </tr>\n",
       "    <tr>\n",
       "      <th>9</th>\n",
       "      <td>user_type</td>\n",
       "      <td>0</td>\n",
       "      <td>0.000000</td>\n",
       "    </tr>\n",
       "    <tr>\n",
       "      <th>10</th>\n",
       "      <td>location</td>\n",
       "      <td>15144</td>\n",
       "      <td>21.910673</td>\n",
       "    </tr>\n",
       "  </tbody>\n",
       "</table>\n",
       "</div>"
      ],
      "text/plain": [
       "             variable  missing values  missing values (%)\n",
       "0             user_id               0            0.000000\n",
       "1            event_id               0            0.000000\n",
       "2            trx_date               0            0.000000\n",
       "3               price               0            0.000000\n",
       "4   total_ticket_sold               0            0.000000\n",
       "5          event_type               0            0.000000\n",
       "6      event_category               0            0.000000\n",
       "7   organization_type               0            0.000000\n",
       "8           join_date               0            0.000000\n",
       "9           user_type               0            0.000000\n",
       "10           location           15144           21.910673"
      ]
     },
     "execution_count": 28,
     "metadata": {},
     "output_type": "execute_result"
    }
   ],
   "source": [
    "missing_data = trx_user_event.isnull().sum(axis=0).reset_index()\n",
    "\n",
    "# mengubah nama kolom\n",
    "missing_data.columns = ['variable','missing values']\n",
    "\n",
    "# menambah kolom percantege missing (fillong factor)\n",
    "missing_data['missing values (%)'] = (missing_data['missing values']) / (trx_user_event.shape[0]) *100\n",
    "\n",
    "# sortir filling factor dari terkecil yang terendah\n",
    "missing_data.sort_values('missing values (%)').reset_index(drop = True)"
   ]
  },
  {
   "cell_type": "markdown",
   "metadata": {},
   "source": [
    "Now we'll look at location columns. First we slice and take only the missing row in location columns"
   ]
  },
  {
   "cell_type": "code",
   "execution_count": 29,
   "metadata": {},
   "outputs": [
    {
     "data": {
      "text/plain": [
       "(69117, 11)"
      ]
     },
     "execution_count": 29,
     "metadata": {},
     "output_type": "execute_result"
    }
   ],
   "source": [
    "trx_user_event.shape"
   ]
  },
  {
   "cell_type": "code",
   "execution_count": 30,
   "metadata": {},
   "outputs": [],
   "source": [
    "loc_na = trx_user_event[trx_user_event['location'].isna()]"
   ]
  },
  {
   "cell_type": "code",
   "execution_count": 31,
   "metadata": {},
   "outputs": [
    {
     "data": {
      "text/plain": [
       "(15144, 11)"
      ]
     },
     "execution_count": 31,
     "metadata": {},
     "output_type": "execute_result"
    }
   ],
   "source": [
    "loc_na.shape"
   ]
  },
  {
   "cell_type": "markdown",
   "metadata": {},
   "source": [
    "And look is there any relationship between locations and other features. In this case, I suggest that there is a relationship between location, event_type, event_category"
   ]
  },
  {
   "cell_type": "code",
   "execution_count": 32,
   "metadata": {},
   "outputs": [
    {
     "name": "stdout",
     "output_type": "stream",
     "text": [
      "user_id: 5042\n",
      "event_id: 5291\n",
      "trx_date: 14949\n",
      "price: 43\n",
      "total_ticket_sold: 8\n",
      "event_type: 2\n",
      "event_category: 3\n",
      "organization_type: 3\n",
      "join_date: 757\n",
      "user_type: 2\n",
      "location: 0\n"
     ]
    }
   ],
   "source": [
    "for col in loc_na.columns: \n",
    "    print(col + \":\", loc_na[col].nunique())"
   ]
  },
  {
   "cell_type": "code",
   "execution_count": 33,
   "metadata": {},
   "outputs": [
    {
     "data": {
      "text/plain": [
       "array(['Movie', 'Event'], dtype=object)"
      ]
     },
     "execution_count": 33,
     "metadata": {},
     "output_type": "execute_result"
    }
   ],
   "source": [
    "loc_na['event_type'].unique()"
   ]
  },
  {
   "cell_type": "code",
   "execution_count": 34,
   "metadata": {},
   "outputs": [
    {
     "data": {
      "text/plain": [
       "3"
      ]
     },
     "execution_count": 34,
     "metadata": {},
     "output_type": "execute_result"
    }
   ],
   "source": [
    "loc_na['event_category'].nunique()"
   ]
  },
  {
   "cell_type": "markdown",
   "metadata": {},
   "source": [
    "**Imputation with mode**"
   ]
  },
  {
   "cell_type": "markdown",
   "metadata": {},
   "source": [
    "**event_category == Concert, Music, Festival**"
   ]
  },
  {
   "cell_type": "code",
   "execution_count": 35,
   "metadata": {},
   "outputs": [
    {
     "data": {
      "text/plain": [
       "0    Bali\n",
       "dtype: object"
      ]
     },
     "execution_count": 35,
     "metadata": {},
     "output_type": "execute_result"
    }
   ],
   "source": [
    "trx_user_event[trx_user_event['event_category'] == 'Concert, Music, Festival']['location'].mode()"
   ]
  },
  {
   "cell_type": "code",
   "execution_count": 36,
   "metadata": {},
   "outputs": [
    {
     "data": {
      "text/plain": [
       "11609    Bali\n",
       "12474    Bali\n",
       "12539    Bali\n",
       "14727    Bali\n",
       "16673    Bali\n",
       "48901     NaN\n",
       "Name: location, dtype: object"
      ]
     },
     "execution_count": 36,
     "metadata": {},
     "output_type": "execute_result"
    }
   ],
   "source": [
    "trx_user_event[trx_user_event['event_category'] == 'Concert, Music, Festival']['location']"
   ]
  },
  {
   "cell_type": "code",
   "execution_count": 37,
   "metadata": {},
   "outputs": [],
   "source": [
    "trx_user_event.loc[48901,'location'] = 'Bali'"
   ]
  },
  {
   "cell_type": "markdown",
   "metadata": {},
   "source": [
    "**event_category == Workshop**"
   ]
  },
  {
   "cell_type": "code",
   "execution_count": 38,
   "metadata": {},
   "outputs": [
    {
     "data": {
      "text/plain": [
       "0    Makassar\n",
       "dtype: object"
      ]
     },
     "execution_count": 38,
     "metadata": {},
     "output_type": "execute_result"
    }
   ],
   "source": [
    "trx_user_event[trx_user_event['event_category'] == 'Workshop']['location'].mode()"
   ]
  },
  {
   "cell_type": "code",
   "execution_count": 39,
   "metadata": {},
   "outputs": [
    {
     "data": {
      "text/html": [
       "<div>\n",
       "<style scoped>\n",
       "    .dataframe tbody tr th:only-of-type {\n",
       "        vertical-align: middle;\n",
       "    }\n",
       "\n",
       "    .dataframe tbody tr th {\n",
       "        vertical-align: top;\n",
       "    }\n",
       "\n",
       "    .dataframe thead th {\n",
       "        text-align: right;\n",
       "    }\n",
       "</style>\n",
       "<table border=\"1\" class=\"dataframe\">\n",
       "  <thead>\n",
       "    <tr style=\"text-align: right;\">\n",
       "      <th></th>\n",
       "      <th>user_id</th>\n",
       "      <th>event_id</th>\n",
       "      <th>trx_date</th>\n",
       "      <th>price</th>\n",
       "      <th>total_ticket_sold</th>\n",
       "      <th>event_type</th>\n",
       "      <th>event_category</th>\n",
       "      <th>organization_type</th>\n",
       "      <th>join_date</th>\n",
       "      <th>user_type</th>\n",
       "      <th>location</th>\n",
       "    </tr>\n",
       "  </thead>\n",
       "  <tbody>\n",
       "    <tr>\n",
       "      <th>49156</th>\n",
       "      <td>d706ae4c83455692d099e6255583f51bcaee466c01b602...</td>\n",
       "      <td>a51ab54c9c7394a052dc73b3adc164af628dcb1049e759...</td>\n",
       "      <td>2020-02-17 09:41:04</td>\n",
       "      <td>0</td>\n",
       "      <td>1</td>\n",
       "      <td>Event</td>\n",
       "      <td>Workshop</td>\n",
       "      <td>Event Organizer</td>\n",
       "      <td>2019-03-04</td>\n",
       "      <td>Registered</td>\n",
       "      <td>NaN</td>\n",
       "    </tr>\n",
       "    <tr>\n",
       "      <th>51472</th>\n",
       "      <td>5a5bad93c516903217429296f41e7c72b270159da54da5...</td>\n",
       "      <td>a51ab54c9c7394a052dc73b3adc164af628dcb1049e759...</td>\n",
       "      <td>2020-04-17 03:09:18</td>\n",
       "      <td>0</td>\n",
       "      <td>5</td>\n",
       "      <td>Event</td>\n",
       "      <td>Workshop</td>\n",
       "      <td>Event Organizer</td>\n",
       "      <td>2018-01-09</td>\n",
       "      <td>Registered</td>\n",
       "      <td>NaN</td>\n",
       "    </tr>\n",
       "    <tr>\n",
       "      <th>51473</th>\n",
       "      <td>7c6a0a99b02e47badc12b2f4ac52db93a5d8c789986912...</td>\n",
       "      <td>a51ab54c9c7394a052dc73b3adc164af628dcb1049e759...</td>\n",
       "      <td>2020-04-17 03:09:18</td>\n",
       "      <td>0</td>\n",
       "      <td>3</td>\n",
       "      <td>Event</td>\n",
       "      <td>Workshop</td>\n",
       "      <td>Event Organizer</td>\n",
       "      <td>2019-01-16</td>\n",
       "      <td>Guest</td>\n",
       "      <td>NaN</td>\n",
       "    </tr>\n",
       "    <tr>\n",
       "      <th>51474</th>\n",
       "      <td>1b710ade9432a036d79a44bf79368326b21919b6973616...</td>\n",
       "      <td>a51ab54c9c7394a052dc73b3adc164af628dcb1049e759...</td>\n",
       "      <td>2020-04-17 03:09:18</td>\n",
       "      <td>0</td>\n",
       "      <td>2</td>\n",
       "      <td>Event</td>\n",
       "      <td>Workshop</td>\n",
       "      <td>Event Organizer</td>\n",
       "      <td>2019-08-14</td>\n",
       "      <td>Guest</td>\n",
       "      <td>NaN</td>\n",
       "    </tr>\n",
       "    <tr>\n",
       "      <th>51475</th>\n",
       "      <td>917378748f44c1b205af7a0eaa97c8e049857931c25b2e...</td>\n",
       "      <td>a51ab54c9c7394a052dc73b3adc164af628dcb1049e759...</td>\n",
       "      <td>2020-04-17 03:09:19</td>\n",
       "      <td>0</td>\n",
       "      <td>3</td>\n",
       "      <td>Event</td>\n",
       "      <td>Workshop</td>\n",
       "      <td>Event Organizer</td>\n",
       "      <td>2018-12-10</td>\n",
       "      <td>Registered</td>\n",
       "      <td>NaN</td>\n",
       "    </tr>\n",
       "  </tbody>\n",
       "</table>\n",
       "</div>"
      ],
      "text/plain": [
       "                                                 user_id  \\\n",
       "49156  d706ae4c83455692d099e6255583f51bcaee466c01b602...   \n",
       "51472  5a5bad93c516903217429296f41e7c72b270159da54da5...   \n",
       "51473  7c6a0a99b02e47badc12b2f4ac52db93a5d8c789986912...   \n",
       "51474  1b710ade9432a036d79a44bf79368326b21919b6973616...   \n",
       "51475  917378748f44c1b205af7a0eaa97c8e049857931c25b2e...   \n",
       "\n",
       "                                                event_id             trx_date  \\\n",
       "49156  a51ab54c9c7394a052dc73b3adc164af628dcb1049e759...  2020-02-17 09:41:04   \n",
       "51472  a51ab54c9c7394a052dc73b3adc164af628dcb1049e759...  2020-04-17 03:09:18   \n",
       "51473  a51ab54c9c7394a052dc73b3adc164af628dcb1049e759...  2020-04-17 03:09:18   \n",
       "51474  a51ab54c9c7394a052dc73b3adc164af628dcb1049e759...  2020-04-17 03:09:18   \n",
       "51475  a51ab54c9c7394a052dc73b3adc164af628dcb1049e759...  2020-04-17 03:09:19   \n",
       "\n",
       "       price  total_ticket_sold event_type event_category organization_type  \\\n",
       "49156      0                  1      Event       Workshop   Event Organizer   \n",
       "51472      0                  5      Event       Workshop   Event Organizer   \n",
       "51473      0                  3      Event       Workshop   Event Organizer   \n",
       "51474      0                  2      Event       Workshop   Event Organizer   \n",
       "51475      0                  3      Event       Workshop   Event Organizer   \n",
       "\n",
       "        join_date   user_type location  \n",
       "49156  2019-03-04  Registered      NaN  \n",
       "51472  2018-01-09  Registered      NaN  \n",
       "51473  2019-01-16       Guest      NaN  \n",
       "51474  2019-08-14       Guest      NaN  \n",
       "51475  2018-12-10  Registered      NaN  "
      ]
     },
     "execution_count": 39,
     "metadata": {},
     "output_type": "execute_result"
    }
   ],
   "source": [
    "trx_user_event[(trx_user_event['event_category'] == 'Workshop') & (trx_user_event['location'].isna())]"
   ]
  },
  {
   "cell_type": "code",
   "execution_count": 40,
   "metadata": {},
   "outputs": [],
   "source": [
    "list_workshop = [49156,51472,51473,51474,51475]"
   ]
  },
  {
   "cell_type": "code",
   "execution_count": 41,
   "metadata": {},
   "outputs": [],
   "source": [
    "trx_user_event.loc[list_workshop, 'location'] = 'Makassar'"
   ]
  },
  {
   "cell_type": "markdown",
   "metadata": {},
   "source": [
    "**event_category == Movies or Cinemas**"
   ]
  },
  {
   "cell_type": "code",
   "execution_count": 42,
   "metadata": {},
   "outputs": [
    {
     "data": {
      "text/plain": [
       "False"
      ]
     },
     "execution_count": 42,
     "metadata": {},
     "output_type": "execute_result"
    }
   ],
   "source": [
    "trx_user_event[trx_user_event['event_category'] == 'Movies or Cinemas']['location'].notna().any()"
   ]
  },
  {
   "cell_type": "markdown",
   "metadata": {},
   "source": [
    "In turns all of value in locations for movies and cinemas category is missing. So, we'll impute with new locations, called cinemas"
   ]
  },
  {
   "cell_type": "code",
   "execution_count": 43,
   "metadata": {},
   "outputs": [
    {
     "data": {
      "text/plain": [
       "user_id                  0\n",
       "event_id                 0\n",
       "trx_date                 0\n",
       "price                    0\n",
       "total_ticket_sold        0\n",
       "event_type               0\n",
       "event_category           0\n",
       "organization_type        0\n",
       "join_date                0\n",
       "user_type                0\n",
       "location             15138\n",
       "dtype: int64"
      ]
     },
     "execution_count": 43,
     "metadata": {},
     "output_type": "execute_result"
    }
   ],
   "source": [
    "trx_user_event.isnull().sum()"
   ]
  },
  {
   "cell_type": "code",
   "execution_count": 44,
   "metadata": {},
   "outputs": [],
   "source": [
    "trx_user_event.fillna('Cinemas', inplace=True)"
   ]
  },
  {
   "cell_type": "code",
   "execution_count": 45,
   "metadata": {},
   "outputs": [
    {
     "data": {
      "text/plain": [
       "user_id              0\n",
       "event_id             0\n",
       "trx_date             0\n",
       "price                0\n",
       "total_ticket_sold    0\n",
       "event_type           0\n",
       "event_category       0\n",
       "organization_type    0\n",
       "join_date            0\n",
       "user_type            0\n",
       "location             0\n",
       "dtype: int64"
      ]
     },
     "execution_count": 45,
     "metadata": {},
     "output_type": "execute_result"
    }
   ],
   "source": [
    "trx_user_event.isnull().sum()"
   ]
  },
  {
   "cell_type": "code",
   "execution_count": 46,
   "metadata": {},
   "outputs": [
    {
     "data": {
      "text/plain": [
       "(69117, 11)"
      ]
     },
     "execution_count": 46,
     "metadata": {},
     "output_type": "execute_result"
    }
   ],
   "source": [
    "trx_user_event.shape"
   ]
  },
  {
   "cell_type": "markdown",
   "metadata": {},
   "source": [
    "### 2. Convert Date type into datetime"
   ]
  },
  {
   "cell_type": "code",
   "execution_count": 47,
   "metadata": {},
   "outputs": [
    {
     "name": "stdout",
     "output_type": "stream",
     "text": [
      "<class 'pandas.core.frame.DataFrame'>\n",
      "Int64Index: 69117 entries, 0 to 69164\n",
      "Data columns (total 11 columns):\n",
      " #   Column             Non-Null Count  Dtype \n",
      "---  ------             --------------  ----- \n",
      " 0   user_id            69117 non-null  object\n",
      " 1   event_id           69117 non-null  object\n",
      " 2   trx_date           69117 non-null  object\n",
      " 3   price              69117 non-null  int64 \n",
      " 4   total_ticket_sold  69117 non-null  int64 \n",
      " 5   event_type         69117 non-null  object\n",
      " 6   event_category     69117 non-null  object\n",
      " 7   organization_type  69117 non-null  object\n",
      " 8   join_date          69117 non-null  object\n",
      " 9   user_type          69117 non-null  object\n",
      " 10  location           69117 non-null  object\n",
      "dtypes: int64(2), object(9)\n",
      "memory usage: 8.8+ MB\n"
     ]
    }
   ],
   "source": [
    "trx_user_event.info()"
   ]
  },
  {
   "cell_type": "code",
   "execution_count": 48,
   "metadata": {},
   "outputs": [],
   "source": [
    "list_date = ['trx_date', 'join_date']\n",
    "for date in list_date:\n",
    "    trx_user_event[date] = pd.to_datetime(trx_user_event[date])"
   ]
  },
  {
   "cell_type": "code",
   "execution_count": 49,
   "metadata": {},
   "outputs": [
    {
     "data": {
      "text/html": [
       "<div>\n",
       "<style scoped>\n",
       "    .dataframe tbody tr th:only-of-type {\n",
       "        vertical-align: middle;\n",
       "    }\n",
       "\n",
       "    .dataframe tbody tr th {\n",
       "        vertical-align: top;\n",
       "    }\n",
       "\n",
       "    .dataframe thead th {\n",
       "        text-align: right;\n",
       "    }\n",
       "</style>\n",
       "<table border=\"1\" class=\"dataframe\">\n",
       "  <thead>\n",
       "    <tr style=\"text-align: right;\">\n",
       "      <th></th>\n",
       "      <th>user_id</th>\n",
       "      <th>event_id</th>\n",
       "      <th>trx_date</th>\n",
       "      <th>price</th>\n",
       "      <th>total_ticket_sold</th>\n",
       "      <th>event_type</th>\n",
       "      <th>event_category</th>\n",
       "      <th>organization_type</th>\n",
       "      <th>join_date</th>\n",
       "      <th>user_type</th>\n",
       "      <th>location</th>\n",
       "      <th>years</th>\n",
       "      <th>month_year</th>\n",
       "      <th>days</th>\n",
       "      <th>hours</th>\n",
       "      <th>date</th>\n",
       "      <th>dayofmonth</th>\n",
       "    </tr>\n",
       "  </thead>\n",
       "  <tbody>\n",
       "    <tr>\n",
       "      <th>0</th>\n",
       "      <td>d3bf14fe0bffbb499ef0d341f4b7c12aad9fbd3b9e0fd6...</td>\n",
       "      <td>6629d5a73302852ef915dbda22fa1994213eb36e41c893...</td>\n",
       "      <td>2019-01-01 02:15:30</td>\n",
       "      <td>75000</td>\n",
       "      <td>3</td>\n",
       "      <td>Event</td>\n",
       "      <td>Art Exhibition, Family, Art, Exhibition, Group...</td>\n",
       "      <td>Event Organizer</td>\n",
       "      <td>2019-01-01</td>\n",
       "      <td>Registered</td>\n",
       "      <td>Jakarta</td>\n",
       "      <td>2019</td>\n",
       "      <td>2019-01</td>\n",
       "      <td>2</td>\n",
       "      <td>9</td>\n",
       "      <td>2019-01-01</td>\n",
       "      <td>1</td>\n",
       "    </tr>\n",
       "    <tr>\n",
       "      <th>1</th>\n",
       "      <td>4f3e46a6e94452b566553485b619d2f305bd9d875d4f6d...</td>\n",
       "      <td>6629d5a73302852ef915dbda22fa1994213eb36e41c893...</td>\n",
       "      <td>2019-01-01 03:04:32</td>\n",
       "      <td>75000</td>\n",
       "      <td>2</td>\n",
       "      <td>Event</td>\n",
       "      <td>Art Exhibition, Family, Art, Exhibition, Group...</td>\n",
       "      <td>Event Organizer</td>\n",
       "      <td>2019-01-01</td>\n",
       "      <td>Guest</td>\n",
       "      <td>Jakarta</td>\n",
       "      <td>2019</td>\n",
       "      <td>2019-01</td>\n",
       "      <td>2</td>\n",
       "      <td>10</td>\n",
       "      <td>2019-01-01</td>\n",
       "      <td>1</td>\n",
       "    </tr>\n",
       "    <tr>\n",
       "      <th>2</th>\n",
       "      <td>23c44b20dafb34672868945ce6428ead219eb8bb5312c5...</td>\n",
       "      <td>6629d5a73302852ef915dbda22fa1994213eb36e41c893...</td>\n",
       "      <td>2019-01-01 03:11:44</td>\n",
       "      <td>100000</td>\n",
       "      <td>1</td>\n",
       "      <td>Event</td>\n",
       "      <td>Art Exhibition, Family, Art, Exhibition, Group...</td>\n",
       "      <td>Event Organizer</td>\n",
       "      <td>2018-12-08</td>\n",
       "      <td>Registered</td>\n",
       "      <td>Jakarta</td>\n",
       "      <td>2019</td>\n",
       "      <td>2019-01</td>\n",
       "      <td>2</td>\n",
       "      <td>10</td>\n",
       "      <td>2019-01-01</td>\n",
       "      <td>1</td>\n",
       "    </tr>\n",
       "    <tr>\n",
       "      <th>3</th>\n",
       "      <td>23c44b20dafb34672868945ce6428ead219eb8bb5312c5...</td>\n",
       "      <td>6629d5a73302852ef915dbda22fa1994213eb36e41c893...</td>\n",
       "      <td>2019-01-01 03:11:50</td>\n",
       "      <td>100000</td>\n",
       "      <td>1</td>\n",
       "      <td>Event</td>\n",
       "      <td>Art Exhibition, Family, Art, Exhibition, Group...</td>\n",
       "      <td>Event Organizer</td>\n",
       "      <td>2018-12-08</td>\n",
       "      <td>Registered</td>\n",
       "      <td>Jakarta</td>\n",
       "      <td>2019</td>\n",
       "      <td>2019-01</td>\n",
       "      <td>2</td>\n",
       "      <td>10</td>\n",
       "      <td>2019-01-01</td>\n",
       "      <td>1</td>\n",
       "    </tr>\n",
       "    <tr>\n",
       "      <th>4</th>\n",
       "      <td>38b796a79de6f453bb1ccc704e8aa86dd21f186398614e...</td>\n",
       "      <td>6629d5a73302852ef915dbda22fa1994213eb36e41c893...</td>\n",
       "      <td>2019-01-01 03:15:19</td>\n",
       "      <td>75000</td>\n",
       "      <td>1</td>\n",
       "      <td>Event</td>\n",
       "      <td>Art Exhibition, Family, Art, Exhibition, Group...</td>\n",
       "      <td>Event Organizer</td>\n",
       "      <td>2018-12-31</td>\n",
       "      <td>Guest</td>\n",
       "      <td>Jakarta</td>\n",
       "      <td>2019</td>\n",
       "      <td>2019-01</td>\n",
       "      <td>2</td>\n",
       "      <td>10</td>\n",
       "      <td>2019-01-01</td>\n",
       "      <td>1</td>\n",
       "    </tr>\n",
       "  </tbody>\n",
       "</table>\n",
       "</div>"
      ],
      "text/plain": [
       "                                             user_id  \\\n",
       "0  d3bf14fe0bffbb499ef0d341f4b7c12aad9fbd3b9e0fd6...   \n",
       "1  4f3e46a6e94452b566553485b619d2f305bd9d875d4f6d...   \n",
       "2  23c44b20dafb34672868945ce6428ead219eb8bb5312c5...   \n",
       "3  23c44b20dafb34672868945ce6428ead219eb8bb5312c5...   \n",
       "4  38b796a79de6f453bb1ccc704e8aa86dd21f186398614e...   \n",
       "\n",
       "                                            event_id            trx_date  \\\n",
       "0  6629d5a73302852ef915dbda22fa1994213eb36e41c893... 2019-01-01 02:15:30   \n",
       "1  6629d5a73302852ef915dbda22fa1994213eb36e41c893... 2019-01-01 03:04:32   \n",
       "2  6629d5a73302852ef915dbda22fa1994213eb36e41c893... 2019-01-01 03:11:44   \n",
       "3  6629d5a73302852ef915dbda22fa1994213eb36e41c893... 2019-01-01 03:11:50   \n",
       "4  6629d5a73302852ef915dbda22fa1994213eb36e41c893... 2019-01-01 03:15:19   \n",
       "\n",
       "    price  total_ticket_sold event_type  \\\n",
       "0   75000                  3      Event   \n",
       "1   75000                  2      Event   \n",
       "2  100000                  1      Event   \n",
       "3  100000                  1      Event   \n",
       "4   75000                  1      Event   \n",
       "\n",
       "                                      event_category organization_type  \\\n",
       "0  Art Exhibition, Family, Art, Exhibition, Group...   Event Organizer   \n",
       "1  Art Exhibition, Family, Art, Exhibition, Group...   Event Organizer   \n",
       "2  Art Exhibition, Family, Art, Exhibition, Group...   Event Organizer   \n",
       "3  Art Exhibition, Family, Art, Exhibition, Group...   Event Organizer   \n",
       "4  Art Exhibition, Family, Art, Exhibition, Group...   Event Organizer   \n",
       "\n",
       "   join_date   user_type location  years month_year  days  hours        date  \\\n",
       "0 2019-01-01  Registered  Jakarta   2019    2019-01     2      9  2019-01-01   \n",
       "1 2019-01-01       Guest  Jakarta   2019    2019-01     2     10  2019-01-01   \n",
       "2 2018-12-08  Registered  Jakarta   2019    2019-01     2     10  2019-01-01   \n",
       "3 2018-12-08  Registered  Jakarta   2019    2019-01     2     10  2019-01-01   \n",
       "4 2018-12-31       Guest  Jakarta   2019    2019-01     2     10  2019-01-01   \n",
       "\n",
       "   dayofmonth  \n",
       "0           1  \n",
       "1           1  \n",
       "2           1  \n",
       "3           1  \n",
       "4           1  "
      ]
     },
     "execution_count": 49,
     "metadata": {},
     "output_type": "execute_result"
    }
   ],
   "source": [
    "# Adding Years, Months, Days, Hours, and Date\n",
    "trx_user_event['years'] = trx_user_event['trx_date'].dt.year\n",
    "trx_user_event['month_year'] = trx_user_event['trx_date'].dt.to_period('M')\n",
    "trx_user_event['days'] = trx_user_event['trx_date'].dt.dayofweek+1\n",
    "trx_user_event['hours'] = trx_user_event['trx_date'].dt.hour + 7\n",
    "trx_user_event['date'] = trx_user_event['trx_date'].dt.date\n",
    "trx_user_event['dayofmonth'] = trx_user_event['trx_date'].dt.day\n",
    "\n",
    "trx_user_event.head()"
   ]
  },
  {
   "cell_type": "markdown",
   "metadata": {},
   "source": [
    "### 3. Adding Neccesary Features"
   ]
  },
  {
   "cell_type": "markdown",
   "metadata": {},
   "source": [
    "#### In order to perform RFM analysis, we should know total amount for every transactions purchase, so we can know the monetaryvalue for each customer"
   ]
  },
  {
   "cell_type": "code",
   "execution_count": 50,
   "metadata": {},
   "outputs": [],
   "source": [
    "trx_user_event['total_price'] = trx_user_event['total_ticket_sold'] * trx_user_event['price']"
   ]
  },
  {
   "cell_type": "code",
   "execution_count": 51,
   "metadata": {},
   "outputs": [
    {
     "data": {
      "text/html": [
       "<div>\n",
       "<style scoped>\n",
       "    .dataframe tbody tr th:only-of-type {\n",
       "        vertical-align: middle;\n",
       "    }\n",
       "\n",
       "    .dataframe tbody tr th {\n",
       "        vertical-align: top;\n",
       "    }\n",
       "\n",
       "    .dataframe thead th {\n",
       "        text-align: right;\n",
       "    }\n",
       "</style>\n",
       "<table border=\"1\" class=\"dataframe\">\n",
       "  <thead>\n",
       "    <tr style=\"text-align: right;\">\n",
       "      <th></th>\n",
       "      <th>user_id</th>\n",
       "      <th>event_id</th>\n",
       "      <th>trx_date</th>\n",
       "      <th>price</th>\n",
       "      <th>total_ticket_sold</th>\n",
       "      <th>event_type</th>\n",
       "      <th>event_category</th>\n",
       "      <th>organization_type</th>\n",
       "      <th>join_date</th>\n",
       "      <th>user_type</th>\n",
       "      <th>location</th>\n",
       "      <th>years</th>\n",
       "      <th>month_year</th>\n",
       "      <th>days</th>\n",
       "      <th>hours</th>\n",
       "      <th>date</th>\n",
       "      <th>dayofmonth</th>\n",
       "      <th>total_price</th>\n",
       "    </tr>\n",
       "  </thead>\n",
       "  <tbody>\n",
       "    <tr>\n",
       "      <th>0</th>\n",
       "      <td>d3bf14fe0bffbb499ef0d341f4b7c12aad9fbd3b9e0fd6...</td>\n",
       "      <td>6629d5a73302852ef915dbda22fa1994213eb36e41c893...</td>\n",
       "      <td>2019-01-01 02:15:30</td>\n",
       "      <td>75000</td>\n",
       "      <td>3</td>\n",
       "      <td>Event</td>\n",
       "      <td>Art Exhibition, Family, Art, Exhibition, Group...</td>\n",
       "      <td>Event Organizer</td>\n",
       "      <td>2019-01-01</td>\n",
       "      <td>Registered</td>\n",
       "      <td>Jakarta</td>\n",
       "      <td>2019</td>\n",
       "      <td>2019-01</td>\n",
       "      <td>2</td>\n",
       "      <td>9</td>\n",
       "      <td>2019-01-01</td>\n",
       "      <td>1</td>\n",
       "      <td>225000</td>\n",
       "    </tr>\n",
       "    <tr>\n",
       "      <th>1</th>\n",
       "      <td>4f3e46a6e94452b566553485b619d2f305bd9d875d4f6d...</td>\n",
       "      <td>6629d5a73302852ef915dbda22fa1994213eb36e41c893...</td>\n",
       "      <td>2019-01-01 03:04:32</td>\n",
       "      <td>75000</td>\n",
       "      <td>2</td>\n",
       "      <td>Event</td>\n",
       "      <td>Art Exhibition, Family, Art, Exhibition, Group...</td>\n",
       "      <td>Event Organizer</td>\n",
       "      <td>2019-01-01</td>\n",
       "      <td>Guest</td>\n",
       "      <td>Jakarta</td>\n",
       "      <td>2019</td>\n",
       "      <td>2019-01</td>\n",
       "      <td>2</td>\n",
       "      <td>10</td>\n",
       "      <td>2019-01-01</td>\n",
       "      <td>1</td>\n",
       "      <td>150000</td>\n",
       "    </tr>\n",
       "    <tr>\n",
       "      <th>2</th>\n",
       "      <td>23c44b20dafb34672868945ce6428ead219eb8bb5312c5...</td>\n",
       "      <td>6629d5a73302852ef915dbda22fa1994213eb36e41c893...</td>\n",
       "      <td>2019-01-01 03:11:44</td>\n",
       "      <td>100000</td>\n",
       "      <td>1</td>\n",
       "      <td>Event</td>\n",
       "      <td>Art Exhibition, Family, Art, Exhibition, Group...</td>\n",
       "      <td>Event Organizer</td>\n",
       "      <td>2018-12-08</td>\n",
       "      <td>Registered</td>\n",
       "      <td>Jakarta</td>\n",
       "      <td>2019</td>\n",
       "      <td>2019-01</td>\n",
       "      <td>2</td>\n",
       "      <td>10</td>\n",
       "      <td>2019-01-01</td>\n",
       "      <td>1</td>\n",
       "      <td>100000</td>\n",
       "    </tr>\n",
       "    <tr>\n",
       "      <th>3</th>\n",
       "      <td>23c44b20dafb34672868945ce6428ead219eb8bb5312c5...</td>\n",
       "      <td>6629d5a73302852ef915dbda22fa1994213eb36e41c893...</td>\n",
       "      <td>2019-01-01 03:11:50</td>\n",
       "      <td>100000</td>\n",
       "      <td>1</td>\n",
       "      <td>Event</td>\n",
       "      <td>Art Exhibition, Family, Art, Exhibition, Group...</td>\n",
       "      <td>Event Organizer</td>\n",
       "      <td>2018-12-08</td>\n",
       "      <td>Registered</td>\n",
       "      <td>Jakarta</td>\n",
       "      <td>2019</td>\n",
       "      <td>2019-01</td>\n",
       "      <td>2</td>\n",
       "      <td>10</td>\n",
       "      <td>2019-01-01</td>\n",
       "      <td>1</td>\n",
       "      <td>100000</td>\n",
       "    </tr>\n",
       "    <tr>\n",
       "      <th>4</th>\n",
       "      <td>38b796a79de6f453bb1ccc704e8aa86dd21f186398614e...</td>\n",
       "      <td>6629d5a73302852ef915dbda22fa1994213eb36e41c893...</td>\n",
       "      <td>2019-01-01 03:15:19</td>\n",
       "      <td>75000</td>\n",
       "      <td>1</td>\n",
       "      <td>Event</td>\n",
       "      <td>Art Exhibition, Family, Art, Exhibition, Group...</td>\n",
       "      <td>Event Organizer</td>\n",
       "      <td>2018-12-31</td>\n",
       "      <td>Guest</td>\n",
       "      <td>Jakarta</td>\n",
       "      <td>2019</td>\n",
       "      <td>2019-01</td>\n",
       "      <td>2</td>\n",
       "      <td>10</td>\n",
       "      <td>2019-01-01</td>\n",
       "      <td>1</td>\n",
       "      <td>75000</td>\n",
       "    </tr>\n",
       "  </tbody>\n",
       "</table>\n",
       "</div>"
      ],
      "text/plain": [
       "                                             user_id  \\\n",
       "0  d3bf14fe0bffbb499ef0d341f4b7c12aad9fbd3b9e0fd6...   \n",
       "1  4f3e46a6e94452b566553485b619d2f305bd9d875d4f6d...   \n",
       "2  23c44b20dafb34672868945ce6428ead219eb8bb5312c5...   \n",
       "3  23c44b20dafb34672868945ce6428ead219eb8bb5312c5...   \n",
       "4  38b796a79de6f453bb1ccc704e8aa86dd21f186398614e...   \n",
       "\n",
       "                                            event_id            trx_date  \\\n",
       "0  6629d5a73302852ef915dbda22fa1994213eb36e41c893... 2019-01-01 02:15:30   \n",
       "1  6629d5a73302852ef915dbda22fa1994213eb36e41c893... 2019-01-01 03:04:32   \n",
       "2  6629d5a73302852ef915dbda22fa1994213eb36e41c893... 2019-01-01 03:11:44   \n",
       "3  6629d5a73302852ef915dbda22fa1994213eb36e41c893... 2019-01-01 03:11:50   \n",
       "4  6629d5a73302852ef915dbda22fa1994213eb36e41c893... 2019-01-01 03:15:19   \n",
       "\n",
       "    price  total_ticket_sold event_type  \\\n",
       "0   75000                  3      Event   \n",
       "1   75000                  2      Event   \n",
       "2  100000                  1      Event   \n",
       "3  100000                  1      Event   \n",
       "4   75000                  1      Event   \n",
       "\n",
       "                                      event_category organization_type  \\\n",
       "0  Art Exhibition, Family, Art, Exhibition, Group...   Event Organizer   \n",
       "1  Art Exhibition, Family, Art, Exhibition, Group...   Event Organizer   \n",
       "2  Art Exhibition, Family, Art, Exhibition, Group...   Event Organizer   \n",
       "3  Art Exhibition, Family, Art, Exhibition, Group...   Event Organizer   \n",
       "4  Art Exhibition, Family, Art, Exhibition, Group...   Event Organizer   \n",
       "\n",
       "   join_date   user_type location  years month_year  days  hours        date  \\\n",
       "0 2019-01-01  Registered  Jakarta   2019    2019-01     2      9  2019-01-01   \n",
       "1 2019-01-01       Guest  Jakarta   2019    2019-01     2     10  2019-01-01   \n",
       "2 2018-12-08  Registered  Jakarta   2019    2019-01     2     10  2019-01-01   \n",
       "3 2018-12-08  Registered  Jakarta   2019    2019-01     2     10  2019-01-01   \n",
       "4 2018-12-31       Guest  Jakarta   2019    2019-01     2     10  2019-01-01   \n",
       "\n",
       "   dayofmonth  total_price  \n",
       "0           1       225000  \n",
       "1           1       150000  \n",
       "2           1       100000  \n",
       "3           1       100000  \n",
       "4           1        75000  "
      ]
     },
     "execution_count": 51,
     "metadata": {},
     "output_type": "execute_result"
    }
   ],
   "source": [
    "trx_user_event.head()"
   ]
  },
  {
   "cell_type": "markdown",
   "metadata": {},
   "source": [
    "#### We need to minimize the event_category, since event_category have a lot of unique values"
   ]
  },
  {
   "cell_type": "code",
   "execution_count": 52,
   "metadata": {},
   "outputs": [
    {
     "data": {
      "text/plain": [
       "297"
      ]
     },
     "execution_count": 52,
     "metadata": {},
     "output_type": "execute_result"
    }
   ],
   "source": [
    "trx_user_event['event_category'].nunique()"
   ]
  },
  {
   "cell_type": "markdown",
   "metadata": {},
   "source": [
    "So, first step that we took is to take every first word in event_category and store it in new column called word_event"
   ]
  },
  {
   "cell_type": "code",
   "execution_count": 53,
   "metadata": {},
   "outputs": [],
   "source": [
    "trx_user_event['word_event'] = trx_user_event['event_category'].apply(lambda x: x.split(',')[0])"
   ]
  },
  {
   "cell_type": "code",
   "execution_count": 54,
   "metadata": {},
   "outputs": [
    {
     "data": {
      "text/plain": [
       "0        Art Exhibition\n",
       "1        Art Exhibition\n",
       "2        Art Exhibition\n",
       "3        Art Exhibition\n",
       "4        Art Exhibition\n",
       "              ...      \n",
       "69152           Webinar\n",
       "69153           Webinar\n",
       "69155           Webinar\n",
       "69162           Webinar\n",
       "69164           Webinar\n",
       "Name: word_event, Length: 69117, dtype: object"
      ]
     },
     "execution_count": 54,
     "metadata": {},
     "output_type": "execute_result"
    }
   ],
   "source": [
    "trx_user_event['word_event']"
   ]
  },
  {
   "cell_type": "code",
   "execution_count": 55,
   "metadata": {},
   "outputs": [
    {
     "data": {
      "text/plain": [
       "array(['Art Exhibition', 'Wedding Expo', 'Movies or Cinemas', 'Seminar',\n",
       "       'University Student', 'Music', 'Workshop', 'Charity', 'Festival',\n",
       "       'Talkshow', 'Running', 'Beauty', 'Theme Park', 'Game',\n",
       "       'Cooking Class', 'Group Activities', 'Competition', 'Tech Startup',\n",
       "       'Sport', 'Business', 'Training', 'Nightlife', 'Exibition',\n",
       "       'Travel', 'Performance', 'Concert', 'Exhibition', 'Conference',\n",
       "       'Open Trip', 'Movie Screening', 'Bazaar', 'Movies', 'Networking',\n",
       "       'Water Park', 'Education', 'Culture', 'Art', 'Webinar',\n",
       "       'Online Event'], dtype=object)"
      ]
     },
     "execution_count": 55,
     "metadata": {},
     "output_type": "execute_result"
    }
   ],
   "source": [
    "trx_user_event['word_event'].unique()"
   ]
  },
  {
   "cell_type": "markdown",
   "metadata": {},
   "source": [
    "then we group each word_event into specific groups\n",
    "- *Events* : (Wedding Expo, Seminar, University Student, Workshop, Charity, Talkshow, Group Activities, Competition, Tech Startup, Business, Training, Conference, Networking, Education, Webinar, Online Event)\n",
    "- *Movies* : (Movies or Cinemas, 'Movie Screening, Movies)\n",
    "- *Attractions* : (Art Exhibition, Music, Festival, Beauty, Theme Park, Game, Cooking Class, Sport, Nightlife, Exibition, Travel, Performance, Concert, Exhibition, Open Trip, Bazaar, Water Park, Culture, Art )\n",
    "- *Others* not in this three\n"
   ]
  },
  {
   "cell_type": "code",
   "execution_count": 56,
   "metadata": {},
   "outputs": [],
   "source": [
    "list_event = ['Wedding Expo','Seminar', 'University Student', 'Workshop', 'Charity', 'Talkshow', 'Group Activities', 'Competition',\n",
    "             'Tech Startup', 'Business', 'Training', 'Conference', 'Networking', 'Education', 'Webinar', 'Online Event']\n",
    "list_movies = ['Movies or Cinemas', 'Movie Screening', 'Movies']\n",
    "list_attr = ['Art Exhibition', 'Music', 'Festival', 'Running', 'Beauty', 'Theme Park', 'Game', 'Cooking Class', 'Sport', 'Nightlife',\n",
    "            'Exibition', 'Travel', 'Performance', 'Concert', 'Exhibition',  'Open Trip', 'Bazaar', 'Water Park', 'Culture', 'Art']"
   ]
  },
  {
   "cell_type": "code",
   "execution_count": 57,
   "metadata": {},
   "outputs": [],
   "source": [
    "def categories(x):\n",
    "    if x in list_event:\n",
    "        return 'events'\n",
    "    elif x in list_movies:\n",
    "        return 'movies'\n",
    "    elif x in list_attr:\n",
    "        return 'attractions'\n",
    "    else:\n",
    "        return 'others'"
   ]
  },
  {
   "cell_type": "code",
   "execution_count": 58,
   "metadata": {},
   "outputs": [],
   "source": [
    "trx_user_event['sub_category'] = trx_user_event['word_event'].apply(categories)"
   ]
  },
  {
   "cell_type": "code",
   "execution_count": 59,
   "metadata": {},
   "outputs": [
    {
     "data": {
      "text/plain": [
       "array(['attractions', 'events', 'movies'], dtype=object)"
      ]
     },
     "execution_count": 59,
     "metadata": {},
     "output_type": "execute_result"
    }
   ],
   "source": [
    "trx_user_event['sub_category'].unique()"
   ]
  },
  {
   "cell_type": "markdown",
   "metadata": {},
   "source": [
    "**add index as trx_number/invoice number**\n",
    "\n",
    "\n",
    "since there is no inovoice number, we'll make index+1 as invoice number"
   ]
  },
  {
   "cell_type": "code",
   "execution_count": 60,
   "metadata": {},
   "outputs": [],
   "source": [
    "trx_user_event.reset_index(inplace=True)\n",
    "trx_user_event['invoice_number'] = trx_user_event.index + 1"
   ]
  },
  {
   "cell_type": "code",
   "execution_count": 61,
   "metadata": {},
   "outputs": [
    {
     "data": {
      "text/html": [
       "<div>\n",
       "<style scoped>\n",
       "    .dataframe tbody tr th:only-of-type {\n",
       "        vertical-align: middle;\n",
       "    }\n",
       "\n",
       "    .dataframe tbody tr th {\n",
       "        vertical-align: top;\n",
       "    }\n",
       "\n",
       "    .dataframe thead th {\n",
       "        text-align: right;\n",
       "    }\n",
       "</style>\n",
       "<table border=\"1\" class=\"dataframe\">\n",
       "  <thead>\n",
       "    <tr style=\"text-align: right;\">\n",
       "      <th></th>\n",
       "      <th>index</th>\n",
       "      <th>user_id</th>\n",
       "      <th>event_id</th>\n",
       "      <th>trx_date</th>\n",
       "      <th>price</th>\n",
       "      <th>total_ticket_sold</th>\n",
       "      <th>event_type</th>\n",
       "      <th>event_category</th>\n",
       "      <th>organization_type</th>\n",
       "      <th>join_date</th>\n",
       "      <th>...</th>\n",
       "      <th>years</th>\n",
       "      <th>month_year</th>\n",
       "      <th>days</th>\n",
       "      <th>hours</th>\n",
       "      <th>date</th>\n",
       "      <th>dayofmonth</th>\n",
       "      <th>total_price</th>\n",
       "      <th>word_event</th>\n",
       "      <th>sub_category</th>\n",
       "      <th>invoice_number</th>\n",
       "    </tr>\n",
       "  </thead>\n",
       "  <tbody>\n",
       "    <tr>\n",
       "      <th>0</th>\n",
       "      <td>0</td>\n",
       "      <td>d3bf14fe0bffbb499ef0d341f4b7c12aad9fbd3b9e0fd6...</td>\n",
       "      <td>6629d5a73302852ef915dbda22fa1994213eb36e41c893...</td>\n",
       "      <td>2019-01-01 02:15:30</td>\n",
       "      <td>75000</td>\n",
       "      <td>3</td>\n",
       "      <td>Event</td>\n",
       "      <td>Art Exhibition, Family, Art, Exhibition, Group...</td>\n",
       "      <td>Event Organizer</td>\n",
       "      <td>2019-01-01</td>\n",
       "      <td>...</td>\n",
       "      <td>2019</td>\n",
       "      <td>2019-01</td>\n",
       "      <td>2</td>\n",
       "      <td>9</td>\n",
       "      <td>2019-01-01</td>\n",
       "      <td>1</td>\n",
       "      <td>225000</td>\n",
       "      <td>Art Exhibition</td>\n",
       "      <td>attractions</td>\n",
       "      <td>1</td>\n",
       "    </tr>\n",
       "    <tr>\n",
       "      <th>1</th>\n",
       "      <td>1</td>\n",
       "      <td>4f3e46a6e94452b566553485b619d2f305bd9d875d4f6d...</td>\n",
       "      <td>6629d5a73302852ef915dbda22fa1994213eb36e41c893...</td>\n",
       "      <td>2019-01-01 03:04:32</td>\n",
       "      <td>75000</td>\n",
       "      <td>2</td>\n",
       "      <td>Event</td>\n",
       "      <td>Art Exhibition, Family, Art, Exhibition, Group...</td>\n",
       "      <td>Event Organizer</td>\n",
       "      <td>2019-01-01</td>\n",
       "      <td>...</td>\n",
       "      <td>2019</td>\n",
       "      <td>2019-01</td>\n",
       "      <td>2</td>\n",
       "      <td>10</td>\n",
       "      <td>2019-01-01</td>\n",
       "      <td>1</td>\n",
       "      <td>150000</td>\n",
       "      <td>Art Exhibition</td>\n",
       "      <td>attractions</td>\n",
       "      <td>2</td>\n",
       "    </tr>\n",
       "    <tr>\n",
       "      <th>2</th>\n",
       "      <td>2</td>\n",
       "      <td>23c44b20dafb34672868945ce6428ead219eb8bb5312c5...</td>\n",
       "      <td>6629d5a73302852ef915dbda22fa1994213eb36e41c893...</td>\n",
       "      <td>2019-01-01 03:11:44</td>\n",
       "      <td>100000</td>\n",
       "      <td>1</td>\n",
       "      <td>Event</td>\n",
       "      <td>Art Exhibition, Family, Art, Exhibition, Group...</td>\n",
       "      <td>Event Organizer</td>\n",
       "      <td>2018-12-08</td>\n",
       "      <td>...</td>\n",
       "      <td>2019</td>\n",
       "      <td>2019-01</td>\n",
       "      <td>2</td>\n",
       "      <td>10</td>\n",
       "      <td>2019-01-01</td>\n",
       "      <td>1</td>\n",
       "      <td>100000</td>\n",
       "      <td>Art Exhibition</td>\n",
       "      <td>attractions</td>\n",
       "      <td>3</td>\n",
       "    </tr>\n",
       "    <tr>\n",
       "      <th>3</th>\n",
       "      <td>3</td>\n",
       "      <td>23c44b20dafb34672868945ce6428ead219eb8bb5312c5...</td>\n",
       "      <td>6629d5a73302852ef915dbda22fa1994213eb36e41c893...</td>\n",
       "      <td>2019-01-01 03:11:50</td>\n",
       "      <td>100000</td>\n",
       "      <td>1</td>\n",
       "      <td>Event</td>\n",
       "      <td>Art Exhibition, Family, Art, Exhibition, Group...</td>\n",
       "      <td>Event Organizer</td>\n",
       "      <td>2018-12-08</td>\n",
       "      <td>...</td>\n",
       "      <td>2019</td>\n",
       "      <td>2019-01</td>\n",
       "      <td>2</td>\n",
       "      <td>10</td>\n",
       "      <td>2019-01-01</td>\n",
       "      <td>1</td>\n",
       "      <td>100000</td>\n",
       "      <td>Art Exhibition</td>\n",
       "      <td>attractions</td>\n",
       "      <td>4</td>\n",
       "    </tr>\n",
       "    <tr>\n",
       "      <th>4</th>\n",
       "      <td>4</td>\n",
       "      <td>38b796a79de6f453bb1ccc704e8aa86dd21f186398614e...</td>\n",
       "      <td>6629d5a73302852ef915dbda22fa1994213eb36e41c893...</td>\n",
       "      <td>2019-01-01 03:15:19</td>\n",
       "      <td>75000</td>\n",
       "      <td>1</td>\n",
       "      <td>Event</td>\n",
       "      <td>Art Exhibition, Family, Art, Exhibition, Group...</td>\n",
       "      <td>Event Organizer</td>\n",
       "      <td>2018-12-31</td>\n",
       "      <td>...</td>\n",
       "      <td>2019</td>\n",
       "      <td>2019-01</td>\n",
       "      <td>2</td>\n",
       "      <td>10</td>\n",
       "      <td>2019-01-01</td>\n",
       "      <td>1</td>\n",
       "      <td>75000</td>\n",
       "      <td>Art Exhibition</td>\n",
       "      <td>attractions</td>\n",
       "      <td>5</td>\n",
       "    </tr>\n",
       "    <tr>\n",
       "      <th>...</th>\n",
       "      <td>...</td>\n",
       "      <td>...</td>\n",
       "      <td>...</td>\n",
       "      <td>...</td>\n",
       "      <td>...</td>\n",
       "      <td>...</td>\n",
       "      <td>...</td>\n",
       "      <td>...</td>\n",
       "      <td>...</td>\n",
       "      <td>...</td>\n",
       "      <td>...</td>\n",
       "      <td>...</td>\n",
       "      <td>...</td>\n",
       "      <td>...</td>\n",
       "      <td>...</td>\n",
       "      <td>...</td>\n",
       "      <td>...</td>\n",
       "      <td>...</td>\n",
       "      <td>...</td>\n",
       "      <td>...</td>\n",
       "      <td>...</td>\n",
       "    </tr>\n",
       "    <tr>\n",
       "      <th>69112</th>\n",
       "      <td>69152</td>\n",
       "      <td>04da1562993d0ff6159bb1a931f8067dc6fb78a0e645d4...</td>\n",
       "      <td>215cc964404a1c632341a439e448bd5f1fd4db8ef781bf...</td>\n",
       "      <td>2020-06-30 09:10:57</td>\n",
       "      <td>0</td>\n",
       "      <td>1</td>\n",
       "      <td>Event</td>\n",
       "      <td>Webinar</td>\n",
       "      <td>Event Organizer and Promotor</td>\n",
       "      <td>2020-04-28</td>\n",
       "      <td>...</td>\n",
       "      <td>2020</td>\n",
       "      <td>2020-06</td>\n",
       "      <td>2</td>\n",
       "      <td>16</td>\n",
       "      <td>2020-06-30</td>\n",
       "      <td>30</td>\n",
       "      <td>0</td>\n",
       "      <td>Webinar</td>\n",
       "      <td>events</td>\n",
       "      <td>69113</td>\n",
       "    </tr>\n",
       "    <tr>\n",
       "      <th>69113</th>\n",
       "      <td>69153</td>\n",
       "      <td>642179b1b34eafbc527f59c8e62d2d51abbcce0912855e...</td>\n",
       "      <td>d161f9f74fa109cc6642db193903181cc6031357e71999...</td>\n",
       "      <td>2020-06-30 09:12:45</td>\n",
       "      <td>0</td>\n",
       "      <td>1</td>\n",
       "      <td>Event</td>\n",
       "      <td>Webinar</td>\n",
       "      <td>Event Organizer and Promotor</td>\n",
       "      <td>2020-05-09</td>\n",
       "      <td>...</td>\n",
       "      <td>2020</td>\n",
       "      <td>2020-06</td>\n",
       "      <td>2</td>\n",
       "      <td>16</td>\n",
       "      <td>2020-06-30</td>\n",
       "      <td>30</td>\n",
       "      <td>0</td>\n",
       "      <td>Webinar</td>\n",
       "      <td>events</td>\n",
       "      <td>69114</td>\n",
       "    </tr>\n",
       "    <tr>\n",
       "      <th>69114</th>\n",
       "      <td>69155</td>\n",
       "      <td>caf35894b6517f2841bdad1c5c3371a413ece7ca8400a0...</td>\n",
       "      <td>215cc964404a1c632341a439e448bd5f1fd4db8ef781bf...</td>\n",
       "      <td>2020-06-30 09:28:12</td>\n",
       "      <td>0</td>\n",
       "      <td>1</td>\n",
       "      <td>Event</td>\n",
       "      <td>Webinar</td>\n",
       "      <td>Event Organizer and Promotor</td>\n",
       "      <td>2020-02-17</td>\n",
       "      <td>...</td>\n",
       "      <td>2020</td>\n",
       "      <td>2020-06</td>\n",
       "      <td>2</td>\n",
       "      <td>16</td>\n",
       "      <td>2020-06-30</td>\n",
       "      <td>30</td>\n",
       "      <td>0</td>\n",
       "      <td>Webinar</td>\n",
       "      <td>events</td>\n",
       "      <td>69115</td>\n",
       "    </tr>\n",
       "    <tr>\n",
       "      <th>69115</th>\n",
       "      <td>69162</td>\n",
       "      <td>612dda1ab2f25e7a79b73c80ced425a6740b9ba9fa9649...</td>\n",
       "      <td>98a5e21b6cdcaa5e7d83bdb710b437afdb98904c79a899...</td>\n",
       "      <td>2020-06-30 13:06:25</td>\n",
       "      <td>0</td>\n",
       "      <td>1</td>\n",
       "      <td>Event</td>\n",
       "      <td>Webinar, Game</td>\n",
       "      <td>Event Organizer and Promotor</td>\n",
       "      <td>2020-05-21</td>\n",
       "      <td>...</td>\n",
       "      <td>2020</td>\n",
       "      <td>2020-06</td>\n",
       "      <td>2</td>\n",
       "      <td>20</td>\n",
       "      <td>2020-06-30</td>\n",
       "      <td>30</td>\n",
       "      <td>0</td>\n",
       "      <td>Webinar</td>\n",
       "      <td>events</td>\n",
       "      <td>69116</td>\n",
       "    </tr>\n",
       "    <tr>\n",
       "      <th>69116</th>\n",
       "      <td>69164</td>\n",
       "      <td>a0cf46fcdaf55baee74c1886d53f57afa09e0317a71370...</td>\n",
       "      <td>d4b603a84efd816b8b12f42882a3cb7f79dd11b62ea919...</td>\n",
       "      <td>2020-06-30 14:43:26</td>\n",
       "      <td>0</td>\n",
       "      <td>1</td>\n",
       "      <td>Event</td>\n",
       "      <td>Webinar, Education, Networking, Seminar</td>\n",
       "      <td>Event Organizer and Promotor</td>\n",
       "      <td>2020-06-27</td>\n",
       "      <td>...</td>\n",
       "      <td>2020</td>\n",
       "      <td>2020-06</td>\n",
       "      <td>2</td>\n",
       "      <td>21</td>\n",
       "      <td>2020-06-30</td>\n",
       "      <td>30</td>\n",
       "      <td>0</td>\n",
       "      <td>Webinar</td>\n",
       "      <td>events</td>\n",
       "      <td>69117</td>\n",
       "    </tr>\n",
       "  </tbody>\n",
       "</table>\n",
       "<p>69117 rows × 22 columns</p>\n",
       "</div>"
      ],
      "text/plain": [
       "       index                                            user_id  \\\n",
       "0          0  d3bf14fe0bffbb499ef0d341f4b7c12aad9fbd3b9e0fd6...   \n",
       "1          1  4f3e46a6e94452b566553485b619d2f305bd9d875d4f6d...   \n",
       "2          2  23c44b20dafb34672868945ce6428ead219eb8bb5312c5...   \n",
       "3          3  23c44b20dafb34672868945ce6428ead219eb8bb5312c5...   \n",
       "4          4  38b796a79de6f453bb1ccc704e8aa86dd21f186398614e...   \n",
       "...      ...                                                ...   \n",
       "69112  69152  04da1562993d0ff6159bb1a931f8067dc6fb78a0e645d4...   \n",
       "69113  69153  642179b1b34eafbc527f59c8e62d2d51abbcce0912855e...   \n",
       "69114  69155  caf35894b6517f2841bdad1c5c3371a413ece7ca8400a0...   \n",
       "69115  69162  612dda1ab2f25e7a79b73c80ced425a6740b9ba9fa9649...   \n",
       "69116  69164  a0cf46fcdaf55baee74c1886d53f57afa09e0317a71370...   \n",
       "\n",
       "                                                event_id            trx_date  \\\n",
       "0      6629d5a73302852ef915dbda22fa1994213eb36e41c893... 2019-01-01 02:15:30   \n",
       "1      6629d5a73302852ef915dbda22fa1994213eb36e41c893... 2019-01-01 03:04:32   \n",
       "2      6629d5a73302852ef915dbda22fa1994213eb36e41c893... 2019-01-01 03:11:44   \n",
       "3      6629d5a73302852ef915dbda22fa1994213eb36e41c893... 2019-01-01 03:11:50   \n",
       "4      6629d5a73302852ef915dbda22fa1994213eb36e41c893... 2019-01-01 03:15:19   \n",
       "...                                                  ...                 ...   \n",
       "69112  215cc964404a1c632341a439e448bd5f1fd4db8ef781bf... 2020-06-30 09:10:57   \n",
       "69113  d161f9f74fa109cc6642db193903181cc6031357e71999... 2020-06-30 09:12:45   \n",
       "69114  215cc964404a1c632341a439e448bd5f1fd4db8ef781bf... 2020-06-30 09:28:12   \n",
       "69115  98a5e21b6cdcaa5e7d83bdb710b437afdb98904c79a899... 2020-06-30 13:06:25   \n",
       "69116  d4b603a84efd816b8b12f42882a3cb7f79dd11b62ea919... 2020-06-30 14:43:26   \n",
       "\n",
       "        price  total_ticket_sold event_type  \\\n",
       "0       75000                  3      Event   \n",
       "1       75000                  2      Event   \n",
       "2      100000                  1      Event   \n",
       "3      100000                  1      Event   \n",
       "4       75000                  1      Event   \n",
       "...       ...                ...        ...   \n",
       "69112       0                  1      Event   \n",
       "69113       0                  1      Event   \n",
       "69114       0                  1      Event   \n",
       "69115       0                  1      Event   \n",
       "69116       0                  1      Event   \n",
       "\n",
       "                                          event_category  \\\n",
       "0      Art Exhibition, Family, Art, Exhibition, Group...   \n",
       "1      Art Exhibition, Family, Art, Exhibition, Group...   \n",
       "2      Art Exhibition, Family, Art, Exhibition, Group...   \n",
       "3      Art Exhibition, Family, Art, Exhibition, Group...   \n",
       "4      Art Exhibition, Family, Art, Exhibition, Group...   \n",
       "...                                                  ...   \n",
       "69112                                            Webinar   \n",
       "69113                                            Webinar   \n",
       "69114                                            Webinar   \n",
       "69115                                      Webinar, Game   \n",
       "69116            Webinar, Education, Networking, Seminar   \n",
       "\n",
       "                  organization_type  join_date  ... years month_year  days  \\\n",
       "0                   Event Organizer 2019-01-01  ...  2019    2019-01     2   \n",
       "1                   Event Organizer 2019-01-01  ...  2019    2019-01     2   \n",
       "2                   Event Organizer 2018-12-08  ...  2019    2019-01     2   \n",
       "3                   Event Organizer 2018-12-08  ...  2019    2019-01     2   \n",
       "4                   Event Organizer 2018-12-31  ...  2019    2019-01     2   \n",
       "...                             ...        ...  ...   ...        ...   ...   \n",
       "69112  Event Organizer and Promotor 2020-04-28  ...  2020    2020-06     2   \n",
       "69113  Event Organizer and Promotor 2020-05-09  ...  2020    2020-06     2   \n",
       "69114  Event Organizer and Promotor 2020-02-17  ...  2020    2020-06     2   \n",
       "69115  Event Organizer and Promotor 2020-05-21  ...  2020    2020-06     2   \n",
       "69116  Event Organizer and Promotor 2020-06-27  ...  2020    2020-06     2   \n",
       "\n",
       "      hours        date  dayofmonth total_price      word_event  sub_category  \\\n",
       "0         9  2019-01-01           1      225000  Art Exhibition   attractions   \n",
       "1        10  2019-01-01           1      150000  Art Exhibition   attractions   \n",
       "2        10  2019-01-01           1      100000  Art Exhibition   attractions   \n",
       "3        10  2019-01-01           1      100000  Art Exhibition   attractions   \n",
       "4        10  2019-01-01           1       75000  Art Exhibition   attractions   \n",
       "...     ...         ...         ...         ...             ...           ...   \n",
       "69112    16  2020-06-30          30           0         Webinar        events   \n",
       "69113    16  2020-06-30          30           0         Webinar        events   \n",
       "69114    16  2020-06-30          30           0         Webinar        events   \n",
       "69115    20  2020-06-30          30           0         Webinar        events   \n",
       "69116    21  2020-06-30          30           0         Webinar        events   \n",
       "\n",
       "      invoice_number  \n",
       "0                  1  \n",
       "1                  2  \n",
       "2                  3  \n",
       "3                  4  \n",
       "4                  5  \n",
       "...              ...  \n",
       "69112          69113  \n",
       "69113          69114  \n",
       "69114          69115  \n",
       "69115          69116  \n",
       "69116          69117  \n",
       "\n",
       "[69117 rows x 22 columns]"
      ]
     },
     "execution_count": 61,
     "metadata": {},
     "output_type": "execute_result"
    }
   ],
   "source": [
    "trx_user_event"
   ]
  },
  {
   "cell_type": "markdown",
   "metadata": {},
   "source": [
    "### 4. Removing Unneccesary Features"
   ]
  },
  {
   "cell_type": "code",
   "execution_count": 62,
   "metadata": {},
   "outputs": [
    {
     "data": {
      "text/html": [
       "<div>\n",
       "<style scoped>\n",
       "    .dataframe tbody tr th:only-of-type {\n",
       "        vertical-align: middle;\n",
       "    }\n",
       "\n",
       "    .dataframe tbody tr th {\n",
       "        vertical-align: top;\n",
       "    }\n",
       "\n",
       "    .dataframe thead th {\n",
       "        text-align: right;\n",
       "    }\n",
       "</style>\n",
       "<table border=\"1\" class=\"dataframe\">\n",
       "  <thead>\n",
       "    <tr style=\"text-align: right;\">\n",
       "      <th></th>\n",
       "      <th>index</th>\n",
       "      <th>user_id</th>\n",
       "      <th>event_id</th>\n",
       "      <th>trx_date</th>\n",
       "      <th>price</th>\n",
       "      <th>total_ticket_sold</th>\n",
       "      <th>event_type</th>\n",
       "      <th>event_category</th>\n",
       "      <th>organization_type</th>\n",
       "      <th>join_date</th>\n",
       "      <th>...</th>\n",
       "      <th>years</th>\n",
       "      <th>month_year</th>\n",
       "      <th>days</th>\n",
       "      <th>hours</th>\n",
       "      <th>date</th>\n",
       "      <th>dayofmonth</th>\n",
       "      <th>total_price</th>\n",
       "      <th>word_event</th>\n",
       "      <th>sub_category</th>\n",
       "      <th>invoice_number</th>\n",
       "    </tr>\n",
       "  </thead>\n",
       "  <tbody>\n",
       "    <tr>\n",
       "      <th>0</th>\n",
       "      <td>0</td>\n",
       "      <td>d3bf14fe0bffbb499ef0d341f4b7c12aad9fbd3b9e0fd6...</td>\n",
       "      <td>6629d5a73302852ef915dbda22fa1994213eb36e41c893...</td>\n",
       "      <td>2019-01-01 02:15:30</td>\n",
       "      <td>75000</td>\n",
       "      <td>3</td>\n",
       "      <td>Event</td>\n",
       "      <td>Art Exhibition, Family, Art, Exhibition, Group...</td>\n",
       "      <td>Event Organizer</td>\n",
       "      <td>2019-01-01</td>\n",
       "      <td>...</td>\n",
       "      <td>2019</td>\n",
       "      <td>2019-01</td>\n",
       "      <td>2</td>\n",
       "      <td>9</td>\n",
       "      <td>2019-01-01</td>\n",
       "      <td>1</td>\n",
       "      <td>225000</td>\n",
       "      <td>Art Exhibition</td>\n",
       "      <td>attractions</td>\n",
       "      <td>1</td>\n",
       "    </tr>\n",
       "    <tr>\n",
       "      <th>1</th>\n",
       "      <td>1</td>\n",
       "      <td>4f3e46a6e94452b566553485b619d2f305bd9d875d4f6d...</td>\n",
       "      <td>6629d5a73302852ef915dbda22fa1994213eb36e41c893...</td>\n",
       "      <td>2019-01-01 03:04:32</td>\n",
       "      <td>75000</td>\n",
       "      <td>2</td>\n",
       "      <td>Event</td>\n",
       "      <td>Art Exhibition, Family, Art, Exhibition, Group...</td>\n",
       "      <td>Event Organizer</td>\n",
       "      <td>2019-01-01</td>\n",
       "      <td>...</td>\n",
       "      <td>2019</td>\n",
       "      <td>2019-01</td>\n",
       "      <td>2</td>\n",
       "      <td>10</td>\n",
       "      <td>2019-01-01</td>\n",
       "      <td>1</td>\n",
       "      <td>150000</td>\n",
       "      <td>Art Exhibition</td>\n",
       "      <td>attractions</td>\n",
       "      <td>2</td>\n",
       "    </tr>\n",
       "    <tr>\n",
       "      <th>2</th>\n",
       "      <td>2</td>\n",
       "      <td>23c44b20dafb34672868945ce6428ead219eb8bb5312c5...</td>\n",
       "      <td>6629d5a73302852ef915dbda22fa1994213eb36e41c893...</td>\n",
       "      <td>2019-01-01 03:11:44</td>\n",
       "      <td>100000</td>\n",
       "      <td>1</td>\n",
       "      <td>Event</td>\n",
       "      <td>Art Exhibition, Family, Art, Exhibition, Group...</td>\n",
       "      <td>Event Organizer</td>\n",
       "      <td>2018-12-08</td>\n",
       "      <td>...</td>\n",
       "      <td>2019</td>\n",
       "      <td>2019-01</td>\n",
       "      <td>2</td>\n",
       "      <td>10</td>\n",
       "      <td>2019-01-01</td>\n",
       "      <td>1</td>\n",
       "      <td>100000</td>\n",
       "      <td>Art Exhibition</td>\n",
       "      <td>attractions</td>\n",
       "      <td>3</td>\n",
       "    </tr>\n",
       "    <tr>\n",
       "      <th>3</th>\n",
       "      <td>3</td>\n",
       "      <td>23c44b20dafb34672868945ce6428ead219eb8bb5312c5...</td>\n",
       "      <td>6629d5a73302852ef915dbda22fa1994213eb36e41c893...</td>\n",
       "      <td>2019-01-01 03:11:50</td>\n",
       "      <td>100000</td>\n",
       "      <td>1</td>\n",
       "      <td>Event</td>\n",
       "      <td>Art Exhibition, Family, Art, Exhibition, Group...</td>\n",
       "      <td>Event Organizer</td>\n",
       "      <td>2018-12-08</td>\n",
       "      <td>...</td>\n",
       "      <td>2019</td>\n",
       "      <td>2019-01</td>\n",
       "      <td>2</td>\n",
       "      <td>10</td>\n",
       "      <td>2019-01-01</td>\n",
       "      <td>1</td>\n",
       "      <td>100000</td>\n",
       "      <td>Art Exhibition</td>\n",
       "      <td>attractions</td>\n",
       "      <td>4</td>\n",
       "    </tr>\n",
       "    <tr>\n",
       "      <th>4</th>\n",
       "      <td>4</td>\n",
       "      <td>38b796a79de6f453bb1ccc704e8aa86dd21f186398614e...</td>\n",
       "      <td>6629d5a73302852ef915dbda22fa1994213eb36e41c893...</td>\n",
       "      <td>2019-01-01 03:15:19</td>\n",
       "      <td>75000</td>\n",
       "      <td>1</td>\n",
       "      <td>Event</td>\n",
       "      <td>Art Exhibition, Family, Art, Exhibition, Group...</td>\n",
       "      <td>Event Organizer</td>\n",
       "      <td>2018-12-31</td>\n",
       "      <td>...</td>\n",
       "      <td>2019</td>\n",
       "      <td>2019-01</td>\n",
       "      <td>2</td>\n",
       "      <td>10</td>\n",
       "      <td>2019-01-01</td>\n",
       "      <td>1</td>\n",
       "      <td>75000</td>\n",
       "      <td>Art Exhibition</td>\n",
       "      <td>attractions</td>\n",
       "      <td>5</td>\n",
       "    </tr>\n",
       "  </tbody>\n",
       "</table>\n",
       "<p>5 rows × 22 columns</p>\n",
       "</div>"
      ],
      "text/plain": [
       "   index                                            user_id  \\\n",
       "0      0  d3bf14fe0bffbb499ef0d341f4b7c12aad9fbd3b9e0fd6...   \n",
       "1      1  4f3e46a6e94452b566553485b619d2f305bd9d875d4f6d...   \n",
       "2      2  23c44b20dafb34672868945ce6428ead219eb8bb5312c5...   \n",
       "3      3  23c44b20dafb34672868945ce6428ead219eb8bb5312c5...   \n",
       "4      4  38b796a79de6f453bb1ccc704e8aa86dd21f186398614e...   \n",
       "\n",
       "                                            event_id            trx_date  \\\n",
       "0  6629d5a73302852ef915dbda22fa1994213eb36e41c893... 2019-01-01 02:15:30   \n",
       "1  6629d5a73302852ef915dbda22fa1994213eb36e41c893... 2019-01-01 03:04:32   \n",
       "2  6629d5a73302852ef915dbda22fa1994213eb36e41c893... 2019-01-01 03:11:44   \n",
       "3  6629d5a73302852ef915dbda22fa1994213eb36e41c893... 2019-01-01 03:11:50   \n",
       "4  6629d5a73302852ef915dbda22fa1994213eb36e41c893... 2019-01-01 03:15:19   \n",
       "\n",
       "    price  total_ticket_sold event_type  \\\n",
       "0   75000                  3      Event   \n",
       "1   75000                  2      Event   \n",
       "2  100000                  1      Event   \n",
       "3  100000                  1      Event   \n",
       "4   75000                  1      Event   \n",
       "\n",
       "                                      event_category organization_type  \\\n",
       "0  Art Exhibition, Family, Art, Exhibition, Group...   Event Organizer   \n",
       "1  Art Exhibition, Family, Art, Exhibition, Group...   Event Organizer   \n",
       "2  Art Exhibition, Family, Art, Exhibition, Group...   Event Organizer   \n",
       "3  Art Exhibition, Family, Art, Exhibition, Group...   Event Organizer   \n",
       "4  Art Exhibition, Family, Art, Exhibition, Group...   Event Organizer   \n",
       "\n",
       "   join_date  ... years month_year  days hours        date  dayofmonth  \\\n",
       "0 2019-01-01  ...  2019    2019-01     2     9  2019-01-01           1   \n",
       "1 2019-01-01  ...  2019    2019-01     2    10  2019-01-01           1   \n",
       "2 2018-12-08  ...  2019    2019-01     2    10  2019-01-01           1   \n",
       "3 2018-12-08  ...  2019    2019-01     2    10  2019-01-01           1   \n",
       "4 2018-12-31  ...  2019    2019-01     2    10  2019-01-01           1   \n",
       "\n",
       "  total_price      word_event  sub_category invoice_number  \n",
       "0      225000  Art Exhibition   attractions              1  \n",
       "1      150000  Art Exhibition   attractions              2  \n",
       "2      100000  Art Exhibition   attractions              3  \n",
       "3      100000  Art Exhibition   attractions              4  \n",
       "4       75000  Art Exhibition   attractions              5  \n",
       "\n",
       "[5 rows x 22 columns]"
      ]
     },
     "execution_count": 62,
     "metadata": {},
     "output_type": "execute_result"
    }
   ],
   "source": [
    "trx_user_event.head()"
   ]
  },
  {
   "cell_type": "markdown",
   "metadata": {},
   "source": [
    "Here i'll drop several column such as event_category, event_type, organization_type, and join_date"
   ]
  },
  {
   "cell_type": "code",
   "execution_count": 63,
   "metadata": {},
   "outputs": [],
   "source": [
    "trx_user_event.drop(columns=['index','event_category','event_type', 'organization_type', 'join_date'], inplace=True)"
   ]
  },
  {
   "cell_type": "code",
   "execution_count": 64,
   "metadata": {},
   "outputs": [
    {
     "name": "stdout",
     "output_type": "stream",
     "text": [
      "<class 'pandas.core.frame.DataFrame'>\n",
      "RangeIndex: 69117 entries, 0 to 69116\n",
      "Data columns (total 17 columns):\n",
      " #   Column             Non-Null Count  Dtype         \n",
      "---  ------             --------------  -----         \n",
      " 0   user_id            69117 non-null  object        \n",
      " 1   event_id           69117 non-null  object        \n",
      " 2   trx_date           69117 non-null  datetime64[ns]\n",
      " 3   price              69117 non-null  int64         \n",
      " 4   total_ticket_sold  69117 non-null  int64         \n",
      " 5   user_type          69117 non-null  object        \n",
      " 6   location           69117 non-null  object        \n",
      " 7   years              69117 non-null  int64         \n",
      " 8   month_year         69117 non-null  period[M]     \n",
      " 9   days               69117 non-null  int64         \n",
      " 10  hours              69117 non-null  int64         \n",
      " 11  date               69117 non-null  object        \n",
      " 12  dayofmonth         69117 non-null  int64         \n",
      " 13  total_price        69117 non-null  int64         \n",
      " 14  word_event         69117 non-null  object        \n",
      " 15  sub_category       69117 non-null  object        \n",
      " 16  invoice_number     69117 non-null  int64         \n",
      "dtypes: datetime64[ns](1), int64(8), object(7), period[M](1)\n",
      "memory usage: 9.0+ MB\n"
     ]
    }
   ],
   "source": [
    "trx_user_event.info()"
   ]
  },
  {
   "cell_type": "code",
   "execution_count": 65,
   "metadata": {},
   "outputs": [],
   "source": [
    "trx_user_event['invoice_number'] = trx_user_event['invoice_number'].astype('str')"
   ]
  },
  {
   "cell_type": "code",
   "execution_count": 67,
   "metadata": {},
   "outputs": [],
   "source": [
    "trx_user_event.to_csv('EVN/clean_df.csv',index=False)"
   ]
  }
 ],
 "metadata": {
  "kernelspec": {
   "display_name": "Python 3",
   "language": "python",
   "name": "python3"
  },
  "language_info": {
   "codemirror_mode": {
    "name": "ipython",
    "version": 3
   },
   "file_extension": ".py",
   "mimetype": "text/x-python",
   "name": "python",
   "nbconvert_exporter": "python",
   "pygments_lexer": "ipython3",
   "version": "3.8.3"
  }
 },
 "nbformat": 4,
 "nbformat_minor": 4
}
